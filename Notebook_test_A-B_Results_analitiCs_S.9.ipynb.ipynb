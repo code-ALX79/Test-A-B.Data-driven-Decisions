{
 "cells": [
  {
   "cell_type": "markdown",
   "metadata": {},
   "source": [
    "# Practicum/TrPlNTeN. PROYECT S9 Data-driven Decisions."
   ]
  },
  {
   "cell_type": "markdown",
   "metadata": {},
   "source": [
    "**En esta oportunidad Soy analista en una gran tienda en línea. Junto con el departamento de marketing  recopilamos una lista de hipótesis que pueden ayudar a aumentar los ingresos.**\n",
    "\n",
    "**Debemos que priorizar estas hipótesis, lanzar un test A/B y analizar los resultados.**\n",
    "\n",
    "\n",
    "**Tenemos datos con 9 diferentes hipotesis. Debemos aplicar freamworks como ICE Y RISE, para elvaluar cual es la mejor decision para llevara a cabo la hipotesis de acuerdo a estos rsultados.**\n",
    "\n",
    "**Analizaremos los resultados de nustro Test A/B para determinar cual es el cambio que tiene el mejor impacto de cada grupo.**\n",
    "\n",
    "**Tomaremos decisiones objetivas basadas en los resultados del analisis, los calculos y visualizaciones generadas a apartir de los datos que tenemos, y recomendaremos acciones precisas imediatas para que en el futuro los resultados sean los esperados.**"
   ]
  },
  {
   "cell_type": "markdown",
   "metadata": {},
   "source": [
    "# 1.En primera instancia analizaremos los datos que tienen las hipotesis a priorizar para verificar si necesitan una modificasion."
   ]
  },
  {
   "cell_type": "code",
   "execution_count": 11,
   "metadata": {},
   "outputs": [],
   "source": [
    "import pandas as pd\n",
    "import numpy as np\n",
    "import matplotlib.pyplot as plt\n",
    "from scipy.stats import norm"
   ]
  },
  {
   "cell_type": "code",
   "execution_count": 12,
   "metadata": {},
   "outputs": [],
   "source": [
    "Hyppthesis = \"hypotheses_us.1.csv\"\n",
    "\n",
    "Orders = \"orders_us.1.csv\"\n",
    "\n",
    "Visits = \"visits_us.1.csv\""
   ]
  },
  {
   "cell_type": "code",
   "execution_count": 13,
   "metadata": {},
   "outputs": [
    {
     "data": {
      "text/html": [
       "<div>\n",
       "<style scoped>\n",
       "    .dataframe tbody tr th:only-of-type {\n",
       "        vertical-align: middle;\n",
       "    }\n",
       "\n",
       "    .dataframe tbody tr th {\n",
       "        vertical-align: top;\n",
       "    }\n",
       "\n",
       "    .dataframe thead th {\n",
       "        text-align: right;\n",
       "    }\n",
       "</style>\n",
       "<table border=\"1\" class=\"dataframe\">\n",
       "  <thead>\n",
       "    <tr style=\"text-align: right;\">\n",
       "      <th></th>\n",
       "      <th>Hypothesis;Reach;Impact;Confidence;Effort</th>\n",
       "    </tr>\n",
       "  </thead>\n",
       "  <tbody>\n",
       "    <tr>\n",
       "      <th>0</th>\n",
       "      <td>Add two new channels for attracting traffic. T...</td>\n",
       "    </tr>\n",
       "    <tr>\n",
       "      <th>1</th>\n",
       "      <td>Launch your own delivery service. This will sh...</td>\n",
       "    </tr>\n",
       "    <tr>\n",
       "      <th>2</th>\n",
       "      <td>Add product recommendation blocks to the store...</td>\n",
       "    </tr>\n",
       "    <tr>\n",
       "      <th>3</th>\n",
       "      <td>Change the category structure. This will incre...</td>\n",
       "    </tr>\n",
       "    <tr>\n",
       "      <th>4</th>\n",
       "      <td>Change the background color on the main page. ...</td>\n",
       "    </tr>\n",
       "    <tr>\n",
       "      <th>5</th>\n",
       "      <td>Add a customer review page. This will increase...</td>\n",
       "    </tr>\n",
       "    <tr>\n",
       "      <th>6</th>\n",
       "      <td>Show banners with current offers and sales on ...</td>\n",
       "    </tr>\n",
       "    <tr>\n",
       "      <th>7</th>\n",
       "      <td>Add a subscription form to all the main pages....</td>\n",
       "    </tr>\n",
       "    <tr>\n",
       "      <th>8</th>\n",
       "      <td>Launch a promotion that gives users discounts ...</td>\n",
       "    </tr>\n",
       "  </tbody>\n",
       "</table>\n",
       "</div>"
      ],
      "text/plain": [
       "           Hypothesis;Reach;Impact;Confidence;Effort\n",
       "0  Add two new channels for attracting traffic. T...\n",
       "1  Launch your own delivery service. This will sh...\n",
       "2  Add product recommendation blocks to the store...\n",
       "3  Change the category structure. This will incre...\n",
       "4  Change the background color on the main page. ...\n",
       "5  Add a customer review page. This will increase...\n",
       "6  Show banners with current offers and sales on ...\n",
       "7  Add a subscription form to all the main pages....\n",
       "8  Launch a promotion that gives users discounts ..."
      ]
     },
     "execution_count": 13,
     "metadata": {},
     "output_type": "execute_result"
    }
   ],
   "source": [
    "df_hphs_raw = pd.read_csv('hypotheses_us.1.csv')\n",
    "df_orders = pd.read_csv('orders_us.1.csv')\n",
    "df_visitors = pd.read_csv('visits_us.1.csv')\n",
    "df_hphs_raw.head(10)"
   ]
  },
  {
   "cell_type": "markdown",
   "metadata": {},
   "source": [
    "Ahora vericaremos la informacion geneal de DataFrame."
   ]
  },
  {
   "cell_type": "code",
   "execution_count": 14,
   "metadata": {},
   "outputs": [
    {
     "name": "stdout",
     "output_type": "stream",
     "text": [
      "<class 'pandas.core.frame.DataFrame'>\n",
      "RangeIndex: 9 entries, 0 to 8\n",
      "Data columns (total 1 columns):\n",
      " #   Column                                     Non-Null Count  Dtype \n",
      "---  ------                                     --------------  ----- \n",
      " 0   Hypothesis;Reach;Impact;Confidence;Effort  9 non-null      object\n",
      "dtypes: object(1)\n",
      "memory usage: 1.4 KB\n"
     ]
    }
   ],
   "source": [
    "df_hphs_raw.info(memory_usage = 'deep')"
   ]
  },
  {
   "cell_type": "markdown",
   "metadata": {},
   "source": [
    "Notamos que las columnas estan en una sola fila, separadas por puntos y comas.Para hacer los calculos y priorizar las hipotesis, debemos separar esa columna separada por ; a multiples columnas que tengan datos de punto de coma flotante para que sean utilies, y priorizar la mejor hippotesis. "
   ]
  },
  {
   "cell_type": "code",
   "execution_count": 15,
   "metadata": {},
   "outputs": [
    {
     "data": {
      "text/html": [
       "<div>\n",
       "<style scoped>\n",
       "    .dataframe tbody tr th:only-of-type {\n",
       "        vertical-align: middle;\n",
       "    }\n",
       "\n",
       "    .dataframe tbody tr th {\n",
       "        vertical-align: top;\n",
       "    }\n",
       "\n",
       "    .dataframe thead th {\n",
       "        text-align: right;\n",
       "    }\n",
       "</style>\n",
       "<table border=\"1\" class=\"dataframe\">\n",
       "  <thead>\n",
       "    <tr style=\"text-align: right;\">\n",
       "      <th></th>\n",
       "      <th>hypotheses</th>\n",
       "      <th>reach</th>\n",
       "      <th>impact</th>\n",
       "      <th>confidence</th>\n",
       "      <th>effort</th>\n",
       "    </tr>\n",
       "  </thead>\n",
       "  <tbody>\n",
       "    <tr>\n",
       "      <th>0</th>\n",
       "      <td>Add two new channels for attracting traffic. T...</td>\n",
       "      <td>3</td>\n",
       "      <td>10</td>\n",
       "      <td>8</td>\n",
       "      <td>6</td>\n",
       "    </tr>\n",
       "    <tr>\n",
       "      <th>1</th>\n",
       "      <td>Launch your own delivery service. This will sh...</td>\n",
       "      <td>2</td>\n",
       "      <td>5</td>\n",
       "      <td>4</td>\n",
       "      <td>10</td>\n",
       "    </tr>\n",
       "    <tr>\n",
       "      <th>2</th>\n",
       "      <td>Add product recommendation blocks to the store...</td>\n",
       "      <td>8</td>\n",
       "      <td>3</td>\n",
       "      <td>7</td>\n",
       "      <td>3</td>\n",
       "    </tr>\n",
       "    <tr>\n",
       "      <th>3</th>\n",
       "      <td>Change the category structure. This will incre...</td>\n",
       "      <td>8</td>\n",
       "      <td>3</td>\n",
       "      <td>3</td>\n",
       "      <td>8</td>\n",
       "    </tr>\n",
       "    <tr>\n",
       "      <th>4</th>\n",
       "      <td>Change the background color on the main page. ...</td>\n",
       "      <td>3</td>\n",
       "      <td>1</td>\n",
       "      <td>1</td>\n",
       "      <td>1</td>\n",
       "    </tr>\n",
       "    <tr>\n",
       "      <th>5</th>\n",
       "      <td>Add a customer review page. This will increase...</td>\n",
       "      <td>3</td>\n",
       "      <td>2</td>\n",
       "      <td>2</td>\n",
       "      <td>3</td>\n",
       "    </tr>\n",
       "    <tr>\n",
       "      <th>6</th>\n",
       "      <td>Show banners with current offers and sales on ...</td>\n",
       "      <td>5</td>\n",
       "      <td>3</td>\n",
       "      <td>8</td>\n",
       "      <td>3</td>\n",
       "    </tr>\n",
       "    <tr>\n",
       "      <th>7</th>\n",
       "      <td>Add a subscription form to all the main pages....</td>\n",
       "      <td>10</td>\n",
       "      <td>7</td>\n",
       "      <td>8</td>\n",
       "      <td>5</td>\n",
       "    </tr>\n",
       "    <tr>\n",
       "      <th>8</th>\n",
       "      <td>Launch a promotion that gives users discounts ...</td>\n",
       "      <td>1</td>\n",
       "      <td>9</td>\n",
       "      <td>9</td>\n",
       "      <td>5</td>\n",
       "    </tr>\n",
       "  </tbody>\n",
       "</table>\n",
       "</div>"
      ],
      "text/plain": [
       "                                          hypotheses reach impact confidence  \\\n",
       "0  Add two new channels for attracting traffic. T...     3     10          8   \n",
       "1  Launch your own delivery service. This will sh...     2      5          4   \n",
       "2  Add product recommendation blocks to the store...     8      3          7   \n",
       "3  Change the category structure. This will incre...     8      3          3   \n",
       "4  Change the background color on the main page. ...     3      1          1   \n",
       "5  Add a customer review page. This will increase...     3      2          2   \n",
       "6  Show banners with current offers and sales on ...     5      3          8   \n",
       "7  Add a subscription form to all the main pages....    10      7          8   \n",
       "8  Launch a promotion that gives users discounts ...     1      9          9   \n",
       "\n",
       "  effort  \n",
       "0      6  \n",
       "1     10  \n",
       "2      3  \n",
       "3      8  \n",
       "4      1  \n",
       "5      3  \n",
       "6      3  \n",
       "7      5  \n",
       "8      5  "
      ]
     },
     "execution_count": 15,
     "metadata": {},
     "output_type": "execute_result"
    }
   ],
   "source": [
    "df_hphs = df_hphs_raw['Hypothesis;Reach;Impact;Confidence;Effort'].str.split(';', expand=True)\n",
    "df_hphs.columns = ['hypotheses', 'reach', 'impact', 'confidence', 'effort']\n",
    "df_hphs.head(10)"
   ]
  },
  {
   "cell_type": "markdown",
   "metadata": {},
   "source": [
    "Separamos de esta manera la única columna presente en el DataFrame en múltiples columnas usando el delimitador ';'.Ahora vericaremos la informacion general de nuevo."
   ]
  },
  {
   "cell_type": "code",
   "execution_count": 16,
   "metadata": {},
   "outputs": [
    {
     "name": "stdout",
     "output_type": "stream",
     "text": [
      "<class 'pandas.core.frame.DataFrame'>\n",
      "RangeIndex: 9 entries, 0 to 8\n",
      "Data columns (total 5 columns):\n",
      " #   Column      Non-Null Count  Dtype \n",
      "---  ------      --------------  ----- \n",
      " 0   hypotheses  9 non-null      object\n",
      " 1   reach       9 non-null      object\n",
      " 2   impact      9 non-null      object\n",
      " 3   confidence  9 non-null      object\n",
      " 4   effort      9 non-null      object\n",
      "dtypes: object(5)\n",
      "memory usage: 492.0+ bytes\n"
     ]
    }
   ],
   "source": [
    "df_hphs.info()"
   ]
  },
  {
   "cell_type": "markdown",
   "metadata": {},
   "source": [
    "Una vez que tenemos nuestras columnas por separado, solo resta transformar los tipos de datos al correcto, para realizar los calculos  de priorizacion de hipotesis necesarios."
   ]
  },
  {
   "cell_type": "code",
   "execution_count": 17,
   "metadata": {},
   "outputs": [
    {
     "data": {
      "text/html": [
       "<div>\n",
       "<style scoped>\n",
       "    .dataframe tbody tr th:only-of-type {\n",
       "        vertical-align: middle;\n",
       "    }\n",
       "\n",
       "    .dataframe tbody tr th {\n",
       "        vertical-align: top;\n",
       "    }\n",
       "\n",
       "    .dataframe thead th {\n",
       "        text-align: right;\n",
       "    }\n",
       "</style>\n",
       "<table border=\"1\" class=\"dataframe\">\n",
       "  <thead>\n",
       "    <tr style=\"text-align: right;\">\n",
       "      <th></th>\n",
       "      <th>hypotheses</th>\n",
       "      <th>reach</th>\n",
       "      <th>impact</th>\n",
       "      <th>confidence</th>\n",
       "      <th>effort</th>\n",
       "    </tr>\n",
       "  </thead>\n",
       "  <tbody>\n",
       "    <tr>\n",
       "      <th>0</th>\n",
       "      <td>Add two new channels for attracting traffic. T...</td>\n",
       "      <td>3.0</td>\n",
       "      <td>10.0</td>\n",
       "      <td>8.0</td>\n",
       "      <td>6.0</td>\n",
       "    </tr>\n",
       "    <tr>\n",
       "      <th>1</th>\n",
       "      <td>Launch your own delivery service. This will sh...</td>\n",
       "      <td>2.0</td>\n",
       "      <td>5.0</td>\n",
       "      <td>4.0</td>\n",
       "      <td>10.0</td>\n",
       "    </tr>\n",
       "    <tr>\n",
       "      <th>2</th>\n",
       "      <td>Add product recommendation blocks to the store...</td>\n",
       "      <td>8.0</td>\n",
       "      <td>3.0</td>\n",
       "      <td>7.0</td>\n",
       "      <td>3.0</td>\n",
       "    </tr>\n",
       "    <tr>\n",
       "      <th>3</th>\n",
       "      <td>Change the category structure. This will incre...</td>\n",
       "      <td>8.0</td>\n",
       "      <td>3.0</td>\n",
       "      <td>3.0</td>\n",
       "      <td>8.0</td>\n",
       "    </tr>\n",
       "    <tr>\n",
       "      <th>4</th>\n",
       "      <td>Change the background color on the main page. ...</td>\n",
       "      <td>3.0</td>\n",
       "      <td>1.0</td>\n",
       "      <td>1.0</td>\n",
       "      <td>1.0</td>\n",
       "    </tr>\n",
       "  </tbody>\n",
       "</table>\n",
       "</div>"
      ],
      "text/plain": [
       "                                          hypotheses  reach  impact  \\\n",
       "0  Add two new channels for attracting traffic. T...    3.0    10.0   \n",
       "1  Launch your own delivery service. This will sh...    2.0     5.0   \n",
       "2  Add product recommendation blocks to the store...    8.0     3.0   \n",
       "3  Change the category structure. This will incre...    8.0     3.0   \n",
       "4  Change the background color on the main page. ...    3.0     1.0   \n",
       "\n",
       "   confidence  effort  \n",
       "0         8.0     6.0  \n",
       "1         4.0    10.0  \n",
       "2         7.0     3.0  \n",
       "3         3.0     8.0  \n",
       "4         1.0     1.0  "
      ]
     },
     "metadata": {},
     "output_type": "display_data"
    },
    {
     "name": "stdout",
     "output_type": "stream",
     "text": [
      "<class 'pandas.core.frame.DataFrame'>\n",
      "RangeIndex: 9 entries, 0 to 8\n",
      "Data columns (total 5 columns):\n",
      " #   Column      Non-Null Count  Dtype  \n",
      "---  ------      --------------  -----  \n",
      " 0   hypotheses  9 non-null      object \n",
      " 1   reach       9 non-null      float64\n",
      " 2   impact      9 non-null      float64\n",
      " 3   confidence  9 non-null      float64\n",
      " 4   effort      9 non-null      float64\n",
      "dtypes: float64(4), object(1)\n",
      "memory usage: 1.6 KB\n"
     ]
    }
   ],
   "source": [
    "df_hphs['reach'] = df_hphs['reach'].astype(float)\n",
    "df_hphs['impact'] = df_hphs['impact'].astype(float)\n",
    "df_hphs['confidence'] = df_hphs['confidence'].astype(float)\n",
    "df_hphs['effort'] = df_hphs['effort'].astype(float)\n",
    "display(df_hphs.head())\n",
    "df_hphs.info(memory_usage = 'deep')"
   ]
  },
  {
   "cell_type": "markdown",
   "metadata": {},
   "source": [
    "Tenemos entonces nueve hipótesis sobre cómo aumentar los ingresos de una tienda en línea con riesgo(Reach),impacto(Impact), confianza(Confidence) y esfuerzo(Effort).Con el tipo correcto de datos y en aplicado el formato snake_case. Ahora vamos a aplicar el freamwork ICE para  priorizar hypotesis."
   ]
  },
  {
   "cell_type": "code",
   "execution_count": 18,
   "metadata": {},
   "outputs": [
    {
     "data": {
      "text/html": [
       "<div>\n",
       "<style scoped>\n",
       "    .dataframe tbody tr th:only-of-type {\n",
       "        vertical-align: middle;\n",
       "    }\n",
       "\n",
       "    .dataframe tbody tr th {\n",
       "        vertical-align: top;\n",
       "    }\n",
       "\n",
       "    .dataframe thead th {\n",
       "        text-align: right;\n",
       "    }\n",
       "</style>\n",
       "<table border=\"1\" class=\"dataframe\">\n",
       "  <thead>\n",
       "    <tr style=\"text-align: right;\">\n",
       "      <th></th>\n",
       "      <th>hypotheses</th>\n",
       "      <th>reach</th>\n",
       "      <th>impact</th>\n",
       "      <th>confidence</th>\n",
       "      <th>effort</th>\n",
       "      <th>ICE</th>\n",
       "    </tr>\n",
       "  </thead>\n",
       "  <tbody>\n",
       "    <tr>\n",
       "      <th>8</th>\n",
       "      <td>Launch a promotion that gives users discounts ...</td>\n",
       "      <td>1.0</td>\n",
       "      <td>9.0</td>\n",
       "      <td>9.0</td>\n",
       "      <td>5.0</td>\n",
       "      <td>16.200000</td>\n",
       "    </tr>\n",
       "    <tr>\n",
       "      <th>0</th>\n",
       "      <td>Add two new channels for attracting traffic. T...</td>\n",
       "      <td>3.0</td>\n",
       "      <td>10.0</td>\n",
       "      <td>8.0</td>\n",
       "      <td>6.0</td>\n",
       "      <td>13.333333</td>\n",
       "    </tr>\n",
       "    <tr>\n",
       "      <th>7</th>\n",
       "      <td>Add a subscription form to all the main pages....</td>\n",
       "      <td>10.0</td>\n",
       "      <td>7.0</td>\n",
       "      <td>8.0</td>\n",
       "      <td>5.0</td>\n",
       "      <td>11.200000</td>\n",
       "    </tr>\n",
       "    <tr>\n",
       "      <th>6</th>\n",
       "      <td>Show banners with current offers and sales on ...</td>\n",
       "      <td>5.0</td>\n",
       "      <td>3.0</td>\n",
       "      <td>8.0</td>\n",
       "      <td>3.0</td>\n",
       "      <td>8.000000</td>\n",
       "    </tr>\n",
       "    <tr>\n",
       "      <th>2</th>\n",
       "      <td>Add product recommendation blocks to the store...</td>\n",
       "      <td>8.0</td>\n",
       "      <td>3.0</td>\n",
       "      <td>7.0</td>\n",
       "      <td>3.0</td>\n",
       "      <td>7.000000</td>\n",
       "    </tr>\n",
       "    <tr>\n",
       "      <th>1</th>\n",
       "      <td>Launch your own delivery service. This will sh...</td>\n",
       "      <td>2.0</td>\n",
       "      <td>5.0</td>\n",
       "      <td>4.0</td>\n",
       "      <td>10.0</td>\n",
       "      <td>2.000000</td>\n",
       "    </tr>\n",
       "    <tr>\n",
       "      <th>5</th>\n",
       "      <td>Add a customer review page. This will increase...</td>\n",
       "      <td>3.0</td>\n",
       "      <td>2.0</td>\n",
       "      <td>2.0</td>\n",
       "      <td>3.0</td>\n",
       "      <td>1.333333</td>\n",
       "    </tr>\n",
       "    <tr>\n",
       "      <th>3</th>\n",
       "      <td>Change the category structure. This will incre...</td>\n",
       "      <td>8.0</td>\n",
       "      <td>3.0</td>\n",
       "      <td>3.0</td>\n",
       "      <td>8.0</td>\n",
       "      <td>1.125000</td>\n",
       "    </tr>\n",
       "    <tr>\n",
       "      <th>4</th>\n",
       "      <td>Change the background color on the main page. ...</td>\n",
       "      <td>3.0</td>\n",
       "      <td>1.0</td>\n",
       "      <td>1.0</td>\n",
       "      <td>1.0</td>\n",
       "      <td>1.000000</td>\n",
       "    </tr>\n",
       "  </tbody>\n",
       "</table>\n",
       "</div>"
      ],
      "text/plain": [
       "                                          hypotheses  reach  impact  \\\n",
       "8  Launch a promotion that gives users discounts ...    1.0     9.0   \n",
       "0  Add two new channels for attracting traffic. T...    3.0    10.0   \n",
       "7  Add a subscription form to all the main pages....   10.0     7.0   \n",
       "6  Show banners with current offers and sales on ...    5.0     3.0   \n",
       "2  Add product recommendation blocks to the store...    8.0     3.0   \n",
       "1  Launch your own delivery service. This will sh...    2.0     5.0   \n",
       "5  Add a customer review page. This will increase...    3.0     2.0   \n",
       "3  Change the category structure. This will incre...    8.0     3.0   \n",
       "4  Change the background color on the main page. ...    3.0     1.0   \n",
       "\n",
       "   confidence  effort        ICE  \n",
       "8         9.0     5.0  16.200000  \n",
       "0         8.0     6.0  13.333333  \n",
       "7         8.0     5.0  11.200000  \n",
       "6         8.0     3.0   8.000000  \n",
       "2         7.0     3.0   7.000000  \n",
       "1         4.0    10.0   2.000000  \n",
       "5         2.0     3.0   1.333333  \n",
       "3         3.0     8.0   1.125000  \n",
       "4         1.0     1.0   1.000000  "
      ]
     },
     "execution_count": 18,
     "metadata": {},
     "output_type": "execute_result"
    }
   ],
   "source": [
    "df_hphs['ICE'] = (df_hphs['impact'] * df_hphs['confidence']) / df_hphs['effort']\n",
    "df_hphs_sorted = df_hphs.sort_values(by='ICE', ascending=False)\n",
    "df_hphs_sorted[['hypotheses', 'reach', 'impact', 'confidence', 'effort', 'ICE']]"
   ]
  },
  {
   "cell_type": "markdown",
   "metadata": {},
   "source": [
    "Calculamos el Impacto la confianza y la fiablidad (ICE), de cada una las hipotesis multiplicando el impacto de cada una de las hipotesis por la confianza de estas mismas, dividimos este valor por la cantidad de esfuerzo necesario para llevar a cabo las hipótesis, y ordenamos esta puntuacion de (ICE) de forma descendence."
   ]
  },
  {
   "cell_type": "markdown",
   "metadata": {},
   "source": [
    "Ahora para llegar a una conclusion especifica, vamos a visualizar los resultados de calificasiones ICE en un grafico de barras."
   ]
  },
  {
   "cell_type": "code",
   "execution_count": 19,
   "metadata": {},
   "outputs": [
    {
     "data": {
      "image/png": "[encoded data removed]",
      "text/plain": [
       "<Figure size 1200x800 with 1 Axes>"
      ]
     },
     "metadata": {},
     "output_type": "display_data"
    }
   ],
   "source": [
    "plt.figure(figsize=(12, 8))\n",
    "plt.barh(df_hphs_sorted['hypotheses'], df_hphs_sorted['ICE'], color='purple')\n",
    "plt.xlabel('Puntuación ICE')\n",
    "plt.ylabel('Hipótesis')\n",
    "plt.title('Prioridad de las Hipótesis según la Puntuación ICE')\n",
    "plt.gca().invert_yaxis() \n",
    "plt.show()"
   ]
  },
  {
   "cell_type": "markdown",
   "metadata": {},
   "source": [
    "**Al parecer la mejor puntuacion en este freamwork es para la hipotesis que postula que lancemos un servicio de deliveri para la tienda en linea, y de esta forma poder analizar el tiempo de entrega de cada uno de los pedidos.** "
   ]
  },
  {
   "cell_type": "markdown",
   "metadata": {},
   "source": [
    "Aplicaremos  tambien otro freamwork  parecido a este llamado (RISE), para verificar si el resultado es el mismo, o difieren sus calificasiones, en cuyo caso deberiamos presentar una explicasion clara de esta diferenciasion."
   ]
  },
  {
   "cell_type": "code",
   "execution_count": 20,
   "metadata": {},
   "outputs": [
    {
     "data": {
      "text/html": [
       "<div>\n",
       "<style scoped>\n",
       "    .dataframe tbody tr th:only-of-type {\n",
       "        vertical-align: middle;\n",
       "    }\n",
       "\n",
       "    .dataframe tbody tr th {\n",
       "        vertical-align: top;\n",
       "    }\n",
       "\n",
       "    .dataframe thead th {\n",
       "        text-align: right;\n",
       "    }\n",
       "</style>\n",
       "<table border=\"1\" class=\"dataframe\">\n",
       "  <thead>\n",
       "    <tr style=\"text-align: right;\">\n",
       "      <th></th>\n",
       "      <th>hypotheses</th>\n",
       "      <th>reach</th>\n",
       "      <th>impact</th>\n",
       "      <th>confidence</th>\n",
       "      <th>effort</th>\n",
       "      <th>ICE</th>\n",
       "      <th>RICE</th>\n",
       "    </tr>\n",
       "  </thead>\n",
       "  <tbody>\n",
       "    <tr>\n",
       "      <th>0</th>\n",
       "      <td>Add two new channels for attracting traffic. T...</td>\n",
       "      <td>3.0</td>\n",
       "      <td>10.0</td>\n",
       "      <td>8.0</td>\n",
       "      <td>6.0</td>\n",
       "      <td>13.333333</td>\n",
       "      <td>40.0</td>\n",
       "    </tr>\n",
       "    <tr>\n",
       "      <th>1</th>\n",
       "      <td>Launch your own delivery service. This will sh...</td>\n",
       "      <td>2.0</td>\n",
       "      <td>5.0</td>\n",
       "      <td>4.0</td>\n",
       "      <td>10.0</td>\n",
       "      <td>2.000000</td>\n",
       "      <td>4.0</td>\n",
       "    </tr>\n",
       "    <tr>\n",
       "      <th>2</th>\n",
       "      <td>Add product recommendation blocks to the store...</td>\n",
       "      <td>8.0</td>\n",
       "      <td>3.0</td>\n",
       "      <td>7.0</td>\n",
       "      <td>3.0</td>\n",
       "      <td>7.000000</td>\n",
       "      <td>56.0</td>\n",
       "    </tr>\n",
       "    <tr>\n",
       "      <th>3</th>\n",
       "      <td>Change the category structure. This will incre...</td>\n",
       "      <td>8.0</td>\n",
       "      <td>3.0</td>\n",
       "      <td>3.0</td>\n",
       "      <td>8.0</td>\n",
       "      <td>1.125000</td>\n",
       "      <td>9.0</td>\n",
       "    </tr>\n",
       "    <tr>\n",
       "      <th>4</th>\n",
       "      <td>Change the background color on the main page. ...</td>\n",
       "      <td>3.0</td>\n",
       "      <td>1.0</td>\n",
       "      <td>1.0</td>\n",
       "      <td>1.0</td>\n",
       "      <td>1.000000</td>\n",
       "      <td>3.0</td>\n",
       "    </tr>\n",
       "    <tr>\n",
       "      <th>5</th>\n",
       "      <td>Add a customer review page. This will increase...</td>\n",
       "      <td>3.0</td>\n",
       "      <td>2.0</td>\n",
       "      <td>2.0</td>\n",
       "      <td>3.0</td>\n",
       "      <td>1.333333</td>\n",
       "      <td>4.0</td>\n",
       "    </tr>\n",
       "    <tr>\n",
       "      <th>6</th>\n",
       "      <td>Show banners with current offers and sales on ...</td>\n",
       "      <td>5.0</td>\n",
       "      <td>3.0</td>\n",
       "      <td>8.0</td>\n",
       "      <td>3.0</td>\n",
       "      <td>8.000000</td>\n",
       "      <td>40.0</td>\n",
       "    </tr>\n",
       "    <tr>\n",
       "      <th>7</th>\n",
       "      <td>Add a subscription form to all the main pages....</td>\n",
       "      <td>10.0</td>\n",
       "      <td>7.0</td>\n",
       "      <td>8.0</td>\n",
       "      <td>5.0</td>\n",
       "      <td>11.200000</td>\n",
       "      <td>112.0</td>\n",
       "    </tr>\n",
       "    <tr>\n",
       "      <th>8</th>\n",
       "      <td>Launch a promotion that gives users discounts ...</td>\n",
       "      <td>1.0</td>\n",
       "      <td>9.0</td>\n",
       "      <td>9.0</td>\n",
       "      <td>5.0</td>\n",
       "      <td>16.200000</td>\n",
       "      <td>16.2</td>\n",
       "    </tr>\n",
       "  </tbody>\n",
       "</table>\n",
       "</div>"
      ],
      "text/plain": [
       "                                          hypotheses  reach  impact  \\\n",
       "0  Add two new channels for attracting traffic. T...    3.0    10.0   \n",
       "1  Launch your own delivery service. This will sh...    2.0     5.0   \n",
       "2  Add product recommendation blocks to the store...    8.0     3.0   \n",
       "3  Change the category structure. This will incre...    8.0     3.0   \n",
       "4  Change the background color on the main page. ...    3.0     1.0   \n",
       "5  Add a customer review page. This will increase...    3.0     2.0   \n",
       "6  Show banners with current offers and sales on ...    5.0     3.0   \n",
       "7  Add a subscription form to all the main pages....   10.0     7.0   \n",
       "8  Launch a promotion that gives users discounts ...    1.0     9.0   \n",
       "\n",
       "   confidence  effort        ICE   RICE  \n",
       "0         8.0     6.0  13.333333   40.0  \n",
       "1         4.0    10.0   2.000000    4.0  \n",
       "2         7.0     3.0   7.000000   56.0  \n",
       "3         3.0     8.0   1.125000    9.0  \n",
       "4         1.0     1.0   1.000000    3.0  \n",
       "5         2.0     3.0   1.333333    4.0  \n",
       "6         8.0     3.0   8.000000   40.0  \n",
       "7         8.0     5.0  11.200000  112.0  \n",
       "8         9.0     5.0  16.200000   16.2  "
      ]
     },
     "execution_count": 20,
     "metadata": {},
     "output_type": "execute_result"
    }
   ],
   "source": [
    "df_hphs['RICE'] = (df_hphs['reach'] * df_hphs['impact'] * df_hphs['confidence']) / df_hphs['effort']\n",
    "df_hphs.head(10)"
   ]
  },
  {
   "cell_type": "markdown",
   "metadata": {},
   "source": [
    "Ahora tenemos una columna que calcula el (RICE) mediante la multiplicasion del riego de cada hipotesis, el impacto que genera, y la confianzad de cada una de ellas, dividiendo este resulytado por el esfuerzo requerido de estas hipotesis."
   ]
  },
  {
   "cell_type": "code",
   "execution_count": 21,
   "metadata": {},
   "outputs": [
    {
     "data": {
      "text/html": [
       "<div>\n",
       "<style scoped>\n",
       "    .dataframe tbody tr th:only-of-type {\n",
       "        vertical-align: middle;\n",
       "    }\n",
       "\n",
       "    .dataframe tbody tr th {\n",
       "        vertical-align: top;\n",
       "    }\n",
       "\n",
       "    .dataframe thead th {\n",
       "        text-align: right;\n",
       "    }\n",
       "</style>\n",
       "<table border=\"1\" class=\"dataframe\">\n",
       "  <thead>\n",
       "    <tr style=\"text-align: right;\">\n",
       "      <th></th>\n",
       "      <th>hypotheses</th>\n",
       "      <th>reach</th>\n",
       "      <th>impact</th>\n",
       "      <th>confidence</th>\n",
       "      <th>effort</th>\n",
       "      <th>RICE</th>\n",
       "    </tr>\n",
       "  </thead>\n",
       "  <tbody>\n",
       "    <tr>\n",
       "      <th>7</th>\n",
       "      <td>Add a subscription form to all the main pages....</td>\n",
       "      <td>10.0</td>\n",
       "      <td>7.0</td>\n",
       "      <td>8.0</td>\n",
       "      <td>5.0</td>\n",
       "      <td>112.0</td>\n",
       "    </tr>\n",
       "    <tr>\n",
       "      <th>2</th>\n",
       "      <td>Add product recommendation blocks to the store...</td>\n",
       "      <td>8.0</td>\n",
       "      <td>3.0</td>\n",
       "      <td>7.0</td>\n",
       "      <td>3.0</td>\n",
       "      <td>56.0</td>\n",
       "    </tr>\n",
       "    <tr>\n",
       "      <th>0</th>\n",
       "      <td>Add two new channels for attracting traffic. T...</td>\n",
       "      <td>3.0</td>\n",
       "      <td>10.0</td>\n",
       "      <td>8.0</td>\n",
       "      <td>6.0</td>\n",
       "      <td>40.0</td>\n",
       "    </tr>\n",
       "    <tr>\n",
       "      <th>6</th>\n",
       "      <td>Show banners with current offers and sales on ...</td>\n",
       "      <td>5.0</td>\n",
       "      <td>3.0</td>\n",
       "      <td>8.0</td>\n",
       "      <td>3.0</td>\n",
       "      <td>40.0</td>\n",
       "    </tr>\n",
       "    <tr>\n",
       "      <th>8</th>\n",
       "      <td>Launch a promotion that gives users discounts ...</td>\n",
       "      <td>1.0</td>\n",
       "      <td>9.0</td>\n",
       "      <td>9.0</td>\n",
       "      <td>5.0</td>\n",
       "      <td>16.2</td>\n",
       "    </tr>\n",
       "    <tr>\n",
       "      <th>3</th>\n",
       "      <td>Change the category structure. This will incre...</td>\n",
       "      <td>8.0</td>\n",
       "      <td>3.0</td>\n",
       "      <td>3.0</td>\n",
       "      <td>8.0</td>\n",
       "      <td>9.0</td>\n",
       "    </tr>\n",
       "    <tr>\n",
       "      <th>1</th>\n",
       "      <td>Launch your own delivery service. This will sh...</td>\n",
       "      <td>2.0</td>\n",
       "      <td>5.0</td>\n",
       "      <td>4.0</td>\n",
       "      <td>10.0</td>\n",
       "      <td>4.0</td>\n",
       "    </tr>\n",
       "    <tr>\n",
       "      <th>5</th>\n",
       "      <td>Add a customer review page. This will increase...</td>\n",
       "      <td>3.0</td>\n",
       "      <td>2.0</td>\n",
       "      <td>2.0</td>\n",
       "      <td>3.0</td>\n",
       "      <td>4.0</td>\n",
       "    </tr>\n",
       "    <tr>\n",
       "      <th>4</th>\n",
       "      <td>Change the background color on the main page. ...</td>\n",
       "      <td>3.0</td>\n",
       "      <td>1.0</td>\n",
       "      <td>1.0</td>\n",
       "      <td>1.0</td>\n",
       "      <td>3.0</td>\n",
       "    </tr>\n",
       "  </tbody>\n",
       "</table>\n",
       "</div>"
      ],
      "text/plain": [
       "                                          hypotheses  reach  impact  \\\n",
       "7  Add a subscription form to all the main pages....   10.0     7.0   \n",
       "2  Add product recommendation blocks to the store...    8.0     3.0   \n",
       "0  Add two new channels for attracting traffic. T...    3.0    10.0   \n",
       "6  Show banners with current offers and sales on ...    5.0     3.0   \n",
       "8  Launch a promotion that gives users discounts ...    1.0     9.0   \n",
       "3  Change the category structure. This will incre...    8.0     3.0   \n",
       "1  Launch your own delivery service. This will sh...    2.0     5.0   \n",
       "5  Add a customer review page. This will increase...    3.0     2.0   \n",
       "4  Change the background color on the main page. ...    3.0     1.0   \n",
       "\n",
       "   confidence  effort   RICE  \n",
       "7         8.0     5.0  112.0  \n",
       "2         7.0     3.0   56.0  \n",
       "0         8.0     6.0   40.0  \n",
       "6         8.0     3.0   40.0  \n",
       "8         9.0     5.0   16.2  \n",
       "3         3.0     8.0    9.0  \n",
       "1         4.0    10.0    4.0  \n",
       "5         2.0     3.0    4.0  \n",
       "4         1.0     1.0    3.0  "
      ]
     },
     "execution_count": 21,
     "metadata": {},
     "output_type": "execute_result"
    }
   ],
   "source": [
    "df_hphs_sorted_rice = df_hphs.sort_values(by='RICE', ascending=False)\n",
    "df_hphs_sorted_rice[['hypotheses', 'reach', 'impact', 'confidence', 'effort', 'RICE']]"
   ]
  },
  {
   "cell_type": "markdown",
   "metadata": {},
   "source": [
    "Ordenamos el resultado de este freamwork de forma decsendente y verificamos las hipotesis ordenadas por RICE. y vamos a visualizarla tambien en un grafico de barras para llegara a conclusiones."
   ]
  },
  {
   "cell_type": "code",
   "execution_count": 22,
   "metadata": {},
   "outputs": [
    {
     "data": {
      "image/png": "[encoded data removed]",
      "text/plain": [
       "<Figure size 1000x600 with 1 Axes>"
      ]
     },
     "metadata": {},
     "output_type": "display_data"
    }
   ],
   "source": [
    "plt.figure(figsize=(10, 6))\n",
    "plt.barh(df_hphs_sorted_rice['hypotheses'], df_hphs_sorted_rice['RICE'], color='brown')\n",
    "plt.xlabel('RICE Score')\n",
    "plt.ylabel('Hypotheses')\n",
    "plt.title('Hypotheses Prioritized by RICE')\n",
    "plt.gca().invert_yaxis() \n",
    "plt.show()"
   ]
  },
  {
   "cell_type": "markdown",
   "metadata": {},
   "source": [
    "**En este freamwork, la hypotesis que resulto mas comfiable postula en cambio que debemos Agregar un formulario de suscripción a todas las páginas principales, para compilar de esta forma una lista de correos.**"
   ]
  },
  {
   "cell_type": "markdown",
   "metadata": {},
   "source": [
    "Ahora vamos a obtener conclusiones, respecto a la priorizacion de las hypotesis segun este analisis preliminar."
   ]
  },
  {
   "cell_type": "markdown",
   "metadata": {},
   "source": [
    "***Las hipótesis priorizadas por ICE se basan principalmente en el impacto y la confianza, sin considerar el alcance del usuario.***\n",
    "\n",
    "***Las hipótesis priorizadas por RICE tienen en cuenta tanto el impacto como el alcance del usuario, ofreciendo una perspectiva más amplia del potencial efecto sobre los usuarios.***\n",
    "\n",
    "\n",
    "***Es probable que  este cambio de posición significativo entre ICE y RICE de las hipótesis, especialmente se deba a aquellas con alto alcance pero impacto o confianza moderados.***"
   ]
  },
  {
   "cell_type": "markdown",
   "metadata": {},
   "source": [
    "# 2. Ahora pasaremos alanalisis del  test A/B  "
   ]
  },
  {
   "cell_type": "markdown",
   "metadata": {},
   "source": [
    "Realizamos un test A/B y obtuvios los resultados descritos en los archivos DataFrames df_orders y df_visitors. Asi que vamos a verificrlos, para realizar un preprocesamineto de los mismos.Comnezaremos con el dataframe de los pedidos de la tienda."
   ]
  },
  {
   "cell_type": "code",
   "execution_count": 23,
   "metadata": {},
   "outputs": [
    {
     "data": {
      "text/html": [
       "<div>\n",
       "<style scoped>\n",
       "    .dataframe tbody tr th:only-of-type {\n",
       "        vertical-align: middle;\n",
       "    }\n",
       "\n",
       "    .dataframe tbody tr th {\n",
       "        vertical-align: top;\n",
       "    }\n",
       "\n",
       "    .dataframe thead th {\n",
       "        text-align: right;\n",
       "    }\n",
       "</style>\n",
       "<table border=\"1\" class=\"dataframe\">\n",
       "  <thead>\n",
       "    <tr style=\"text-align: right;\">\n",
       "      <th></th>\n",
       "      <th>transactionId</th>\n",
       "      <th>visitorId</th>\n",
       "      <th>date</th>\n",
       "      <th>revenue</th>\n",
       "      <th>group</th>\n",
       "    </tr>\n",
       "  </thead>\n",
       "  <tbody>\n",
       "    <tr>\n",
       "      <th>0</th>\n",
       "      <td>3667963787</td>\n",
       "      <td>3312258926</td>\n",
       "      <td>2019-08-15</td>\n",
       "      <td>30.4</td>\n",
       "      <td>B</td>\n",
       "    </tr>\n",
       "    <tr>\n",
       "      <th>1</th>\n",
       "      <td>2804400009</td>\n",
       "      <td>3642806036</td>\n",
       "      <td>2019-08-15</td>\n",
       "      <td>15.2</td>\n",
       "      <td>B</td>\n",
       "    </tr>\n",
       "    <tr>\n",
       "      <th>2</th>\n",
       "      <td>2961555356</td>\n",
       "      <td>4069496402</td>\n",
       "      <td>2019-08-15</td>\n",
       "      <td>10.2</td>\n",
       "      <td>A</td>\n",
       "    </tr>\n",
       "    <tr>\n",
       "      <th>3</th>\n",
       "      <td>3797467345</td>\n",
       "      <td>1196621759</td>\n",
       "      <td>2019-08-15</td>\n",
       "      <td>155.1</td>\n",
       "      <td>B</td>\n",
       "    </tr>\n",
       "    <tr>\n",
       "      <th>4</th>\n",
       "      <td>2282983706</td>\n",
       "      <td>2322279887</td>\n",
       "      <td>2019-08-15</td>\n",
       "      <td>40.5</td>\n",
       "      <td>B</td>\n",
       "    </tr>\n",
       "    <tr>\n",
       "      <th>5</th>\n",
       "      <td>182168103</td>\n",
       "      <td>935554773</td>\n",
       "      <td>2019-08-15</td>\n",
       "      <td>35.0</td>\n",
       "      <td>B</td>\n",
       "    </tr>\n",
       "    <tr>\n",
       "      <th>6</th>\n",
       "      <td>398296753</td>\n",
       "      <td>2900797465</td>\n",
       "      <td>2019-08-15</td>\n",
       "      <td>30.6</td>\n",
       "      <td>B</td>\n",
       "    </tr>\n",
       "    <tr>\n",
       "      <th>7</th>\n",
       "      <td>2626614568</td>\n",
       "      <td>78758296</td>\n",
       "      <td>2019-08-15</td>\n",
       "      <td>20.1</td>\n",
       "      <td>A</td>\n",
       "    </tr>\n",
       "    <tr>\n",
       "      <th>8</th>\n",
       "      <td>1576988021</td>\n",
       "      <td>295230930</td>\n",
       "      <td>2019-08-15</td>\n",
       "      <td>215.9</td>\n",
       "      <td>A</td>\n",
       "    </tr>\n",
       "    <tr>\n",
       "      <th>9</th>\n",
       "      <td>1506739906</td>\n",
       "      <td>1882260405</td>\n",
       "      <td>2019-08-15</td>\n",
       "      <td>30.5</td>\n",
       "      <td>B</td>\n",
       "    </tr>\n",
       "  </tbody>\n",
       "</table>\n",
       "</div>"
      ],
      "text/plain": [
       "   transactionId   visitorId        date  revenue group\n",
       "0     3667963787  3312258926  2019-08-15     30.4     B\n",
       "1     2804400009  3642806036  2019-08-15     15.2     B\n",
       "2     2961555356  4069496402  2019-08-15     10.2     A\n",
       "3     3797467345  1196621759  2019-08-15    155.1     B\n",
       "4     2282983706  2322279887  2019-08-15     40.5     B\n",
       "5      182168103   935554773  2019-08-15     35.0     B\n",
       "6      398296753  2900797465  2019-08-15     30.6     B\n",
       "7     2626614568    78758296  2019-08-15     20.1     A\n",
       "8     1576988021   295230930  2019-08-15    215.9     A\n",
       "9     1506739906  1882260405  2019-08-15     30.5     B"
      ]
     },
     "metadata": {},
     "output_type": "display_data"
    },
    {
     "name": "stdout",
     "output_type": "stream",
     "text": [
      "<class 'pandas.core.frame.DataFrame'>\n",
      "RangeIndex: 1197 entries, 0 to 1196\n",
      "Data columns (total 5 columns):\n",
      " #   Column         Non-Null Count  Dtype  \n",
      "---  ------         --------------  -----  \n",
      " 0   transactionId  1197 non-null   int64  \n",
      " 1   visitorId      1197 non-null   int64  \n",
      " 2   date           1197 non-null   object \n",
      " 3   revenue        1197 non-null   float64\n",
      " 4   group          1197 non-null   object \n",
      "dtypes: float64(1), int64(2), object(2)\n",
      "memory usage: 155.6 KB\n"
     ]
    }
   ],
   "source": [
    "display(df_orders.head(10))\n",
    "df_orders.info(memory_usage = 'deep')"
   ]
  },
  {
   "cell_type": "markdown",
   "metadata": {},
   "source": [
    "Contamos con almenos 1190 pedidos  en total, antes de transfomrar las columnas al tipo de dato necesario, vamos a realizar una descripcion de general de los datos, asi como vericar valores duplicados y aausentes."
   ]
  },
  {
   "cell_type": "code",
   "execution_count": 24,
   "metadata": {},
   "outputs": [
    {
     "data": {
      "text/html": [
       "<div>\n",
       "<style scoped>\n",
       "    .dataframe tbody tr th:only-of-type {\n",
       "        vertical-align: middle;\n",
       "    }\n",
       "\n",
       "    .dataframe tbody tr th {\n",
       "        vertical-align: top;\n",
       "    }\n",
       "\n",
       "    .dataframe thead th {\n",
       "        text-align: right;\n",
       "    }\n",
       "</style>\n",
       "<table border=\"1\" class=\"dataframe\">\n",
       "  <thead>\n",
       "    <tr style=\"text-align: right;\">\n",
       "      <th></th>\n",
       "      <th>transactionId</th>\n",
       "      <th>visitorId</th>\n",
       "      <th>revenue</th>\n",
       "    </tr>\n",
       "  </thead>\n",
       "  <tbody>\n",
       "    <tr>\n",
       "      <th>count</th>\n",
       "      <td>1.197000e+03</td>\n",
       "      <td>1.197000e+03</td>\n",
       "      <td>1197.000000</td>\n",
       "    </tr>\n",
       "    <tr>\n",
       "      <th>mean</th>\n",
       "      <td>2.155621e+09</td>\n",
       "      <td>2.165960e+09</td>\n",
       "      <td>131.491646</td>\n",
       "    </tr>\n",
       "    <tr>\n",
       "      <th>std</th>\n",
       "      <td>1.229085e+09</td>\n",
       "      <td>1.236014e+09</td>\n",
       "      <td>603.004729</td>\n",
       "    </tr>\n",
       "    <tr>\n",
       "      <th>min</th>\n",
       "      <td>1.062393e+06</td>\n",
       "      <td>5.114589e+06</td>\n",
       "      <td>5.000000</td>\n",
       "    </tr>\n",
       "    <tr>\n",
       "      <th>25%</th>\n",
       "      <td>1.166776e+09</td>\n",
       "      <td>1.111826e+09</td>\n",
       "      <td>20.800000</td>\n",
       "    </tr>\n",
       "    <tr>\n",
       "      <th>50%</th>\n",
       "      <td>2.145194e+09</td>\n",
       "      <td>2.217985e+09</td>\n",
       "      <td>50.200000</td>\n",
       "    </tr>\n",
       "    <tr>\n",
       "      <th>75%</th>\n",
       "      <td>3.237740e+09</td>\n",
       "      <td>3.177606e+09</td>\n",
       "      <td>130.400000</td>\n",
       "    </tr>\n",
       "    <tr>\n",
       "      <th>max</th>\n",
       "      <td>4.293856e+09</td>\n",
       "      <td>4.283872e+09</td>\n",
       "      <td>19920.400000</td>\n",
       "    </tr>\n",
       "  </tbody>\n",
       "</table>\n",
       "</div>"
      ],
      "text/plain": [
       "       transactionId     visitorId       revenue\n",
       "count   1.197000e+03  1.197000e+03   1197.000000\n",
       "mean    2.155621e+09  2.165960e+09    131.491646\n",
       "std     1.229085e+09  1.236014e+09    603.004729\n",
       "min     1.062393e+06  5.114589e+06      5.000000\n",
       "25%     1.166776e+09  1.111826e+09     20.800000\n",
       "50%     2.145194e+09  2.217985e+09     50.200000\n",
       "75%     3.237740e+09  3.177606e+09    130.400000\n",
       "max     4.293856e+09  4.283872e+09  19920.400000"
      ]
     },
     "execution_count": 24,
     "metadata": {},
     "output_type": "execute_result"
    }
   ],
   "source": [
    "df_orders.describe()"
   ]
  },
  {
   "cell_type": "code",
   "execution_count": 25,
   "metadata": {},
   "outputs": [
    {
     "data": {
      "text/plain": [
       "transactionId    0\n",
       "visitorId        0\n",
       "date             0\n",
       "revenue          0\n",
       "group            0\n",
       "dtype: int64"
      ]
     },
     "execution_count": 25,
     "metadata": {},
     "output_type": "execute_result"
    }
   ],
   "source": [
    "df_orders.isna().sum()"
   ]
  },
  {
   "cell_type": "code",
   "execution_count": 26,
   "metadata": {},
   "outputs": [
    {
     "data": {
      "text/plain": [
       "0"
      ]
     },
     "execution_count": 26,
     "metadata": {},
     "output_type": "execute_result"
    }
   ],
   "source": [
    "df_orders.duplicated().sum()"
   ]
  },
  {
   "cell_type": "markdown",
   "metadata": {},
   "source": [
    "De esta manera verificamos que no tenemos valores duplicados ni asuentes en nustra tabal de pedidos realizados, y segun la descripcion general tenemos buenas metricas.Ahora solo resta transformar las columnas a los tipos de datos necesarios para llegar a nuestras conclusiones."
   ]
  },
  {
   "cell_type": "code",
   "execution_count": 27,
   "metadata": {},
   "outputs": [
    {
     "name": "stdout",
     "output_type": "stream",
     "text": [
      "<class 'pandas.core.frame.DataFrame'>\n",
      "RangeIndex: 1197 entries, 0 to 1196\n",
      "Data columns (total 5 columns):\n",
      " #   Column         Non-Null Count  Dtype         \n",
      "---  ------         --------------  -----         \n",
      " 0   transactionId  1197 non-null   int64         \n",
      " 1   visitorId      1197 non-null   int64         \n",
      " 2   date           1197 non-null   datetime64[ns]\n",
      " 3   revenue        1197 non-null   float64       \n",
      " 4   group          1197 non-null   object        \n",
      "dtypes: datetime64[ns](1), float64(1), int64(2), object(1)\n",
      "memory usage: 96.0 KB\n"
     ]
    }
   ],
   "source": [
    "df_orders['date'] = pd.to_datetime(df_orders['date'])\n",
    "df_orders.info(memory_usage = 'deep')"
   ]
  },
  {
   "cell_type": "markdown",
   "metadata": {},
   "source": [
    "Con esta modificasion, redujimos el tamaño de memoria que ocupa nuestro dataframe y tenemos los datos con el tipo correcto para realizar los calculos, este preprocesamiento se realizo a  manera de comprobacion unicamente, ya que tampoco queremos alterar los datos originales de la tabla, por que nos seran utilies proximamente.Ahora continuaremos con el DataFrame de las visitas al sitio web."
   ]
  },
  {
   "cell_type": "code",
   "execution_count": 28,
   "metadata": {},
   "outputs": [
    {
     "data": {
      "text/html": [
       "<div>\n",
       "<style scoped>\n",
       "    .dataframe tbody tr th:only-of-type {\n",
       "        vertical-align: middle;\n",
       "    }\n",
       "\n",
       "    .dataframe tbody tr th {\n",
       "        vertical-align: top;\n",
       "    }\n",
       "\n",
       "    .dataframe thead th {\n",
       "        text-align: right;\n",
       "    }\n",
       "</style>\n",
       "<table border=\"1\" class=\"dataframe\">\n",
       "  <thead>\n",
       "    <tr style=\"text-align: right;\">\n",
       "      <th></th>\n",
       "      <th>date</th>\n",
       "      <th>group</th>\n",
       "      <th>visits</th>\n",
       "    </tr>\n",
       "  </thead>\n",
       "  <tbody>\n",
       "    <tr>\n",
       "      <th>0</th>\n",
       "      <td>2019-08-01</td>\n",
       "      <td>A</td>\n",
       "      <td>719</td>\n",
       "    </tr>\n",
       "    <tr>\n",
       "      <th>1</th>\n",
       "      <td>2019-08-02</td>\n",
       "      <td>A</td>\n",
       "      <td>619</td>\n",
       "    </tr>\n",
       "    <tr>\n",
       "      <th>2</th>\n",
       "      <td>2019-08-03</td>\n",
       "      <td>A</td>\n",
       "      <td>507</td>\n",
       "    </tr>\n",
       "    <tr>\n",
       "      <th>3</th>\n",
       "      <td>2019-08-04</td>\n",
       "      <td>A</td>\n",
       "      <td>717</td>\n",
       "    </tr>\n",
       "    <tr>\n",
       "      <th>4</th>\n",
       "      <td>2019-08-05</td>\n",
       "      <td>A</td>\n",
       "      <td>756</td>\n",
       "    </tr>\n",
       "  </tbody>\n",
       "</table>\n",
       "</div>"
      ],
      "text/plain": [
       "         date group  visits\n",
       "0  2019-08-01     A     719\n",
       "1  2019-08-02     A     619\n",
       "2  2019-08-03     A     507\n",
       "3  2019-08-04     A     717\n",
       "4  2019-08-05     A     756"
      ]
     },
     "metadata": {},
     "output_type": "display_data"
    },
    {
     "name": "stdout",
     "output_type": "stream",
     "text": [
      "<class 'pandas.core.frame.DataFrame'>\n",
      "RangeIndex: 62 entries, 0 to 61\n",
      "Data columns (total 3 columns):\n",
      " #   Column  Non-Null Count  Dtype \n",
      "---  ------  --------------  ----- \n",
      " 0   date    62 non-null     object\n",
      " 1   group   62 non-null     object\n",
      " 2   visits  62 non-null     int64 \n",
      "dtypes: int64(1), object(2)\n",
      "memory usage: 7.2 KB\n"
     ]
    }
   ],
   "source": [
    "display(df_visitors.head())\n",
    "df_visitors.info(memory_usage = 'deep')"
   ]
  },
  {
   "cell_type": "markdown",
   "metadata": {},
   "source": [
    "Tenemos alrederor de 61 registros en nuestro DtaraFrame de visitas, vamos a asegurarnos que no tenemos datos nulos ni dupliacados, asi como realizar una descripcion general de los datos,antes de realizar las modificasiones a los tipos de datos correspondientes."
   ]
  },
  {
   "cell_type": "code",
   "execution_count": 29,
   "metadata": {},
   "outputs": [
    {
     "data": {
      "text/html": [
       "<div>\n",
       "<style scoped>\n",
       "    .dataframe tbody tr th:only-of-type {\n",
       "        vertical-align: middle;\n",
       "    }\n",
       "\n",
       "    .dataframe tbody tr th {\n",
       "        vertical-align: top;\n",
       "    }\n",
       "\n",
       "    .dataframe thead th {\n",
       "        text-align: right;\n",
       "    }\n",
       "</style>\n",
       "<table border=\"1\" class=\"dataframe\">\n",
       "  <thead>\n",
       "    <tr style=\"text-align: right;\">\n",
       "      <th></th>\n",
       "      <th>visits</th>\n",
       "    </tr>\n",
       "  </thead>\n",
       "  <tbody>\n",
       "    <tr>\n",
       "      <th>count</th>\n",
       "      <td>62.000000</td>\n",
       "    </tr>\n",
       "    <tr>\n",
       "      <th>mean</th>\n",
       "      <td>607.290323</td>\n",
       "    </tr>\n",
       "    <tr>\n",
       "      <th>std</th>\n",
       "      <td>114.400560</td>\n",
       "    </tr>\n",
       "    <tr>\n",
       "      <th>min</th>\n",
       "      <td>361.000000</td>\n",
       "    </tr>\n",
       "    <tr>\n",
       "      <th>25%</th>\n",
       "      <td>534.000000</td>\n",
       "    </tr>\n",
       "    <tr>\n",
       "      <th>50%</th>\n",
       "      <td>624.500000</td>\n",
       "    </tr>\n",
       "    <tr>\n",
       "      <th>75%</th>\n",
       "      <td>710.500000</td>\n",
       "    </tr>\n",
       "    <tr>\n",
       "      <th>max</th>\n",
       "      <td>770.000000</td>\n",
       "    </tr>\n",
       "  </tbody>\n",
       "</table>\n",
       "</div>"
      ],
      "text/plain": [
       "           visits\n",
       "count   62.000000\n",
       "mean   607.290323\n",
       "std    114.400560\n",
       "min    361.000000\n",
       "25%    534.000000\n",
       "50%    624.500000\n",
       "75%    710.500000\n",
       "max    770.000000"
      ]
     },
     "execution_count": 29,
     "metadata": {},
     "output_type": "execute_result"
    }
   ],
   "source": [
    "df_visitors.describe()"
   ]
  },
  {
   "cell_type": "code",
   "execution_count": 30,
   "metadata": {},
   "outputs": [
    {
     "data": {
      "text/plain": [
       "date      0\n",
       "group     0\n",
       "visits    0\n",
       "dtype: int64"
      ]
     },
     "execution_count": 30,
     "metadata": {},
     "output_type": "execute_result"
    }
   ],
   "source": [
    "df_visitors.isna().sum()"
   ]
  },
  {
   "cell_type": "code",
   "execution_count": 31,
   "metadata": {},
   "outputs": [
    {
     "data": {
      "text/plain": [
       "0"
      ]
     },
     "execution_count": 31,
     "metadata": {},
     "output_type": "execute_result"
    }
   ],
   "source": [
    "df_visitors.duplicated().sum()"
   ]
  },
  {
   "cell_type": "markdown",
   "metadata": {},
   "source": [
    "Al verificar que no tenemos datos ni duplicados ni nulos, podriamos comentar que las metricas de la descripcion general de los datos, nos dan un aexcelente percepcion de como se estan distribuyendo cada uno de ellos. Ahora solo resta transformar las columnas al tipo necesario para poder opoerar con ellas."
   ]
  },
  {
   "cell_type": "code",
   "execution_count": 32,
   "metadata": {},
   "outputs": [
    {
     "name": "stdout",
     "output_type": "stream",
     "text": [
      "<class 'pandas.core.frame.DataFrame'>\n",
      "RangeIndex: 62 entries, 0 to 61\n",
      "Data columns (total 3 columns):\n",
      " #   Column  Non-Null Count  Dtype         \n",
      "---  ------  --------------  -----         \n",
      " 0   date    62 non-null     datetime64[ns]\n",
      " 1   group   62 non-null     object        \n",
      " 2   visits  62 non-null     int64         \n",
      "dtypes: datetime64[ns](1), int64(1), object(1)\n",
      "memory usage: 4.1 KB\n"
     ]
    }
   ],
   "source": [
    "df_visitors['date'] = pd.to_datetime(df_visitors['date'])\n",
    "df_visitors.info(memory_usage = 'deep')"
   ]
  },
  {
   "cell_type": "markdown",
   "metadata": {},
   "source": [
    "Una vez que optimizamos los datos y los preprocesamos para poder trabajr con ellos. Analizaremos los resultados de los test A/B. Primeramnete representando gráficamente el ingreso acumulado por grupo."
   ]
  },
  {
   "cell_type": "code",
   "execution_count": 33,
   "metadata": {},
   "outputs": [],
   "source": [
    "df_orders = df_orders.sort_values(by='date')\n",
    "df_orders['cumulative_revenue'] = df_orders.groupby('group')['revenue'].cumsum()"
   ]
  },
  {
   "cell_type": "markdown",
   "metadata": {},
   "source": [
    "una vez que nos aseguramos que los datos estan ordenados por fecha, realizamos una agrupacion para calcular el beneficio genrado por cada uno de los grupos."
   ]
  },
  {
   "cell_type": "markdown",
   "metadata": {},
   "source": [
    "**Antes que nada, filtraremos los datos  para seguir trabajando, ya puede ser posible que haya errores en los datasets originales, y uno muy comun es que en algunos de los visitantes podrían haber entrado tanto en el grupo A como en el grupo B.**"
   ]
  },
  {
   "cell_type": "code",
   "execution_count": 34,
   "metadata": {},
   "outputs": [
    {
     "data": {
      "text/plain": [
       "'Usuarios repetidos en ambos grupos: 58'"
      ]
     },
     "metadata": {},
     "output_type": "display_data"
    }
   ],
   "source": [
    "group_a_users = df_orders[df_orders['group'] == 'A']['visitorId'].unique()\n",
    "group_b_users = df_orders[df_orders['group'] == 'B']['visitorId'].unique()\n",
    "repeated_users = np.intersect1d(group_a_users, group_b_users)\n",
    "display(f\"Usuarios repetidos en ambos grupos: {len(repeated_users)}\")"
   ]
  },
  {
   "cell_type": "markdown",
   "metadata": {},
   "source": [
    "De esta manera, indicamos los usuariios unicos en cada uno de los grupos y denotamos cuantos usuarios estan en ambos grupos. Ahora sabemos que tenemos 58 usuarios que estan presentes en ambos grupos del test A/B."
   ]
  },
  {
   "cell_type": "markdown",
   "metadata": {},
   "source": [
    "Filtraremos estos datos de df_orders para excluir a los usuarios repetidos asi como tambien los usuarios en df_visitors."
   ]
  },
  {
   "cell_type": "code",
   "execution_count": 35,
   "metadata": {},
   "outputs": [
    {
     "data": {
      "text/plain": [
       "'Pedidos después de eliminar usuarios repetidos: 1016'"
      ]
     },
     "metadata": {},
     "output_type": "display_data"
    },
    {
     "data": {
      "text/html": [
       "<div>\n",
       "<style scoped>\n",
       "    .dataframe tbody tr th:only-of-type {\n",
       "        vertical-align: middle;\n",
       "    }\n",
       "\n",
       "    .dataframe tbody tr th {\n",
       "        vertical-align: top;\n",
       "    }\n",
       "\n",
       "    .dataframe thead th {\n",
       "        text-align: right;\n",
       "    }\n",
       "</style>\n",
       "<table border=\"1\" class=\"dataframe\">\n",
       "  <thead>\n",
       "    <tr style=\"text-align: right;\">\n",
       "      <th></th>\n",
       "      <th>transactionId</th>\n",
       "      <th>visitorId</th>\n",
       "      <th>date</th>\n",
       "      <th>revenue</th>\n",
       "      <th>group</th>\n",
       "      <th>cumulative_revenue</th>\n",
       "    </tr>\n",
       "  </thead>\n",
       "  <tbody>\n",
       "    <tr>\n",
       "      <th>168</th>\n",
       "      <td>2065527789</td>\n",
       "      <td>1581167209</td>\n",
       "      <td>2019-08-01</td>\n",
       "      <td>30.4</td>\n",
       "      <td>A</td>\n",
       "      <td>30.4</td>\n",
       "    </tr>\n",
       "    <tr>\n",
       "      <th>73</th>\n",
       "      <td>1295850747</td>\n",
       "      <td>2947100995</td>\n",
       "      <td>2019-08-01</td>\n",
       "      <td>455.8</td>\n",
       "      <td>A</td>\n",
       "      <td>486.2</td>\n",
       "    </tr>\n",
       "    <tr>\n",
       "      <th>72</th>\n",
       "      <td>477940151</td>\n",
       "      <td>1422773200</td>\n",
       "      <td>2019-08-01</td>\n",
       "      <td>15.8</td>\n",
       "      <td>A</td>\n",
       "      <td>502.0</td>\n",
       "    </tr>\n",
       "    <tr>\n",
       "      <th>70</th>\n",
       "      <td>3574407166</td>\n",
       "      <td>2328378067</td>\n",
       "      <td>2019-08-01</td>\n",
       "      <td>140.4</td>\n",
       "      <td>B</td>\n",
       "      <td>306.1</td>\n",
       "    </tr>\n",
       "    <tr>\n",
       "      <th>66</th>\n",
       "      <td>4919758</td>\n",
       "      <td>1217561296</td>\n",
       "      <td>2019-08-01</td>\n",
       "      <td>40.2</td>\n",
       "      <td>B</td>\n",
       "      <td>346.3</td>\n",
       "    </tr>\n",
       "  </tbody>\n",
       "</table>\n",
       "</div>"
      ],
      "text/plain": [
       "     transactionId   visitorId       date  revenue group  cumulative_revenue\n",
       "168     2065527789  1581167209 2019-08-01     30.4     A                30.4\n",
       "73      1295850747  2947100995 2019-08-01    455.8     A               486.2\n",
       "72       477940151  1422773200 2019-08-01     15.8     A               502.0\n",
       "70      3574407166  2328378067 2019-08-01    140.4     B               306.1\n",
       "66         4919758  1217561296 2019-08-01     40.2     B               346.3"
      ]
     },
     "execution_count": 35,
     "metadata": {},
     "output_type": "execute_result"
    }
   ],
   "source": [
    "df_orders_cleaned = df_orders[~df_orders['visitorId'].isin(repeated_users)]\n",
    "display(f\"Pedidos después de eliminar usuarios repetidos: {df_orders_cleaned.shape[0]}\")\n",
    "df_orders_cleaned.head()"
   ]
  },
  {
   "cell_type": "markdown",
   "metadata": {},
   "source": [
    "Tenemos un total de 1016 usuarios que han realizado pedidos unicos en nuestro nuevo dataframe.Es asi como obtenemos una tabla de usuarios que se  no tienen usuarios que se repitan en ambos grupos de la pruba de hipotesis en el dataframe de ordenes. Esto nos sera util para obtener nuestras conclusiones axactas."
   ]
  },
  {
   "cell_type": "code",
   "execution_count": 36,
   "metadata": {},
   "outputs": [
    {
     "data": {
      "image/png": "[encoded data removed]",
      "text/plain": [
       "<Figure size 1200x600 with 1 Axes>"
      ]
     },
     "metadata": {},
     "output_type": "display_data"
    }
   ],
   "source": [
    "plt.figure(figsize=(12, 6))\n",
    "for group in df_orders_cleaned['group'].unique():\n",
    "    data = df_orders_cleaned[df_orders_cleaned['group'] == group]\n",
    "    plt.plot(data['date'], data['cumulative_revenue'], marker='o', label=f'Grupo {group}')\n",
    "    \n",
    "plt.title('Ingreso Acumulado por Grupo en el Test A/B')\n",
    "plt.xlabel('Fecha')\n",
    "plt.ylabel('Ingreso Acumulado')\n",
    "plt.xticks(rotation=45)\n",
    "plt.grid(True)\n",
    "plt.legend(title='Grupo')\n",
    "plt.tight_layout()\n",
    "plt.show()"
   ]
  },
  {
   "cell_type": "markdown",
   "metadata": {},
   "source": [
    "**El grafico claramente nos muestra un predominancia en el ingreso acumulado del un grupo B por encima del otro. Teneniendo excelentes resultados en le mes de agosto, y llegando a su pico mas alto en el mes de septiembre.**"
   ]
  },
  {
   "cell_type": "markdown",
   "metadata": {},
   "source": [
    "Ahora realizaremos un grafico para representar  el tamaño de pedido promedio acumulado por grupo, para lo cual necesitaremos calcular el tamaño de pedido promedio acumulado para cada grupo, y mostrarlo como columna en nuestro Dataframe."
   ]
  },
  {
   "cell_type": "code",
   "execution_count": 37,
   "metadata": {},
   "outputs": [
    {
     "data": {
      "text/html": [
       "<div>\n",
       "<style scoped>\n",
       "    .dataframe tbody tr th:only-of-type {\n",
       "        vertical-align: middle;\n",
       "    }\n",
       "\n",
       "    .dataframe tbody tr th {\n",
       "        vertical-align: top;\n",
       "    }\n",
       "\n",
       "    .dataframe thead th {\n",
       "        text-align: right;\n",
       "    }\n",
       "</style>\n",
       "<table border=\"1\" class=\"dataframe\">\n",
       "  <thead>\n",
       "    <tr style=\"text-align: right;\">\n",
       "      <th></th>\n",
       "      <th>transactionId</th>\n",
       "      <th>visitorId</th>\n",
       "      <th>date</th>\n",
       "      <th>revenue</th>\n",
       "      <th>group</th>\n",
       "      <th>cumulative_revenue</th>\n",
       "      <th>order_size</th>\n",
       "      <th>cumulative_avg_order_size</th>\n",
       "    </tr>\n",
       "  </thead>\n",
       "  <tbody>\n",
       "    <tr>\n",
       "      <th>168</th>\n",
       "      <td>2065527789</td>\n",
       "      <td>1581167209</td>\n",
       "      <td>2019-08-01</td>\n",
       "      <td>30.4</td>\n",
       "      <td>A</td>\n",
       "      <td>30.4</td>\n",
       "      <td>30.4</td>\n",
       "      <td>30.400000</td>\n",
       "    </tr>\n",
       "    <tr>\n",
       "      <th>171</th>\n",
       "      <td>2153842875</td>\n",
       "      <td>876081193</td>\n",
       "      <td>2019-08-01</td>\n",
       "      <td>55.4</td>\n",
       "      <td>A</td>\n",
       "      <td>1842.3</td>\n",
       "      <td>55.4</td>\n",
       "      <td>42.900000</td>\n",
       "    </tr>\n",
       "    <tr>\n",
       "      <th>169</th>\n",
       "      <td>3588515863</td>\n",
       "      <td>1737494355</td>\n",
       "      <td>2019-08-01</td>\n",
       "      <td>30.8</td>\n",
       "      <td>A</td>\n",
       "      <td>1873.1</td>\n",
       "      <td>30.8</td>\n",
       "      <td>38.866667</td>\n",
       "    </tr>\n",
       "    <tr>\n",
       "      <th>155</th>\n",
       "      <td>891673177</td>\n",
       "      <td>572335325</td>\n",
       "      <td>2019-08-01</td>\n",
       "      <td>60.8</td>\n",
       "      <td>A</td>\n",
       "      <td>1933.9</td>\n",
       "      <td>60.8</td>\n",
       "      <td>44.350000</td>\n",
       "    </tr>\n",
       "    <tr>\n",
       "      <th>154</th>\n",
       "      <td>4206138190</td>\n",
       "      <td>1219079053</td>\n",
       "      <td>2019-08-01</td>\n",
       "      <td>80.5</td>\n",
       "      <td>A</td>\n",
       "      <td>2014.4</td>\n",
       "      <td>80.5</td>\n",
       "      <td>51.580000</td>\n",
       "    </tr>\n",
       "  </tbody>\n",
       "</table>\n",
       "</div>"
      ],
      "text/plain": [
       "     transactionId   visitorId       date  revenue group  cumulative_revenue  \\\n",
       "168     2065527789  1581167209 2019-08-01     30.4     A                30.4   \n",
       "171     2153842875   876081193 2019-08-01     55.4     A              1842.3   \n",
       "169     3588515863  1737494355 2019-08-01     30.8     A              1873.1   \n",
       "155      891673177   572335325 2019-08-01     60.8     A              1933.9   \n",
       "154     4206138190  1219079053 2019-08-01     80.5     A              2014.4   \n",
       "\n",
       "     order_size  cumulative_avg_order_size  \n",
       "168        30.4                  30.400000  \n",
       "171        55.4                  42.900000  \n",
       "169        30.8                  38.866667  \n",
       "155        60.8                  44.350000  \n",
       "154        80.5                  51.580000  "
      ]
     },
     "execution_count": 37,
     "metadata": {},
     "output_type": "execute_result"
    }
   ],
   "source": [
    "df_orders_cleaned = df_orders_cleaned.sort_values(by='date')\n",
    "df_orders_cleaned['order_size'] = df_orders_cleaned['revenue']\n",
    "df_orders_cleaned['cumulative_avg_order_size'] = df_orders_cleaned.groupby('group')['order_size'].cumsum() / df_orders_cleaned.groupby('group').cumcount().add(1)\n",
    "df_orders_cleaned.head()"
   ]
  },
  {
   "cell_type": "markdown",
   "metadata": {},
   "source": [
    "Aqui primero utilizamos un sort_values(), para ordernar los datos por cfecha y generamos una nueva columna para almacenar el tamaño promedio del pedido. Finalmente calculamos el tamaño promedio acumulado del pedido usando la suma acumulativa (cumsum) y dividiendo por el conteo acumulado (cumcount().add(1)) para obtener el promedio acumulado."
   ]
  },
  {
   "cell_type": "markdown",
   "metadata": {},
   "source": [
    "Ahora vamos a iterar sobre cada grupo para graficar el tamaño de pedido promedio acumulado a lo largo del tiempo Lo personalizaremos para tener mas claras nuestras conclsuiones."
   ]
  },
  {
   "cell_type": "code",
   "execution_count": 38,
   "metadata": {},
   "outputs": [
    {
     "data": {
      "image/png": "[encoded data removed]",
      "text/plain": [
       "<Figure size 640x480 with 1 Axes>"
      ]
     },
     "metadata": {},
     "output_type": "display_data"
    }
   ],
   "source": [
    "for group in df_orders_cleaned['group'].unique():\n",
    "    data = df_orders_cleaned[df_orders_cleaned['group'] == group]\n",
    "    plt.plot(data['date'], data['cumulative_avg_order_size'], marker='o', label=f'Grupo {group}')\n",
    "    \n",
    "plt.title('Tamaño de Pedido Promedio Acumulado por Grupo en el Test A/B')\n",
    "plt.xlabel('Fecha')\n",
    "plt.ylabel('Tamaño de Pedido Promedio Acumulado')\n",
    "plt.xticks(rotation=45)\n",
    "plt.grid(True)\n",
    "plt.legend(title='Grupo')\n",
    "\n",
    "plt.tight_layout()\n",
    "plt.show()"
   ]
  },
  {
   "cell_type": "markdown",
   "metadata": {},
   "source": [
    "**Determinamos de esta forma el tamaño promedio acomulado de cada uno de los pedidos en cada uno de los grupos, teniendo en cuenta  en promedio el grupo A tiene pedidos mas grandes que el grupo B.**"
   ]
  },
  {
   "cell_type": "markdown",
   "metadata": {},
   "source": [
    "Tambien es imporante ver como difiere el tamaño de pedidos entre cada uno de los grupos. Asi que vamos a representar tambien gráficamente la diferencia relativa en el tamaño de pedido promedio acumulado para el grupo B en comparación con el grupo A."
   ]
  },
  {
   "cell_type": "code",
   "execution_count": 39,
   "metadata": {},
   "outputs": [
    {
     "data": {
      "text/html": [
       "<div>\n",
       "<style scoped>\n",
       "    .dataframe tbody tr th:only-of-type {\n",
       "        vertical-align: middle;\n",
       "    }\n",
       "\n",
       "    .dataframe tbody tr th {\n",
       "        vertical-align: top;\n",
       "    }\n",
       "\n",
       "    .dataframe thead th {\n",
       "        text-align: right;\n",
       "    }\n",
       "</style>\n",
       "<table border=\"1\" class=\"dataframe\">\n",
       "  <thead>\n",
       "    <tr style=\"text-align: right;\">\n",
       "      <th></th>\n",
       "      <th>date</th>\n",
       "      <th>cumulative_avg_A</th>\n",
       "      <th>cumulative_avg_B</th>\n",
       "    </tr>\n",
       "  </thead>\n",
       "  <tbody>\n",
       "    <tr>\n",
       "      <th>0</th>\n",
       "      <td>2019-08-01</td>\n",
       "      <td>30.4</td>\n",
       "      <td>155.500000</td>\n",
       "    </tr>\n",
       "    <tr>\n",
       "      <th>1</th>\n",
       "      <td>2019-08-01</td>\n",
       "      <td>30.4</td>\n",
       "      <td>83.050000</td>\n",
       "    </tr>\n",
       "    <tr>\n",
       "      <th>2</th>\n",
       "      <td>2019-08-01</td>\n",
       "      <td>30.4</td>\n",
       "      <td>72.033333</td>\n",
       "    </tr>\n",
       "    <tr>\n",
       "      <th>3</th>\n",
       "      <td>2019-08-01</td>\n",
       "      <td>30.4</td>\n",
       "      <td>56.675000</td>\n",
       "    </tr>\n",
       "    <tr>\n",
       "      <th>4</th>\n",
       "      <td>2019-08-01</td>\n",
       "      <td>30.4</td>\n",
       "      <td>50.520000</td>\n",
       "    </tr>\n",
       "  </tbody>\n",
       "</table>\n",
       "</div>"
      ],
      "text/plain": [
       "        date  cumulative_avg_A  cumulative_avg_B\n",
       "0 2019-08-01              30.4        155.500000\n",
       "1 2019-08-01              30.4         83.050000\n",
       "2 2019-08-01              30.4         72.033333\n",
       "3 2019-08-01              30.4         56.675000\n",
       "4 2019-08-01              30.4         50.520000"
      ]
     },
     "execution_count": 39,
     "metadata": {},
     "output_type": "execute_result"
    }
   ],
   "source": [
    "cumulative_avg_A = df_orders_cleaned[df_orders_cleaned['group'] == 'A'][['date', 'cumulative_avg_order_size']].rename(columns={'cumulative_avg_order_size': 'cumulative_avg_A'})\n",
    "cumulative_avg_B = df_orders_cleaned[df_orders_cleaned['group'] == 'B'][['date', 'cumulative_avg_order_size']].rename(columns={'cumulative_avg_order_size': 'cumulative_avg_B'})\n",
    "merged_data = pd.merge(cumulative_avg_A, cumulative_avg_B, on='date', how='inner')\n",
    "merged_data.head()"
   ]
  },
  {
   "cell_type": "markdown",
   "metadata": {},
   "source": [
    "Para esto separamos los datos por grupo de test A/B y realizamos la union de estas dos tablas a travez de .merge(), para poder comparar. Ahora solo debemos calcular la diferencia relativa entre cada grupo y visualizarlas en un grafico para obtener nuestras conclusiones."
   ]
  },
  {
   "cell_type": "code",
   "execution_count": 40,
   "metadata": {},
   "outputs": [
    {
     "data": {
      "text/html": [
       "<div>\n",
       "<style scoped>\n",
       "    .dataframe tbody tr th:only-of-type {\n",
       "        vertical-align: middle;\n",
       "    }\n",
       "\n",
       "    .dataframe tbody tr th {\n",
       "        vertical-align: top;\n",
       "    }\n",
       "\n",
       "    .dataframe thead th {\n",
       "        text-align: right;\n",
       "    }\n",
       "</style>\n",
       "<table border=\"1\" class=\"dataframe\">\n",
       "  <thead>\n",
       "    <tr style=\"text-align: right;\">\n",
       "      <th></th>\n",
       "      <th>date</th>\n",
       "      <th>cumulative_avg_A</th>\n",
       "      <th>cumulative_avg_B</th>\n",
       "      <th>relative_difference</th>\n",
       "    </tr>\n",
       "  </thead>\n",
       "  <tbody>\n",
       "    <tr>\n",
       "      <th>0</th>\n",
       "      <td>2019-08-01</td>\n",
       "      <td>30.4</td>\n",
       "      <td>155.500000</td>\n",
       "      <td>4.115132</td>\n",
       "    </tr>\n",
       "    <tr>\n",
       "      <th>1</th>\n",
       "      <td>2019-08-01</td>\n",
       "      <td>30.4</td>\n",
       "      <td>83.050000</td>\n",
       "      <td>1.731908</td>\n",
       "    </tr>\n",
       "    <tr>\n",
       "      <th>2</th>\n",
       "      <td>2019-08-01</td>\n",
       "      <td>30.4</td>\n",
       "      <td>72.033333</td>\n",
       "      <td>1.369518</td>\n",
       "    </tr>\n",
       "    <tr>\n",
       "      <th>3</th>\n",
       "      <td>2019-08-01</td>\n",
       "      <td>30.4</td>\n",
       "      <td>56.675000</td>\n",
       "      <td>0.864309</td>\n",
       "    </tr>\n",
       "    <tr>\n",
       "      <th>4</th>\n",
       "      <td>2019-08-01</td>\n",
       "      <td>30.4</td>\n",
       "      <td>50.520000</td>\n",
       "      <td>0.661842</td>\n",
       "    </tr>\n",
       "  </tbody>\n",
       "</table>\n",
       "</div>"
      ],
      "text/plain": [
       "        date  cumulative_avg_A  cumulative_avg_B  relative_difference\n",
       "0 2019-08-01              30.4        155.500000             4.115132\n",
       "1 2019-08-01              30.4         83.050000             1.731908\n",
       "2 2019-08-01              30.4         72.033333             1.369518\n",
       "3 2019-08-01              30.4         56.675000             0.864309\n",
       "4 2019-08-01              30.4         50.520000             0.661842"
      ]
     },
     "execution_count": 40,
     "metadata": {},
     "output_type": "execute_result"
    }
   ],
   "source": [
    "merged_data['relative_difference'] = (merged_data['cumulative_avg_B'] - merged_data['cumulative_avg_A']) / merged_data['cumulative_avg_A']\n",
    "merged_data.head()"
   ]
  },
  {
   "cell_type": "markdown",
   "metadata": {},
   "source": [
    "Ahora tenemos un dataframe, que contiene una columna que calcula la diferencia relativa en el tamaño de la compra para cada uno de los grupos de la prueba. Vamos a graficarla y modificar el grafico para entender mejor esta difencia y llegar a una conclusion, especifica."
   ]
  },
  {
   "cell_type": "code",
   "execution_count": 41,
   "metadata": {},
   "outputs": [
    {
     "data": {
      "image/png": "[encoded data removed]",
      "text/plain": [
       "<Figure size 1200x600 with 1 Axes>"
      ]
     },
     "metadata": {},
     "output_type": "display_data"
    }
   ],
   "source": [
    "plt.figure(figsize=(12, 6))\n",
    "plt.plot(merged_data['date'], merged_data['relative_difference'], marker='o', color='red', linestyle='-', label='Diferencia Relativa (B vs A)')\n",
    "\n",
    "plt.title('Diferencia Relativa en el Tamaño de Pedido Promedio Acumulado (Grupo B vs Grupo A)')\n",
    "plt.xlabel('Fecha')\n",
    "plt.ylabel('Diferencia Relativa')\n",
    "plt.axhline(0, color='gray', linestyle='--', lw=1) \n",
    "plt.xticks(rotation=45)\n",
    "plt.grid(True)\n",
    "plt.legend(title='Comparación')\n",
    "\n",
    "plt.tight_layout()\n",
    "plt.show()"
   ]
  },
  {
   "cell_type": "markdown",
   "metadata": {},
   "source": [
    "Añadimos una línea horizontal en 0 como referencia, para mostrar cuándo los tamaños de pedido promedio de ambos grupos son iguales. Luego determinamos que; **El tamaño promedio de los pedidos fluctuaron en la primera semana de adquicisiones, y luego se han mantenido a la par. No iguales por completo a excepcion de los dias 9 hasta el 19 de agosto donde estuvieron muy a la par. Pero no hay demasiada difencia en el resto de semanas  del mes de agosto para el tamaño promedio de sus pedidos, a comparacion con la primera semana del mes.**"
   ]
  },
  {
   "cell_type": "markdown",
   "metadata": {},
   "source": [
    "Ahora vamos a calcular la taza de conversion en cada grupo, como la relacion entre entre los pedidos y el número de visitas de cada día. Tambien realizaremos graficos entre  las tasas de conversión diarias de los dos grupos para describir sus diferencias."
   ]
  },
  {
   "cell_type": "code",
   "execution_count": 42,
   "metadata": {},
   "outputs": [
    {
     "data": {
      "text/html": [
       "<div>\n",
       "<style scoped>\n",
       "    .dataframe tbody tr th:only-of-type {\n",
       "        vertical-align: middle;\n",
       "    }\n",
       "\n",
       "    .dataframe tbody tr th {\n",
       "        vertical-align: top;\n",
       "    }\n",
       "\n",
       "    .dataframe thead th {\n",
       "        text-align: right;\n",
       "    }\n",
       "</style>\n",
       "<table border=\"1\" class=\"dataframe\">\n",
       "  <thead>\n",
       "    <tr style=\"text-align: right;\">\n",
       "      <th></th>\n",
       "      <th>date</th>\n",
       "      <th>group</th>\n",
       "      <th>orders</th>\n",
       "    </tr>\n",
       "  </thead>\n",
       "  <tbody>\n",
       "    <tr>\n",
       "      <th>0</th>\n",
       "      <td>2019-08-01</td>\n",
       "      <td>A</td>\n",
       "      <td>23</td>\n",
       "    </tr>\n",
       "    <tr>\n",
       "      <th>1</th>\n",
       "      <td>2019-08-01</td>\n",
       "      <td>B</td>\n",
       "      <td>17</td>\n",
       "    </tr>\n",
       "    <tr>\n",
       "      <th>2</th>\n",
       "      <td>2019-08-02</td>\n",
       "      <td>A</td>\n",
       "      <td>19</td>\n",
       "    </tr>\n",
       "    <tr>\n",
       "      <th>3</th>\n",
       "      <td>2019-08-02</td>\n",
       "      <td>B</td>\n",
       "      <td>23</td>\n",
       "    </tr>\n",
       "    <tr>\n",
       "      <th>4</th>\n",
       "      <td>2019-08-03</td>\n",
       "      <td>A</td>\n",
       "      <td>24</td>\n",
       "    </tr>\n",
       "  </tbody>\n",
       "</table>\n",
       "</div>"
      ],
      "text/plain": [
       "        date group  orders\n",
       "0 2019-08-01     A      23\n",
       "1 2019-08-01     B      17\n",
       "2 2019-08-02     A      19\n",
       "3 2019-08-02     B      23\n",
       "4 2019-08-03     A      24"
      ]
     },
     "metadata": {},
     "output_type": "display_data"
    },
    {
     "data": {
      "text/html": [
       "<div>\n",
       "<style scoped>\n",
       "    .dataframe tbody tr th:only-of-type {\n",
       "        vertical-align: middle;\n",
       "    }\n",
       "\n",
       "    .dataframe tbody tr th {\n",
       "        vertical-align: top;\n",
       "    }\n",
       "\n",
       "    .dataframe thead th {\n",
       "        text-align: right;\n",
       "    }\n",
       "</style>\n",
       "<table border=\"1\" class=\"dataframe\">\n",
       "  <thead>\n",
       "    <tr style=\"text-align: right;\">\n",
       "      <th></th>\n",
       "      <th>date</th>\n",
       "      <th>group</th>\n",
       "      <th>visits</th>\n",
       "    </tr>\n",
       "  </thead>\n",
       "  <tbody>\n",
       "    <tr>\n",
       "      <th>0</th>\n",
       "      <td>2019-08-01</td>\n",
       "      <td>A</td>\n",
       "      <td>719</td>\n",
       "    </tr>\n",
       "    <tr>\n",
       "      <th>1</th>\n",
       "      <td>2019-08-01</td>\n",
       "      <td>B</td>\n",
       "      <td>713</td>\n",
       "    </tr>\n",
       "    <tr>\n",
       "      <th>2</th>\n",
       "      <td>2019-08-02</td>\n",
       "      <td>A</td>\n",
       "      <td>619</td>\n",
       "    </tr>\n",
       "    <tr>\n",
       "      <th>3</th>\n",
       "      <td>2019-08-02</td>\n",
       "      <td>B</td>\n",
       "      <td>581</td>\n",
       "    </tr>\n",
       "    <tr>\n",
       "      <th>4</th>\n",
       "      <td>2019-08-03</td>\n",
       "      <td>A</td>\n",
       "      <td>507</td>\n",
       "    </tr>\n",
       "  </tbody>\n",
       "</table>\n",
       "</div>"
      ],
      "text/plain": [
       "        date group  visits\n",
       "0 2019-08-01     A     719\n",
       "1 2019-08-01     B     713\n",
       "2 2019-08-02     A     619\n",
       "3 2019-08-02     B     581\n",
       "4 2019-08-03     A     507"
      ]
     },
     "metadata": {},
     "output_type": "display_data"
    }
   ],
   "source": [
    "orders_daily = df_orders_cleaned.groupby(['date', 'group']).agg(orders=('transactionId', 'nunique')).reset_index()\n",
    "visits_daily = df_visitors.groupby(['date', 'group']).agg(visits=('visits', 'sum')).reset_index()\n",
    "display(orders_daily.head())\n",
    "display(visits_daily.head())"
   ]
  },
  {
   "cell_type": "markdown",
   "metadata": {},
   "source": [
    "De esta manera calculamos el numero de pedidos para cada grupo por dia y tambien las visistas de cada dia en cada grupo especifico, mediante una agrupacion por fecha y sumando la cantidad de visitas de cada grupo en especifico."
   ]
  },
  {
   "cell_type": "code",
   "execution_count": 43,
   "metadata": {},
   "outputs": [
    {
     "data": {
      "text/html": [
       "<div>\n",
       "<style scoped>\n",
       "    .dataframe tbody tr th:only-of-type {\n",
       "        vertical-align: middle;\n",
       "    }\n",
       "\n",
       "    .dataframe tbody tr th {\n",
       "        vertical-align: top;\n",
       "    }\n",
       "\n",
       "    .dataframe thead th {\n",
       "        text-align: right;\n",
       "    }\n",
       "</style>\n",
       "<table border=\"1\" class=\"dataframe\">\n",
       "  <thead>\n",
       "    <tr style=\"text-align: right;\">\n",
       "      <th></th>\n",
       "      <th>date</th>\n",
       "      <th>group</th>\n",
       "      <th>orders</th>\n",
       "      <th>visits</th>\n",
       "      <th>conversion_rate</th>\n",
       "    </tr>\n",
       "  </thead>\n",
       "  <tbody>\n",
       "    <tr>\n",
       "      <th>0</th>\n",
       "      <td>2019-08-01</td>\n",
       "      <td>A</td>\n",
       "      <td>23</td>\n",
       "      <td>719</td>\n",
       "      <td>0.031989</td>\n",
       "    </tr>\n",
       "    <tr>\n",
       "      <th>1</th>\n",
       "      <td>2019-08-01</td>\n",
       "      <td>B</td>\n",
       "      <td>17</td>\n",
       "      <td>713</td>\n",
       "      <td>0.023843</td>\n",
       "    </tr>\n",
       "    <tr>\n",
       "      <th>2</th>\n",
       "      <td>2019-08-02</td>\n",
       "      <td>A</td>\n",
       "      <td>19</td>\n",
       "      <td>619</td>\n",
       "      <td>0.030695</td>\n",
       "    </tr>\n",
       "    <tr>\n",
       "      <th>3</th>\n",
       "      <td>2019-08-02</td>\n",
       "      <td>B</td>\n",
       "      <td>23</td>\n",
       "      <td>581</td>\n",
       "      <td>0.039587</td>\n",
       "    </tr>\n",
       "    <tr>\n",
       "      <th>4</th>\n",
       "      <td>2019-08-03</td>\n",
       "      <td>A</td>\n",
       "      <td>24</td>\n",
       "      <td>507</td>\n",
       "      <td>0.047337</td>\n",
       "    </tr>\n",
       "  </tbody>\n",
       "</table>\n",
       "</div>"
      ],
      "text/plain": [
       "        date group  orders  visits  conversion_rate\n",
       "0 2019-08-01     A      23     719         0.031989\n",
       "1 2019-08-01     B      17     713         0.023843\n",
       "2 2019-08-02     A      19     619         0.030695\n",
       "3 2019-08-02     B      23     581         0.039587\n",
       "4 2019-08-03     A      24     507         0.047337"
      ]
     },
     "execution_count": 43,
     "metadata": {},
     "output_type": "execute_result"
    }
   ],
   "source": [
    "merged_data = pd.merge(orders_daily, visits_daily, on=['date', 'group'])\n",
    "merged_data['conversion_rate'] = merged_data['orders'] / merged_data['visits']\n",
    "merged_data.head()"
   ]
  },
  {
   "cell_type": "markdown",
   "metadata": {},
   "source": [
    "Unimos estas dos tablas y calculamos las taza de conversion para cada grupo, dividiendo el numero de pedidos diarios por el numero de visitas diarias.Pra visualizar este resultados, debemos separa a cada grupo y crear un grafico que muestre las conversiones diarias."
   ]
  },
  {
   "cell_type": "code",
   "execution_count": 44,
   "metadata": {},
   "outputs": [],
   "source": [
    "conversion_A = merged_data[merged_data['group'] == 'A']\n",
    "conversion_B = merged_data[merged_data['group'] == 'B']"
   ]
  },
  {
   "cell_type": "code",
   "execution_count": 45,
   "metadata": {},
   "outputs": [
    {
     "data": {
      "image/png": "[encoded data removed]",
      "text/plain": [
       "<Figure size 1400x700 with 1 Axes>"
      ]
     },
     "metadata": {},
     "output_type": "display_data"
    }
   ],
   "source": [
    "plt.figure(figsize=(14, 7))\n",
    "plt.plot(conversion_A['date'], conversion_A['conversion_rate'], marker='o', linestyle='-', label='Grupo A', color='blue')\n",
    "plt.plot(conversion_B['date'], conversion_B['conversion_rate'], marker='o', linestyle='-', label='Grupo B', color='green')\n",
    "\n",
    "plt.title('Tasas de Conversión Diarias por Grupo (A vs B)')\n",
    "plt.xlabel('Fecha')\n",
    "plt.ylabel('Tasa de Conversión')\n",
    "plt.axhline(0, color='gray', linestyle='--', lw=1)  \n",
    "plt.xticks(rotation=45)\n",
    "plt.grid(True)\n",
    "plt.legend(title='Grupo')\n",
    "\n",
    "plt.tight_layout()\n",
    "plt.show()"
   ]
  },
  {
   "cell_type": "markdown",
   "metadata": {},
   "source": [
    "**Las variaciones en las tasas de conversión a lo largo del tiempo indican cómo responden los grupos al test A/B.con 19 registros hacia a rriba el grupo B tiene la mejor taza de conversion que el grupo A cuyos registros positivos son 8.Esto auriere que los cambios realizados en el grupo B estan teniendo un impacto positivo en esta metrica.**"
   ]
  },
  {
   "cell_type": "markdown",
   "metadata": {},
   "source": [
    "Ahora calcularemos el numero de pedidos por usuario para trazar un gráfico de dispersión del número de pedidos por usuario. Y obtener conclusion a partir de esto."
   ]
  },
  {
   "cell_type": "code",
   "execution_count": 46,
   "metadata": {},
   "outputs": [],
   "source": [
    "orders_per_user = df_orders_cleaned.groupby(['visitorId', 'group']).agg(orders=('transactionId', 'nunique')).reset_index()"
   ]
  },
  {
   "cell_type": "code",
   "execution_count": 47,
   "metadata": {},
   "outputs": [
    {
     "data": {
      "image/png": "[encoded data removed]",
      "text/plain": [
       "<Figure size 640x480 with 1 Axes>"
      ]
     },
     "metadata": {},
     "output_type": "display_data"
    }
   ],
   "source": [
    "for group in orders_per_user['group'].unique():\n",
    "    subset = orders_per_user[orders_per_user['group'] == group]\n",
    "    plt.scatter(subset['visitorId'], subset['orders'], label=f'Grupo {group}', alpha=0.6)\n",
    "plt.title('Número de Pedidos por Usuario')\n",
    "plt.xlabel('ID del Usuario')\n",
    "plt.ylabel('Número de Pedidos')\n",
    "plt.legend(title='Grupo')\n",
    "plt.grid(True)\n",
    "plt.xticks([])\n",
    "\n",
    "plt.tight_layout()\n",
    "plt.show()"
   ]
  },
  {
   "cell_type": "markdown",
   "metadata": {},
   "source": [
    "**Determinamos de esta forma que en cuanto al tmaño de cada una de las compras, el grupo A del test parece tener mayor cantidad de pedidos grandes, a comparacion con el tamaño de compra promedio del grupo B.**"
   ]
  },
  {
   "cell_type": "markdown",
   "metadata": {},
   "source": [
    "Tenemos valores atipicos que no podemos ignorar en nuestro grafico de dispersion, ya que puede ser que estos pocos pedidos grandres represneten un beneficio importante para la tienda, el objetivo sera determinar el punto en el cual los datos se vuelven anomalos, y para esto calcularemos los ultimos percentiles de la grafica. "
   ]
  },
  {
   "cell_type": "code",
   "execution_count": 48,
   "metadata": {},
   "outputs": [
    {
     "data": {
      "text/html": [
       "<div>\n",
       "<style scoped>\n",
       "    .dataframe tbody tr th:only-of-type {\n",
       "        vertical-align: middle;\n",
       "    }\n",
       "\n",
       "    .dataframe tbody tr th {\n",
       "        vertical-align: top;\n",
       "    }\n",
       "\n",
       "    .dataframe thead th {\n",
       "        text-align: right;\n",
       "    }\n",
       "</style>\n",
       "<table border=\"1\" class=\"dataframe\">\n",
       "  <thead>\n",
       "    <tr style=\"text-align: right;\">\n",
       "      <th></th>\n",
       "      <th>visitorId</th>\n",
       "      <th>group</th>\n",
       "      <th>orders</th>\n",
       "    </tr>\n",
       "  </thead>\n",
       "  <tbody>\n",
       "    <tr>\n",
       "      <th>0</th>\n",
       "      <td>5114589</td>\n",
       "      <td>B</td>\n",
       "      <td>1</td>\n",
       "    </tr>\n",
       "    <tr>\n",
       "      <th>1</th>\n",
       "      <td>6958315</td>\n",
       "      <td>B</td>\n",
       "      <td>1</td>\n",
       "    </tr>\n",
       "    <tr>\n",
       "      <th>2</th>\n",
       "      <td>11685486</td>\n",
       "      <td>A</td>\n",
       "      <td>1</td>\n",
       "    </tr>\n",
       "    <tr>\n",
       "      <th>3</th>\n",
       "      <td>39475350</td>\n",
       "      <td>B</td>\n",
       "      <td>1</td>\n",
       "    </tr>\n",
       "    <tr>\n",
       "      <th>4</th>\n",
       "      <td>47206413</td>\n",
       "      <td>B</td>\n",
       "      <td>1</td>\n",
       "    </tr>\n",
       "  </tbody>\n",
       "</table>\n",
       "</div>"
      ],
      "text/plain": [
       "   visitorId group  orders\n",
       "0    5114589     B       1\n",
       "1    6958315     B       1\n",
       "2   11685486     A       1\n",
       "3   39475350     B       1\n",
       "4   47206413     B       1"
      ]
     },
     "execution_count": 48,
     "metadata": {},
     "output_type": "execute_result"
    }
   ],
   "source": [
    "orders_per_user.head()"
   ]
  },
  {
   "cell_type": "code",
   "execution_count": 49,
   "metadata": {},
   "outputs": [
    {
     "name": "stdout",
     "output_type": "stream",
     "text": [
      "Percentil 95: 1.0\n",
      "Percentil 99: 2.0\n"
     ]
    }
   ],
   "source": [
    "percentile_95 = np.percentile(orders_per_user['orders'], 95)\n",
    "percentile_99 = np.percentile(orders_per_user['orders'], 99)\n",
    "print(f\"Percentil 95: {percentile_95}\")\n",
    "print(f\"Percentil 99: {percentile_99}\")"
   ]
  },
  {
   "cell_type": "markdown",
   "metadata": {},
   "source": [
    "De esta forma deterninamos cuales son los valores a partir de los cuales el tmaño promedio de los pedidos de los suuarios en cada test empieza a volverse anomalo. Ahora definiremos esta metrica de manera mas clara."
   ]
  },
  {
   "cell_type": "code",
   "execution_count": 50,
   "metadata": {},
   "outputs": [
    {
     "name": "stdout",
     "output_type": "stream",
     "text": [
      "Anomalías (por encima del percentil 95): \n",
      "      visitorId group  orders\n",
      "55    249864742     B       3\n",
      "82    366673373     A       2\n",
      "94    406208401     B       2\n",
      "118   522292794     B       2\n",
      "138   611059232     A       3\n",
      "157   678354126     A       2\n",
      "176   759473111     A       2\n",
      "323  1404560065     B       2\n",
      "375  1617417821     A       2\n",
      "380  1637811943     B       2\n",
      "407  1772171838     A       2\n",
      "452  1985475298     B       2\n",
      "459  2025197455     B       2\n",
      "476  2096506107     B       2\n",
      "478  2108163459     A       3\n",
      "509  2232111114     A       2\n",
      "529  2306096143     A       2\n",
      "539  2366521417     B       2\n",
      "548  2397843657     B       2\n",
      "624  2706377257     A       2\n",
      "628  2733145037     A       2\n",
      "632  2742574263     B       3\n",
      "634  2744017357     A       2\n",
      "664  2892265953     A       2\n",
      "687  2988190573     A       3\n",
      "709  3077396270     B       2\n",
      "780  3332057097     B       2\n",
      "787  3362039251     B       2\n",
      "792  3379260072     B       2\n",
      "807  3469608676     A       2\n",
      "890  3908431265     A       3\n",
      "897  3935952912     B       2\n",
      "901  3941503500     B       2\n",
      "908  3967698036     A       3\n",
      "937  4109358064     A       2\n",
      "940  4134830387     B       2\n",
      "Anomalías (por encima del percentil 99): \n",
      "      visitorId group  orders\n",
      "55    249864742     B       3\n",
      "138   611059232     A       3\n",
      "478  2108163459     A       3\n",
      "632  2742574263     B       3\n",
      "687  2988190573     A       3\n",
      "890  3908431265     A       3\n",
      "908  3967698036     A       3\n"
     ]
    }
   ],
   "source": [
    "anomaly_threshold_95 = percentile_95\n",
    "anomaly_threshold_99 = percentile_99\n",
    "anomalies_95 = orders_per_user[orders_per_user['orders'] > anomaly_threshold_95]\n",
    "anomalies_99 = orders_per_user[orders_per_user['orders'] > anomaly_threshold_99]\n",
    "print(f\"Anomalías (por encima del percentil 95): \\n{anomalies_95}\")\n",
    "print(f\"Anomalías (por encima del percentil 99): \\n{anomalies_99}\")"
   ]
  },
  {
   "cell_type": "markdown",
   "metadata": {},
   "source": [
    "Un punto se considera anomalia si supera los humbrales 95 y 99. A partir de este concepto, Filtramos los datos para obtener las anomalías que están por encima de estos umbrales."
   ]
  },
  {
   "cell_type": "markdown",
   "metadata": {},
   "source": [
    "**Determinamos de esta forma que los pedidos de los usuarios empiezan a volverse anomalo a partir de la realizacion de 2 a 3 pedidos.**"
   ]
  },
  {
   "cell_type": "markdown",
   "metadata": {},
   "source": [
    "Tambien es importante verificar que de cuanto fue la inversion de cada uno de los usuarios en sus pedidos respectivos.Para esto vamos a trazar un gráfico de dispersión de los precios de los pedidos."
   ]
  },
  {
   "cell_type": "code",
   "execution_count": 51,
   "metadata": {},
   "outputs": [
    {
     "data": {
      "text/html": [
       "<div>\n",
       "<style scoped>\n",
       "    .dataframe tbody tr th:only-of-type {\n",
       "        vertical-align: middle;\n",
       "    }\n",
       "\n",
       "    .dataframe tbody tr th {\n",
       "        vertical-align: top;\n",
       "    }\n",
       "\n",
       "    .dataframe thead th {\n",
       "        text-align: right;\n",
       "    }\n",
       "</style>\n",
       "<table border=\"1\" class=\"dataframe\">\n",
       "  <thead>\n",
       "    <tr style=\"text-align: right;\">\n",
       "      <th></th>\n",
       "      <th>transactionId</th>\n",
       "      <th>visitorId</th>\n",
       "      <th>date</th>\n",
       "      <th>revenue</th>\n",
       "      <th>group</th>\n",
       "      <th>cumulative_revenue</th>\n",
       "      <th>order_size</th>\n",
       "      <th>cumulative_avg_order_size</th>\n",
       "    </tr>\n",
       "  </thead>\n",
       "  <tbody>\n",
       "    <tr>\n",
       "      <th>168</th>\n",
       "      <td>2065527789</td>\n",
       "      <td>1581167209</td>\n",
       "      <td>2019-08-01</td>\n",
       "      <td>30.4</td>\n",
       "      <td>A</td>\n",
       "      <td>30.4</td>\n",
       "      <td>30.4</td>\n",
       "      <td>30.400000</td>\n",
       "    </tr>\n",
       "    <tr>\n",
       "      <th>171</th>\n",
       "      <td>2153842875</td>\n",
       "      <td>876081193</td>\n",
       "      <td>2019-08-01</td>\n",
       "      <td>55.4</td>\n",
       "      <td>A</td>\n",
       "      <td>1842.3</td>\n",
       "      <td>55.4</td>\n",
       "      <td>42.900000</td>\n",
       "    </tr>\n",
       "    <tr>\n",
       "      <th>169</th>\n",
       "      <td>3588515863</td>\n",
       "      <td>1737494355</td>\n",
       "      <td>2019-08-01</td>\n",
       "      <td>30.8</td>\n",
       "      <td>A</td>\n",
       "      <td>1873.1</td>\n",
       "      <td>30.8</td>\n",
       "      <td>38.866667</td>\n",
       "    </tr>\n",
       "    <tr>\n",
       "      <th>155</th>\n",
       "      <td>891673177</td>\n",
       "      <td>572335325</td>\n",
       "      <td>2019-08-01</td>\n",
       "      <td>60.8</td>\n",
       "      <td>A</td>\n",
       "      <td>1933.9</td>\n",
       "      <td>60.8</td>\n",
       "      <td>44.350000</td>\n",
       "    </tr>\n",
       "    <tr>\n",
       "      <th>154</th>\n",
       "      <td>4206138190</td>\n",
       "      <td>1219079053</td>\n",
       "      <td>2019-08-01</td>\n",
       "      <td>80.5</td>\n",
       "      <td>A</td>\n",
       "      <td>2014.4</td>\n",
       "      <td>80.5</td>\n",
       "      <td>51.580000</td>\n",
       "    </tr>\n",
       "  </tbody>\n",
       "</table>\n",
       "</div>"
      ],
      "text/plain": [
       "     transactionId   visitorId       date  revenue group  cumulative_revenue  \\\n",
       "168     2065527789  1581167209 2019-08-01     30.4     A                30.4   \n",
       "171     2153842875   876081193 2019-08-01     55.4     A              1842.3   \n",
       "169     3588515863  1737494355 2019-08-01     30.8     A              1873.1   \n",
       "155      891673177   572335325 2019-08-01     60.8     A              1933.9   \n",
       "154     4206138190  1219079053 2019-08-01     80.5     A              2014.4   \n",
       "\n",
       "     order_size  cumulative_avg_order_size  \n",
       "168        30.4                  30.400000  \n",
       "171        55.4                  42.900000  \n",
       "169        30.8                  38.866667  \n",
       "155        60.8                  44.350000  \n",
       "154        80.5                  51.580000  "
      ]
     },
     "execution_count": 51,
     "metadata": {},
     "output_type": "execute_result"
    }
   ],
   "source": [
    "df_orders_cleaned.head()"
   ]
  },
  {
   "cell_type": "markdown",
   "metadata": {},
   "source": [
    "Utilizaremos las columnas que contienen el Id de transaccion, para agregarlas al grafico  con la columna que contiene el beneficio (valor) de cada uno de los pedidos."
   ]
  },
  {
   "cell_type": "code",
   "execution_count": 52,
   "metadata": {},
   "outputs": [
    {
     "data": {
      "image/png": "[encoded data removed]",
      "text/plain": [
       "<Figure size 1000x600 with 1 Axes>"
      ]
     },
     "metadata": {},
     "output_type": "display_data"
    }
   ],
   "source": [
    "plt.figure(figsize=(10, 6))\n",
    "plt.scatter(df_orders_cleaned['transactionId'], df_orders_cleaned['revenue'], alpha=0.5, color='yellow')\n",
    "plt.title('Gráfico de Dispersión de los Precios de los Pedidos')\n",
    "plt.xlabel('ID de Transacción')\n",
    "plt.ylabel('Ingresos del Pedido')\n",
    "plt.grid(True)\n",
    "plt.show()"
   ]
  },
  {
   "cell_type": "markdown",
   "metadata": {},
   "source": [
    "**De esta forma observamos que los valores de los pedidos se manejan normalmente entre los 2500 a excepcion de alguno de ellos que oscilan los  20000 en el cual puede ser anomalo, para esto calcularemos  los valores de los ultimos percentiles de esta grafica.**"
   ]
  },
  {
   "cell_type": "markdown",
   "metadata": {},
   "source": [
    "Devido a esta anomalia en el valor dentro del precio de este pedido, vamos ha calcular el punto en el que estos valores empiezan a ser anomalos, encontrando el valor de los ultimos percentiles."
   ]
  },
  {
   "cell_type": "code",
   "execution_count": 53,
   "metadata": {},
   "outputs": [
    {
     "data": {
      "text/plain": [
       "'Percentil 95: 414.275'"
      ]
     },
     "metadata": {},
     "output_type": "display_data"
    },
    {
     "data": {
      "text/plain": [
       "'Percentil 99: 830.3'"
      ]
     },
     "metadata": {},
     "output_type": "display_data"
    }
   ],
   "source": [
    "percentile_95 = np.percentile(df_orders_cleaned['revenue'], 95)\n",
    "percentile_99 = np.percentile(df_orders_cleaned['revenue'], 99)\n",
    "display(f'Percentil 95: {percentile_95}')\n",
    "display(f'Percentil 99: {percentile_99}')"
   ]
  },
  {
   "cell_type": "markdown",
   "metadata": {},
   "source": [
    "De esta manera obtenemos los valores de los percentiles 95 y 99 de la columna 'rvenue' en el dataframe df_orders_cleaned, y para determianr que valore as anomalo, colocaremos una condicion para que aquellos valores mas arriba del percentil 99 se representen como anomalos."
   ]
  },
  {
   "cell_type": "code",
   "execution_count": 54,
   "metadata": {},
   "outputs": [
    {
     "data": {
      "text/plain": [
       "'Número de anomalías: 9'"
      ]
     },
     "metadata": {},
     "output_type": "display_data"
    },
    {
     "data": {
      "text/html": [
       "<div>\n",
       "<style scoped>\n",
       "    .dataframe tbody tr th:only-of-type {\n",
       "        vertical-align: middle;\n",
       "    }\n",
       "\n",
       "    .dataframe tbody tr th {\n",
       "        vertical-align: top;\n",
       "    }\n",
       "\n",
       "    .dataframe thead th {\n",
       "        text-align: right;\n",
       "    }\n",
       "</style>\n",
       "<table border=\"1\" class=\"dataframe\">\n",
       "  <thead>\n",
       "    <tr style=\"text-align: right;\">\n",
       "      <th></th>\n",
       "      <th>index</th>\n",
       "      <th>transactionId</th>\n",
       "      <th>visitorId</th>\n",
       "      <th>date</th>\n",
       "      <th>revenue</th>\n",
       "      <th>group</th>\n",
       "      <th>cumulative_revenue</th>\n",
       "      <th>order_size</th>\n",
       "      <th>cumulative_avg_order_size</th>\n",
       "    </tr>\n",
       "  </thead>\n",
       "  <tbody>\n",
       "    <tr>\n",
       "      <th>0</th>\n",
       "      <td>940</td>\n",
       "      <td>2420050534</td>\n",
       "      <td>4003628586</td>\n",
       "      <td>2019-08-08</td>\n",
       "      <td>905.8</td>\n",
       "      <td>B</td>\n",
       "      <td>19264.6</td>\n",
       "      <td>905.8</td>\n",
       "      <td>112.488971</td>\n",
       "    </tr>\n",
       "    <tr>\n",
       "      <th>1</th>\n",
       "      <td>743</td>\n",
       "      <td>3603576309</td>\n",
       "      <td>4133034833</td>\n",
       "      <td>2019-08-09</td>\n",
       "      <td>1050.0</td>\n",
       "      <td>A</td>\n",
       "      <td>14903.8</td>\n",
       "      <td>1050.0</td>\n",
       "      <td>88.216993</td>\n",
       "    </tr>\n",
       "    <tr>\n",
       "      <th>2</th>\n",
       "      <td>1099</td>\n",
       "      <td>316924019</td>\n",
       "      <td>148427295</td>\n",
       "      <td>2019-08-12</td>\n",
       "      <td>1015.9</td>\n",
       "      <td>A</td>\n",
       "      <td>23512.6</td>\n",
       "      <td>1015.9</td>\n",
       "      <td>98.747396</td>\n",
       "    </tr>\n",
       "    <tr>\n",
       "      <th>3</th>\n",
       "      <td>1103</td>\n",
       "      <td>1348774318</td>\n",
       "      <td>1164614297</td>\n",
       "      <td>2019-08-12</td>\n",
       "      <td>1025.8</td>\n",
       "      <td>A</td>\n",
       "      <td>21964.1</td>\n",
       "      <td>1025.8</td>\n",
       "      <td>103.098454</td>\n",
       "    </tr>\n",
       "    <tr>\n",
       "      <th>4</th>\n",
       "      <td>1136</td>\n",
       "      <td>666610489</td>\n",
       "      <td>1307669133</td>\n",
       "      <td>2019-08-13</td>\n",
       "      <td>1425.8</td>\n",
       "      <td>A</td>\n",
       "      <td>27382.4</td>\n",
       "      <td>1425.8</td>\n",
       "      <td>112.611058</td>\n",
       "    </tr>\n",
       "    <tr>\n",
       "      <th>5</th>\n",
       "      <td>1196</td>\n",
       "      <td>3936777065</td>\n",
       "      <td>2108080724</td>\n",
       "      <td>2019-08-15</td>\n",
       "      <td>3120.1</td>\n",
       "      <td>B</td>\n",
       "      <td>35246.2</td>\n",
       "      <td>3120.1</td>\n",
       "      <td>108.964260</td>\n",
       "    </tr>\n",
       "    <tr>\n",
       "      <th>6</th>\n",
       "      <td>425</td>\n",
       "      <td>590470918</td>\n",
       "      <td>1920142716</td>\n",
       "      <td>2019-08-19</td>\n",
       "      <td>19920.4</td>\n",
       "      <td>B</td>\n",
       "      <td>62538.5</td>\n",
       "      <td>19920.4</td>\n",
       "      <td>164.586337</td>\n",
       "    </tr>\n",
       "    <tr>\n",
       "      <th>7</th>\n",
       "      <td>949</td>\n",
       "      <td>1347999392</td>\n",
       "      <td>887908475</td>\n",
       "      <td>2019-08-21</td>\n",
       "      <td>930.0</td>\n",
       "      <td>A</td>\n",
       "      <td>40254.6</td>\n",
       "      <td>930.0</td>\n",
       "      <td>109.837538</td>\n",
       "    </tr>\n",
       "    <tr>\n",
       "      <th>8</th>\n",
       "      <td>744</td>\n",
       "      <td>3668308183</td>\n",
       "      <td>888512513</td>\n",
       "      <td>2019-08-27</td>\n",
       "      <td>1335.6</td>\n",
       "      <td>B</td>\n",
       "      <td>81321.5</td>\n",
       "      <td>1335.6</td>\n",
       "      <td>154.370842</td>\n",
       "    </tr>\n",
       "  </tbody>\n",
       "</table>\n",
       "</div>"
      ],
      "text/plain": [
       "   index  transactionId   visitorId       date  revenue group  \\\n",
       "0    940     2420050534  4003628586 2019-08-08    905.8     B   \n",
       "1    743     3603576309  4133034833 2019-08-09   1050.0     A   \n",
       "2   1099      316924019   148427295 2019-08-12   1015.9     A   \n",
       "3   1103     1348774318  1164614297 2019-08-12   1025.8     A   \n",
       "4   1136      666610489  1307669133 2019-08-13   1425.8     A   \n",
       "5   1196     3936777065  2108080724 2019-08-15   3120.1     B   \n",
       "6    425      590470918  1920142716 2019-08-19  19920.4     B   \n",
       "7    949     1347999392   887908475 2019-08-21    930.0     A   \n",
       "8    744     3668308183   888512513 2019-08-27   1335.6     B   \n",
       "\n",
       "   cumulative_revenue  order_size  cumulative_avg_order_size  \n",
       "0             19264.6       905.8                 112.488971  \n",
       "1             14903.8      1050.0                  88.216993  \n",
       "2             23512.6      1015.9                  98.747396  \n",
       "3             21964.1      1025.8                 103.098454  \n",
       "4             27382.4      1425.8                 112.611058  \n",
       "5             35246.2      3120.1                 108.964260  \n",
       "6             62538.5     19920.4                 164.586337  \n",
       "7             40254.6       930.0                 109.837538  \n",
       "8             81321.5      1335.6                 154.370842  "
      ]
     },
     "metadata": {},
     "output_type": "display_data"
    }
   ],
   "source": [
    "anomalies = df_orders_cleaned[df_orders_cleaned['revenue'] > percentile_99]\n",
    "\n",
    "display(f'Número de anomalías: {len(anomalies)}')\n",
    "display(anomalies.reset_index())"
   ]
  },
  {
   "cell_type": "markdown",
   "metadata": {},
   "source": [
    "**No mas de 9 usuarios realizaron una compra, desde este punto se etablece que el precio de una compra es anomalo.**"
   ]
  },
  {
   "cell_type": "markdown",
   "metadata": {},
   "source": [
    "Ahora vamos a encontar la significancia estadistica en las tazas de conversion entre los usuarios con nuestros datos en bruto, y de esta manera obtener conlusiones y conjeturas."
   ]
  },
  {
   "cell_type": "code",
   "execution_count": 55,
   "metadata": {},
   "outputs": [
    {
     "data": {
      "text/html": [
       "<div>\n",
       "<style scoped>\n",
       "    .dataframe tbody tr th:only-of-type {\n",
       "        vertical-align: middle;\n",
       "    }\n",
       "\n",
       "    .dataframe tbody tr th {\n",
       "        vertical-align: top;\n",
       "    }\n",
       "\n",
       "    .dataframe thead th {\n",
       "        text-align: right;\n",
       "    }\n",
       "</style>\n",
       "<table border=\"1\" class=\"dataframe\">\n",
       "  <thead>\n",
       "    <tr style=\"text-align: right;\">\n",
       "      <th></th>\n",
       "      <th>group</th>\n",
       "      <th>visits</th>\n",
       "      <th>orders</th>\n",
       "      <th>conversion_rate</th>\n",
       "    </tr>\n",
       "  </thead>\n",
       "  <tbody>\n",
       "    <tr>\n",
       "      <th>0</th>\n",
       "      <td>A</td>\n",
       "      <td>18736</td>\n",
       "      <td>468</td>\n",
       "      <td>0.024979</td>\n",
       "    </tr>\n",
       "    <tr>\n",
       "      <th>1</th>\n",
       "      <td>B</td>\n",
       "      <td>18916</td>\n",
       "      <td>548</td>\n",
       "      <td>0.028970</td>\n",
       "    </tr>\n",
       "  </tbody>\n",
       "</table>\n",
       "</div>"
      ],
      "text/plain": [
       "  group  visits  orders  conversion_rate\n",
       "0     A   18736     468         0.024979\n",
       "1     B   18916     548         0.028970"
      ]
     },
     "execution_count": 55,
     "metadata": {},
     "output_type": "execute_result"
    }
   ],
   "source": [
    "visits_grouped = df_visitors.groupby('group')['visits'].sum().reset_index()\n",
    "orders_grouped = df_orders_cleaned.groupby('group')['transactionId'].count().reset_index()\n",
    "conversion_rate = pd.merge(visits_grouped, orders_grouped, on='group')\n",
    "conversion_rate.columns = ['group', 'visits', 'orders']\n",
    "conversion_rate['conversion_rate'] = conversion_rate['orders'] / conversion_rate['visits'] \n",
    "conversion_rate.head()"
   ]
  },
  {
   "cell_type": "markdown",
   "metadata": {},
   "source": [
    "De esta forma obtenemos el valor para la taza de conversion de cada uno de los  usuarios en los grupos del tesr A/B realizados.Ahora debemos generemos una hipotesis nula y una alternativa para comprobar la relacion en esta significancia estadistica. Con nuestros datos filtrados."
   ]
  },
  {
   "cell_type": "markdown",
   "metadata": {},
   "source": [
    "**(H0): No hay diferencia en las tasas de conversión entre los grupos A y B.**\n",
    "\n",
    "\n",
    "**(H1): Hay una diferencia en las tasas de conversión entre los grupos A y B.**"
   ]
  },
  {
   "cell_type": "code",
   "execution_count": 56,
   "metadata": {},
   "outputs": [],
   "source": [
    "conversion_A = conversion_rate.loc[conversion_rate['group'] == 'A', 'conversion_rate'].values[0]\n",
    "conversion_B = conversion_rate.loc[conversion_rate['group'] == 'B', 'conversion_rate'].values[0]\n",
    "n_A = conversion_rate.loc[conversion_rate['group'] == 'A', 'visits'].values[0]\n",
    "n_B = conversion_rate.loc[conversion_rate['group'] == 'B', 'visits'].values[0]"
   ]
  },
  {
   "cell_type": "markdown",
   "metadata": {},
   "source": [
    "Asi es como extraemos la conversion y los tamaños de muestra de cada uno de los grupos para las pruebas A/B."
   ]
  },
  {
   "cell_type": "code",
   "execution_count": 57,
   "metadata": {},
   "outputs": [
    {
     "name": "stdout",
     "output_type": "stream",
     "text": [
      "Estadística Z: 2.3899344431697442\n",
      "Valor p: 0.008425690217351511\n"
     ]
    }
   ],
   "source": [
    "conversion_combined = (conversion_A * n_A + conversion_B * n_B) / (n_A + n_B)\n",
    "std_combined = ((conversion_combined * (1 - conversion_combined)) * (1/n_A + 1/n_B)) ** 0.5\n",
    "z_score = (conversion_B - conversion_A) / std_combined\n",
    "print(f'Estadística Z: {z_score}')\n",
    "p_value = 1 - norm.cdf(abs(z_score))\n",
    "\n",
    "print(f'Valor p: {p_value}')"
   ]
  },
  {
   "cell_type": "markdown",
   "metadata": {},
   "source": [
    "Calculamos la conversion y la desviasion estandar combinada para obtener de esta manera el estadistico Z, y el valor P para realizar nuestra prueba de hipotesis."
   ]
  },
  {
   "cell_type": "code",
   "execution_count": 58,
   "metadata": {},
   "outputs": [
    {
     "name": "stdout",
     "output_type": "stream",
     "text": [
      "Rechazamos la hipótesis nula: hay una diferencia significativa en las tasas de conversión entre los grupos A y B.\n"
     ]
    }
   ],
   "source": [
    "alpha = 0.05\n",
    "if p_value < alpha:\n",
    "    print(\"Rechazamos la hipótesis nula: hay una diferencia significativa en las tasas de conversión entre los grupos A y B.\")\n",
    "else:\n",
    "    print(\"No rechazamos la hipótesis nula: no hay una diferencia significativa en las tasas de conversión entre los grupos A y B.\")"
   ]
  },
  {
   "cell_type": "markdown",
   "metadata": {},
   "source": [
    "Definimos un valor para alfa e interamos sobre los resultados para abtener nuestro resultado.Determinado de esta forma que **si existe una diferencia significativa para las tasas de conversion entre los grupos A y B.**"
   ]
  },
  {
   "cell_type": "markdown",
   "metadata": {},
   "source": [
    "Utilizando este mismo enfoque, calcularemos la significansia estadistica para el tamaño promedio de cada uno de los pedidos y poder compararlos para obtener conslusiones y conjeturas."
   ]
  },
  {
   "cell_type": "markdown",
   "metadata": {},
   "source": [
    "**(H0): No hay diferencia en el tamaño promedio de pedido entre los grupos A y B**\n",
    "\n",
    "**(H1): Hay una diferencia en el tamaño promedio de pedido entre los grupos A y B**"
   ]
  },
  {
   "cell_type": "code",
   "execution_count": 59,
   "metadata": {},
   "outputs": [
    {
     "data": {
      "text/plain": [
       "'Grupo A - Media: 115.89748653500897, Desviación estándar: 182.35891775769414'"
      ]
     },
     "metadata": {},
     "output_type": "display_data"
    },
    {
     "data": {
      "text/plain": [
       "'Grupo B - Media: 145.06343750000002, Desviación estándar: 806.9923263645859'"
      ]
     },
     "metadata": {},
     "output_type": "display_data"
    }
   ],
   "source": [
    "group_A = df_orders[df_orders['group'] == 'A']['revenue']\n",
    "group_B = df_orders[df_orders['group'] == 'B']['revenue']\n",
    "\n",
    "mean_A = group_A.mean()\n",
    "std_A = group_A.std()\n",
    "mean_B = group_B.mean()\n",
    "std_B = group_B.std()\n",
    "display(f'Grupo A - Media: {mean_A}, Desviación estándar: {std_A}')\n",
    "display(f'Grupo B - Media: {mean_B}, Desviación estándar: {std_B}')"
   ]
  },
  {
   "cell_type": "markdown",
   "metadata": {},
   "source": [
    "De esta forma obtenemos los estadisticos necesarios pra realizar, nuestra prueba de hipotesis teneiendo resultados interesantes con respecto a la desviacion estandar de cada uno de los grupos, vamos a visualizarlo mejor comprovando como interactuan estas metricas con el valor p de la prueba y obteniendo resultados."
   ]
  },
  {
   "cell_type": "code",
   "execution_count": 60,
   "metadata": {},
   "outputs": [
    {
     "name": "stdout",
     "output_type": "stream",
     "text": [
      "Rechazamos la hipótesis nula: hay una diferencia significativa en el tamaño promedio de pedido entre los grupos A y B.\n"
     ]
    }
   ],
   "source": [
    "alpha = 0.05\n",
    "if p_value < alpha:\n",
    "    print(\"Rechazamos la hipótesis nula: hay una diferencia significativa en el tamaño promedio de pedido entre los grupos A y B.\")\n",
    "else:\n",
    "    print(\"No rechazamos la hipótesis nula: no hay una diferencia significativa en el tamaño promedio de pedido entre los grupos A y B.\")"
   ]
  },
  {
   "cell_type": "markdown",
   "metadata": {},
   "source": [
    "**Comprobamos entonces que nuestra hiptesis alternativa es la correcta y si hay una diferencia significativa en el tamaño promedio de los pedidos para cada grupo del dest A/B. Esto era de esperarse, ya que las estadisticas descriptivas del codigo anterior reflejaban una mejores metricas para el grupo B.**"
   ]
  },
  {
   "cell_type": "markdown",
   "metadata": {},
   "source": [
    "**DETERMINAMOS ENTONCES COMO CONCLUSION FINAL Y BASANDONOS EN LAS CONCLUCIONES PRELIMINARES QUE OBTUVIMOS DE LOS ANALISIS PREVIOS; QUE EL GRUPO PREDOMINANTE EN LOS RESULTADOS DEL TEST A/B ES EL GRUPO B, YA QUE GENERO MEJORES METRICAS Y DEMOSTRO PREDOMINANCIA EN ASPECTOS DE TAZAS DE CONVERSION Y TAMAÑOS DE COMPRA.LOS CAMBIOS GENERADOS EN ESTE GRUPO TIENEN UNA TENDENCIA POSISTIVA QUE SE MANTIENE O AUMENTA CON EL PASO DEL TIEMPO.**"
   ]
  }
 ],
 "metadata": {
  "ExecuteTimeLog": [
   {
    "duration": 461,
    "start_time": "2024-07-07T20:44:53.467Z"
   },
   {
    "duration": 25,
    "start_time": "2024-07-07T20:45:45.969Z"
   },
   {
    "duration": 15,
    "start_time": "2024-07-07T20:46:21.552Z"
   },
   {
    "duration": 15,
    "start_time": "2024-07-07T20:46:49.389Z"
   },
   {
    "duration": 1178,
    "start_time": "2024-07-07T20:52:25.590Z"
   },
   {
    "duration": 771,
    "start_time": "2024-07-07T20:53:13.625Z"
   },
   {
    "duration": 14,
    "start_time": "2024-07-07T20:53:31.440Z"
   },
   {
    "duration": 74,
    "start_time": "2024-07-07T20:53:38.184Z"
   },
   {
    "duration": 77,
    "start_time": "2024-07-07T20:54:15.618Z"
   },
   {
    "duration": 7,
    "start_time": "2024-07-07T20:55:05.570Z"
   },
   {
    "duration": 12,
    "start_time": "2024-07-07T20:55:26.660Z"
   },
   {
    "duration": 6,
    "start_time": "2024-07-07T20:55:29.713Z"
   },
   {
    "duration": 77,
    "start_time": "2024-07-07T20:55:31.934Z"
   },
   {
    "duration": 74,
    "start_time": "2024-07-07T20:55:54.425Z"
   },
   {
    "duration": 3,
    "start_time": "2024-07-07T20:57:14.633Z"
   },
   {
    "duration": 13,
    "start_time": "2024-07-07T20:57:15.273Z"
   },
   {
    "duration": 7,
    "start_time": "2024-07-07T20:57:16.171Z"
   },
   {
    "duration": 7,
    "start_time": "2024-07-07T20:57:32.757Z"
   },
   {
    "duration": 7,
    "start_time": "2024-07-07T20:57:35.066Z"
   },
   {
    "duration": 73,
    "start_time": "2024-07-07T20:57:51.533Z"
   },
   {
    "duration": 86,
    "start_time": "2024-07-07T20:58:03.748Z"
   },
   {
    "duration": 77,
    "start_time": "2024-07-07T20:58:10.894Z"
   },
   {
    "duration": 27,
    "start_time": "2024-07-07T21:05:10.700Z"
   },
   {
    "duration": 5,
    "start_time": "2024-07-07T21:05:28.370Z"
   },
   {
    "duration": 20,
    "start_time": "2024-07-07T21:05:28.379Z"
   },
   {
    "duration": 6,
    "start_time": "2024-07-07T21:05:28.402Z"
   },
   {
    "duration": 23,
    "start_time": "2024-07-07T21:05:35.494Z"
   },
   {
    "duration": 26,
    "start_time": "2024-07-07T21:05:52.430Z"
   },
   {
    "duration": 18,
    "start_time": "2024-07-07T21:06:12.865Z"
   },
   {
    "duration": 29,
    "start_time": "2024-07-07T21:08:00.420Z"
   },
   {
    "duration": 14,
    "start_time": "2024-07-07T21:08:08.506Z"
   },
   {
    "duration": 13,
    "start_time": "2024-07-07T21:11:00.928Z"
   },
   {
    "duration": 10,
    "start_time": "2024-07-07T21:14:38.426Z"
   },
   {
    "duration": 12,
    "start_time": "2024-07-07T21:15:16.491Z"
   },
   {
    "duration": 25,
    "start_time": "2024-07-07T21:16:32.772Z"
   },
   {
    "duration": 15,
    "start_time": "2024-07-07T21:16:52.806Z"
   },
   {
    "duration": 11,
    "start_time": "2024-07-07T21:17:00.206Z"
   },
   {
    "duration": 15,
    "start_time": "2024-07-07T21:17:02.159Z"
   },
   {
    "duration": 19,
    "start_time": "2024-07-07T21:17:16.569Z"
   },
   {
    "duration": 13,
    "start_time": "2024-07-07T21:17:50.780Z"
   },
   {
    "duration": 83,
    "start_time": "2024-07-07T21:24:48.749Z"
   },
   {
    "duration": 11,
    "start_time": "2024-07-07T21:25:21.423Z"
   },
   {
    "duration": 18,
    "start_time": "2024-07-07T21:25:38.476Z"
   },
   {
    "duration": 16,
    "start_time": "2024-07-07T21:25:57.613Z"
   },
   {
    "duration": 79,
    "start_time": "2024-07-07T21:26:58.019Z"
   },
   {
    "duration": 28,
    "start_time": "2024-07-07T21:27:56.203Z"
   },
   {
    "duration": 13,
    "start_time": "2024-07-07T21:28:08.777Z"
   },
   {
    "duration": 265,
    "start_time": "2024-07-07T21:28:58.633Z"
   },
   {
    "duration": 21,
    "start_time": "2024-07-07T21:29:25.799Z"
   },
   {
    "duration": 22,
    "start_time": "2024-07-07T21:29:32.616Z"
   },
   {
    "duration": 26,
    "start_time": "2024-07-07T21:40:53.117Z"
   },
   {
    "duration": 4,
    "start_time": "2024-07-07T21:41:00.710Z"
   },
   {
    "duration": 17,
    "start_time": "2024-07-07T21:41:00.720Z"
   },
   {
    "duration": 14,
    "start_time": "2024-07-07T21:41:00.741Z"
   },
   {
    "duration": 20,
    "start_time": "2024-07-07T21:41:00.759Z"
   },
   {
    "duration": 14,
    "start_time": "2024-07-07T21:41:00.823Z"
   },
   {
    "duration": 26,
    "start_time": "2024-07-07T21:41:00.841Z"
   },
   {
    "duration": 59,
    "start_time": "2024-07-07T21:41:00.871Z"
   },
   {
    "duration": 26,
    "start_time": "2024-07-07T21:41:14.603Z"
   },
   {
    "duration": 69,
    "start_time": "2024-07-07T21:41:46.093Z"
   },
   {
    "duration": 15,
    "start_time": "2024-07-07T21:41:46.166Z"
   },
   {
    "duration": 12,
    "start_time": "2024-07-07T21:41:46.184Z"
   },
   {
    "duration": 33,
    "start_time": "2024-07-07T21:41:46.201Z"
   },
   {
    "duration": 15,
    "start_time": "2024-07-07T21:41:46.237Z"
   },
   {
    "duration": 74,
    "start_time": "2024-07-07T21:41:46.255Z"
   },
   {
    "duration": 28,
    "start_time": "2024-07-07T21:41:46.333Z"
   },
   {
    "duration": 67,
    "start_time": "2024-07-07T21:41:46.365Z"
   },
   {
    "duration": 26,
    "start_time": "2024-07-07T21:41:53.746Z"
   },
   {
    "duration": 4,
    "start_time": "2024-07-07T21:42:09.558Z"
   },
   {
    "duration": 15,
    "start_time": "2024-07-07T21:42:09.568Z"
   },
   {
    "duration": 10,
    "start_time": "2024-07-07T21:42:09.588Z"
   },
   {
    "duration": 21,
    "start_time": "2024-07-07T21:42:09.601Z"
   },
   {
    "duration": 16,
    "start_time": "2024-07-07T21:42:09.625Z"
   },
   {
    "duration": 30,
    "start_time": "2024-07-07T21:42:09.646Z"
   },
   {
    "duration": 61,
    "start_time": "2024-07-07T21:42:09.682Z"
   },
   {
    "duration": 26,
    "start_time": "2024-07-07T21:42:09.746Z"
   },
   {
    "duration": 29,
    "start_time": "2024-07-07T21:42:41.433Z"
   },
   {
    "duration": 22,
    "start_time": "2024-07-07T21:42:48.380Z"
   },
   {
    "duration": 24,
    "start_time": "2024-07-07T21:42:50.986Z"
   },
   {
    "duration": 4037,
    "start_time": "2024-07-07T21:43:18.694Z"
   },
   {
    "duration": 14,
    "start_time": "2024-07-07T21:43:22.735Z"
   },
   {
    "duration": 12,
    "start_time": "2024-07-07T21:43:22.752Z"
   },
   {
    "duration": 17,
    "start_time": "2024-07-07T21:43:22.769Z"
   },
   {
    "duration": 15,
    "start_time": "2024-07-07T21:43:22.822Z"
   },
   {
    "duration": 27,
    "start_time": "2024-07-07T21:43:22.842Z"
   },
   {
    "duration": 63,
    "start_time": "2024-07-07T21:43:22.873Z"
   },
   {
    "duration": 118,
    "start_time": "2024-07-07T21:43:22.940Z"
   },
   {
    "duration": 493,
    "start_time": "2024-07-07T21:43:34.872Z"
   },
   {
    "duration": 511,
    "start_time": "2024-07-07T21:47:08.392Z"
   },
   {
    "duration": 22,
    "start_time": "2024-07-07T21:55:59.007Z"
   },
   {
    "duration": 66,
    "start_time": "2024-07-07T22:00:17.699Z"
   },
   {
    "duration": 65,
    "start_time": "2024-07-07T22:00:36.498Z"
   },
   {
    "duration": 19,
    "start_time": "2024-07-07T22:00:52.235Z"
   },
   {
    "duration": 498,
    "start_time": "2024-07-07T22:05:15.038Z"
   },
   {
    "duration": 407,
    "start_time": "2024-07-07T22:05:35.755Z"
   },
   {
    "duration": 179,
    "start_time": "2024-07-07T22:12:26.124Z"
   },
   {
    "duration": 4,
    "start_time": "2024-07-07T22:20:49.969Z"
   },
   {
    "duration": 59,
    "start_time": "2024-07-07T22:20:49.980Z"
   },
   {
    "duration": 0,
    "start_time": "2024-07-07T22:20:50.043Z"
   },
   {
    "duration": 0,
    "start_time": "2024-07-07T22:20:50.045Z"
   },
   {
    "duration": 0,
    "start_time": "2024-07-07T22:20:50.047Z"
   },
   {
    "duration": 0,
    "start_time": "2024-07-07T22:20:50.049Z"
   },
   {
    "duration": 0,
    "start_time": "2024-07-07T22:20:50.052Z"
   },
   {
    "duration": 0,
    "start_time": "2024-07-07T22:20:50.055Z"
   },
   {
    "duration": 0,
    "start_time": "2024-07-07T22:20:50.058Z"
   },
   {
    "duration": 0,
    "start_time": "2024-07-07T22:20:50.060Z"
   },
   {
    "duration": 0,
    "start_time": "2024-07-07T22:20:50.063Z"
   },
   {
    "duration": 25,
    "start_time": "2024-07-07T22:21:18.254Z"
   },
   {
    "duration": 12,
    "start_time": "2024-07-07T22:21:18.283Z"
   },
   {
    "duration": 17,
    "start_time": "2024-07-07T22:21:18.298Z"
   },
   {
    "duration": 16,
    "start_time": "2024-07-07T22:21:18.318Z"
   },
   {
    "duration": 26,
    "start_time": "2024-07-07T22:21:18.341Z"
   },
   {
    "duration": 58,
    "start_time": "2024-07-07T22:21:18.371Z"
   },
   {
    "duration": 500,
    "start_time": "2024-07-07T22:21:18.433Z"
   },
   {
    "duration": 22,
    "start_time": "2024-07-07T22:21:18.936Z"
   },
   {
    "duration": 22,
    "start_time": "2024-07-07T22:21:18.962Z"
   },
   {
    "duration": 435,
    "start_time": "2024-07-07T22:21:18.988Z"
   },
   {
    "duration": 8,
    "start_time": "2024-07-07T22:22:38.375Z"
   },
   {
    "duration": 14,
    "start_time": "2024-07-07T22:27:03.991Z"
   },
   {
    "duration": 25,
    "start_time": "2024-07-07T22:28:18.988Z"
   },
   {
    "duration": 4474,
    "start_time": "2024-07-08T00:35:37.535Z"
   },
   {
    "duration": 44,
    "start_time": "2024-07-08T00:35:42.013Z"
   },
   {
    "duration": 11,
    "start_time": "2024-07-08T00:35:42.060Z"
   },
   {
    "duration": 28,
    "start_time": "2024-07-08T00:35:42.076Z"
   },
   {
    "duration": 15,
    "start_time": "2024-07-08T00:35:42.108Z"
   },
   {
    "duration": 26,
    "start_time": "2024-07-08T00:35:42.126Z"
   },
   {
    "duration": 62,
    "start_time": "2024-07-08T00:35:42.155Z"
   },
   {
    "duration": 526,
    "start_time": "2024-07-08T00:35:42.220Z"
   },
   {
    "duration": 21,
    "start_time": "2024-07-08T00:35:42.749Z"
   },
   {
    "duration": 20,
    "start_time": "2024-07-08T00:35:42.774Z"
   },
   {
    "duration": 417,
    "start_time": "2024-07-08T00:35:42.801Z"
   },
   {
    "duration": 24,
    "start_time": "2024-07-08T00:35:43.221Z"
   },
   {
    "duration": 25,
    "start_time": "2024-07-08T00:39:33.556Z"
   },
   {
    "duration": 9,
    "start_time": "2024-07-08T00:39:53.719Z"
   },
   {
    "duration": 199,
    "start_time": "2024-07-08T00:40:11.929Z"
   },
   {
    "duration": 14,
    "start_time": "2024-07-08T00:40:18.163Z"
   },
   {
    "duration": 9,
    "start_time": "2024-07-08T00:40:23.674Z"
   },
   {
    "duration": 309,
    "start_time": "2024-07-08T00:43:37.829Z"
   },
   {
    "duration": 50,
    "start_time": "2024-07-08T00:43:45.912Z"
   },
   {
    "duration": 23,
    "start_time": "2024-07-08T00:44:01.691Z"
   },
   {
    "duration": 313,
    "start_time": "2024-07-08T03:05:14.681Z"
   },
   {
    "duration": 21,
    "start_time": "2024-07-08T03:05:21.158Z"
   },
   {
    "duration": 5289,
    "start_time": "2024-07-08T03:05:31.958Z"
   },
   {
    "duration": 88,
    "start_time": "2024-07-08T03:05:37.251Z"
   },
   {
    "duration": 11,
    "start_time": "2024-07-08T03:05:37.342Z"
   },
   {
    "duration": 17,
    "start_time": "2024-07-08T03:05:37.357Z"
   },
   {
    "duration": 14,
    "start_time": "2024-07-08T03:05:37.377Z"
   },
   {
    "duration": 32,
    "start_time": "2024-07-08T03:05:37.430Z"
   },
   {
    "duration": 26,
    "start_time": "2024-07-08T03:05:37.465Z"
   },
   {
    "duration": 525,
    "start_time": "2024-07-08T03:05:37.494Z"
   },
   {
    "duration": 20,
    "start_time": "2024-07-08T03:05:38.022Z"
   },
   {
    "duration": 19,
    "start_time": "2024-07-08T03:05:38.048Z"
   },
   {
    "duration": 408,
    "start_time": "2024-07-08T03:05:38.070Z"
   },
   {
    "duration": 22,
    "start_time": "2024-07-08T03:05:38.481Z"
   },
   {
    "duration": 50,
    "start_time": "2024-07-08T03:05:38.506Z"
   },
   {
    "duration": 10,
    "start_time": "2024-07-08T03:05:38.559Z"
   },
   {
    "duration": 10,
    "start_time": "2024-07-08T03:05:38.572Z"
   },
   {
    "duration": 6,
    "start_time": "2024-07-08T03:05:47.054Z"
   },
   {
    "duration": 13,
    "start_time": "2024-07-08T03:06:11.041Z"
   },
   {
    "duration": 7,
    "start_time": "2024-07-08T03:06:24.097Z"
   },
   {
    "duration": 13,
    "start_time": "2024-07-08T03:06:40.176Z"
   },
   {
    "duration": 83,
    "start_time": "2024-07-08T03:08:05.768Z"
   },
   {
    "duration": 29,
    "start_time": "2024-07-08T03:08:37.793Z"
   },
   {
    "duration": 7,
    "start_time": "2024-07-08T03:12:25.386Z"
   },
   {
    "duration": 18,
    "start_time": "2024-07-08T03:12:55.208Z"
   },
   {
    "duration": 18,
    "start_time": "2024-07-08T03:17:08.292Z"
   },
   {
    "duration": 15,
    "start_time": "2024-07-08T03:22:51.356Z"
   },
   {
    "duration": 8,
    "start_time": "2024-07-08T03:23:16.236Z"
   },
   {
    "duration": 21,
    "start_time": "2024-07-08T03:23:40.932Z"
   },
   {
    "duration": 7,
    "start_time": "2024-07-08T03:23:47.641Z"
   },
   {
    "duration": 13,
    "start_time": "2024-07-08T03:27:48.433Z"
   },
   {
    "duration": 5,
    "start_time": "2024-07-08T03:40:35.617Z"
   },
   {
    "duration": 10,
    "start_time": "2024-07-08T03:41:32.645Z"
   },
   {
    "duration": 268,
    "start_time": "2024-07-08T03:42:17.664Z"
   },
   {
    "duration": 271,
    "start_time": "2024-07-08T03:44:15.515Z"
   },
   {
    "duration": 556,
    "start_time": "2024-07-08T03:45:22.432Z"
   },
   {
    "duration": 266,
    "start_time": "2024-07-08T03:45:34.893Z"
   },
   {
    "duration": 300,
    "start_time": "2024-07-08T03:47:42.925Z"
   },
   {
    "duration": 4,
    "start_time": "2024-07-08T03:47:49.747Z"
   },
   {
    "duration": 25,
    "start_time": "2024-07-08T03:47:49.755Z"
   },
   {
    "duration": 9,
    "start_time": "2024-07-08T03:47:49.783Z"
   },
   {
    "duration": 36,
    "start_time": "2024-07-08T03:47:49.796Z"
   },
   {
    "duration": 12,
    "start_time": "2024-07-08T03:47:49.835Z"
   },
   {
    "duration": 34,
    "start_time": "2024-07-08T03:47:49.850Z"
   },
   {
    "duration": 59,
    "start_time": "2024-07-08T03:47:49.887Z"
   },
   {
    "duration": 471,
    "start_time": "2024-07-08T03:47:49.949Z"
   },
   {
    "duration": 26,
    "start_time": "2024-07-08T03:47:50.425Z"
   },
   {
    "duration": 20,
    "start_time": "2024-07-08T03:47:50.454Z"
   },
   {
    "duration": 397,
    "start_time": "2024-07-08T03:47:50.478Z"
   },
   {
    "duration": 23,
    "start_time": "2024-07-08T03:47:50.877Z"
   },
   {
    "duration": 48,
    "start_time": "2024-07-08T03:47:50.902Z"
   },
   {
    "duration": 9,
    "start_time": "2024-07-08T03:47:50.953Z"
   },
   {
    "duration": 9,
    "start_time": "2024-07-08T03:47:50.965Z"
   },
   {
    "duration": 54,
    "start_time": "2024-07-08T03:47:50.976Z"
   },
   {
    "duration": 18,
    "start_time": "2024-07-08T03:47:51.033Z"
   },
   {
    "duration": 14,
    "start_time": "2024-07-08T03:47:51.054Z"
   },
   {
    "duration": 8,
    "start_time": "2024-07-08T03:47:51.072Z"
   },
   {
    "duration": 49,
    "start_time": "2024-07-08T03:47:51.083Z"
   },
   {
    "duration": 13,
    "start_time": "2024-07-08T03:47:51.135Z"
   },
   {
    "duration": 8,
    "start_time": "2024-07-08T03:47:51.151Z"
   },
   {
    "duration": 299,
    "start_time": "2024-07-08T03:47:51.162Z"
   },
   {
    "duration": 396,
    "start_time": "2024-07-08T03:48:05.339Z"
   },
   {
    "duration": 477,
    "start_time": "2024-07-08T03:48:27.085Z"
   },
   {
    "duration": 8,
    "start_time": "2024-07-08T03:49:10.191Z"
   },
   {
    "duration": 27,
    "start_time": "2024-07-08T03:49:10.202Z"
   },
   {
    "duration": 11,
    "start_time": "2024-07-08T03:49:10.232Z"
   },
   {
    "duration": 15,
    "start_time": "2024-07-08T03:49:10.247Z"
   },
   {
    "duration": 14,
    "start_time": "2024-07-08T03:49:10.265Z"
   },
   {
    "duration": 61,
    "start_time": "2024-07-08T03:49:10.282Z"
   },
   {
    "duration": 21,
    "start_time": "2024-07-08T03:49:10.346Z"
   },
   {
    "duration": 478,
    "start_time": "2024-07-08T03:49:10.370Z"
   },
   {
    "duration": 20,
    "start_time": "2024-07-08T03:49:10.852Z"
   },
   {
    "duration": 19,
    "start_time": "2024-07-08T03:49:10.877Z"
   },
   {
    "duration": 420,
    "start_time": "2024-07-08T03:49:10.899Z"
   },
   {
    "duration": 27,
    "start_time": "2024-07-08T03:49:11.322Z"
   },
   {
    "duration": 24,
    "start_time": "2024-07-08T03:49:11.352Z"
   },
   {
    "duration": 52,
    "start_time": "2024-07-08T03:49:11.378Z"
   },
   {
    "duration": 8,
    "start_time": "2024-07-08T03:49:11.433Z"
   },
   {
    "duration": 15,
    "start_time": "2024-07-08T03:49:11.444Z"
   },
   {
    "duration": 18,
    "start_time": "2024-07-08T03:49:11.462Z"
   },
   {
    "duration": 56,
    "start_time": "2024-07-08T03:49:11.482Z"
   },
   {
    "duration": 9,
    "start_time": "2024-07-08T03:49:11.540Z"
   },
   {
    "duration": 7,
    "start_time": "2024-07-08T03:49:11.552Z"
   },
   {
    "duration": 13,
    "start_time": "2024-07-08T03:49:11.563Z"
   },
   {
    "duration": 51,
    "start_time": "2024-07-08T03:49:11.580Z"
   },
   {
    "duration": 260,
    "start_time": "2024-07-08T03:49:25.101Z"
   },
   {
    "duration": 300,
    "start_time": "2024-07-08T03:49:26.713Z"
   },
   {
    "duration": 472,
    "start_time": "2024-07-08T03:49:47.527Z"
   },
   {
    "duration": 24,
    "start_time": "2024-07-08T03:58:45.176Z"
   },
   {
    "duration": 236,
    "start_time": "2024-07-08T04:03:00.650Z"
   },
   {
    "duration": 418,
    "start_time": "2024-07-08T04:04:14.707Z"
   },
   {
    "duration": 13,
    "start_time": "2024-07-08T04:17:12.912Z"
   },
   {
    "duration": 47,
    "start_time": "2024-07-08T04:17:52.202Z"
   },
   {
    "duration": 21,
    "start_time": "2024-07-08T04:18:00.528Z"
   },
   {
    "duration": 849,
    "start_time": "2024-07-08T04:21:56.466Z"
   },
   {
    "duration": 82,
    "start_time": "2024-07-08T04:22:19.620Z"
   },
   {
    "duration": 377,
    "start_time": "2024-07-08T04:23:00.632Z"
   },
   {
    "duration": 335,
    "start_time": "2024-07-08T04:23:49.551Z"
   },
   {
    "duration": 312,
    "start_time": "2024-07-08T04:23:53.031Z"
   },
   {
    "duration": 359,
    "start_time": "2024-07-08T04:23:53.552Z"
   },
   {
    "duration": 681,
    "start_time": "2024-07-08T04:24:12.321Z"
   },
   {
    "duration": 625,
    "start_time": "2024-07-08T04:24:33.476Z"
   },
   {
    "duration": 13,
    "start_time": "2024-07-08T04:26:29.745Z"
   },
   {
    "duration": 647,
    "start_time": "2024-07-08T04:28:36.251Z"
   },
   {
    "duration": 14,
    "start_time": "2024-07-08T04:29:10.482Z"
   },
   {
    "duration": 696,
    "start_time": "2024-07-08T04:29:12.013Z"
   },
   {
    "duration": 71,
    "start_time": "2024-07-08T04:45:25.059Z"
   },
   {
    "duration": 29,
    "start_time": "2024-07-08T04:49:17.813Z"
   },
   {
    "duration": 21,
    "start_time": "2024-07-08T04:49:22.885Z"
   },
   {
    "duration": 7,
    "start_time": "2024-07-08T04:53:26.458Z"
   },
   {
    "duration": 680,
    "start_time": "2024-07-08T04:54:07.174Z"
   },
   {
    "duration": 14,
    "start_time": "2024-07-08T04:54:28.923Z"
   },
   {
    "duration": 5,
    "start_time": "2024-07-08T04:54:40.493Z"
   },
   {
    "duration": 4297,
    "start_time": "2024-07-08T16:45:13.451Z"
   },
   {
    "duration": 35,
    "start_time": "2024-07-08T16:45:17.752Z"
   },
   {
    "duration": 11,
    "start_time": "2024-07-08T16:45:17.790Z"
   },
   {
    "duration": 15,
    "start_time": "2024-07-08T16:45:17.815Z"
   },
   {
    "duration": 13,
    "start_time": "2024-07-08T16:45:17.833Z"
   },
   {
    "duration": 28,
    "start_time": "2024-07-08T16:45:17.848Z"
   },
   {
    "duration": 23,
    "start_time": "2024-07-08T16:45:17.914Z"
   },
   {
    "duration": 521,
    "start_time": "2024-07-08T16:45:17.940Z"
   },
   {
    "duration": 20,
    "start_time": "2024-07-08T16:45:18.464Z"
   },
   {
    "duration": 25,
    "start_time": "2024-07-08T16:45:18.490Z"
   },
   {
    "duration": 440,
    "start_time": "2024-07-08T16:45:18.517Z"
   },
   {
    "duration": 22,
    "start_time": "2024-07-08T16:45:18.961Z"
   },
   {
    "duration": 47,
    "start_time": "2024-07-08T16:45:18.986Z"
   },
   {
    "duration": 10,
    "start_time": "2024-07-08T16:45:19.036Z"
   },
   {
    "duration": 10,
    "start_time": "2024-07-08T16:45:19.049Z"
   },
   {
    "duration": 55,
    "start_time": "2024-07-08T16:45:19.061Z"
   },
   {
    "duration": 22,
    "start_time": "2024-07-08T16:45:19.119Z"
   },
   {
    "duration": 17,
    "start_time": "2024-07-08T16:45:19.145Z"
   },
   {
    "duration": 45,
    "start_time": "2024-07-08T16:45:19.169Z"
   },
   {
    "duration": 8,
    "start_time": "2024-07-08T16:45:19.217Z"
   },
   {
    "duration": 14,
    "start_time": "2024-07-08T16:45:19.228Z"
   },
   {
    "duration": 9,
    "start_time": "2024-07-08T16:45:19.245Z"
   },
   {
    "duration": 599,
    "start_time": "2024-07-08T16:45:19.257Z"
   },
   {
    "duration": 25,
    "start_time": "2024-07-08T16:45:19.860Z"
   },
   {
    "duration": 508,
    "start_time": "2024-07-08T16:45:19.889Z"
   },
   {
    "duration": 29,
    "start_time": "2024-07-08T16:45:20.400Z"
   },
   {
    "duration": 14,
    "start_time": "2024-07-08T16:45:20.432Z"
   },
   {
    "duration": 731,
    "start_time": "2024-07-08T16:45:20.454Z"
   },
   {
    "duration": 48,
    "start_time": "2024-07-08T16:45:21.188Z"
   },
   {
    "duration": 19,
    "start_time": "2024-07-08T16:45:21.239Z"
   },
   {
    "duration": 7,
    "start_time": "2024-07-08T16:45:21.261Z"
   },
   {
    "duration": 741,
    "start_time": "2024-07-08T16:45:21.271Z"
   },
   {
    "duration": 10,
    "start_time": "2024-07-08T17:36:02.508Z"
   },
   {
    "duration": 4,
    "start_time": "2024-07-08T17:36:08.184Z"
   },
   {
    "duration": 25,
    "start_time": "2024-07-08T17:36:08.195Z"
   },
   {
    "duration": 10,
    "start_time": "2024-07-08T17:36:08.224Z"
   },
   {
    "duration": 17,
    "start_time": "2024-07-08T17:36:08.237Z"
   },
   {
    "duration": 56,
    "start_time": "2024-07-08T17:36:08.257Z"
   },
   {
    "duration": 37,
    "start_time": "2024-07-08T17:36:08.318Z"
   },
   {
    "duration": 21,
    "start_time": "2024-07-08T17:36:08.358Z"
   },
   {
    "duration": 476,
    "start_time": "2024-07-08T17:36:08.382Z"
   },
   {
    "duration": 20,
    "start_time": "2024-07-08T17:36:08.862Z"
   },
   {
    "duration": 41,
    "start_time": "2024-07-08T17:36:08.885Z"
   },
   {
    "duration": 392,
    "start_time": "2024-07-08T17:36:08.929Z"
   },
   {
    "duration": 22,
    "start_time": "2024-07-08T17:36:09.325Z"
   },
   {
    "duration": 24,
    "start_time": "2024-07-08T17:36:09.350Z"
   },
   {
    "duration": 42,
    "start_time": "2024-07-08T17:36:09.377Z"
   },
   {
    "duration": 9,
    "start_time": "2024-07-08T17:36:09.426Z"
   },
   {
    "duration": 16,
    "start_time": "2024-07-08T17:36:09.437Z"
   },
   {
    "duration": 63,
    "start_time": "2024-07-08T17:36:09.455Z"
   },
   {
    "duration": 16,
    "start_time": "2024-07-08T17:36:09.525Z"
   },
   {
    "duration": 10,
    "start_time": "2024-07-08T17:36:09.545Z"
   },
   {
    "duration": 11,
    "start_time": "2024-07-08T17:36:09.558Z"
   },
   {
    "duration": 54,
    "start_time": "2024-07-08T17:36:09.572Z"
   },
   {
    "duration": 9,
    "start_time": "2024-07-08T17:36:09.629Z"
   },
   {
    "duration": 526,
    "start_time": "2024-07-08T17:36:09.643Z"
   },
   {
    "duration": 42,
    "start_time": "2024-07-08T17:36:10.172Z"
   },
   {
    "duration": 490,
    "start_time": "2024-07-08T17:36:10.217Z"
   },
   {
    "duration": 29,
    "start_time": "2024-07-08T17:36:10.713Z"
   },
   {
    "duration": 18,
    "start_time": "2024-07-08T17:36:10.745Z"
   },
   {
    "duration": 721,
    "start_time": "2024-07-08T17:36:10.767Z"
   },
   {
    "duration": 66,
    "start_time": "2024-07-08T17:36:11.491Z"
   },
   {
    "duration": 20,
    "start_time": "2024-07-08T17:36:11.560Z"
   },
   {
    "duration": 31,
    "start_time": "2024-07-08T17:36:11.583Z"
   },
   {
    "duration": 697,
    "start_time": "2024-07-08T17:36:11.618Z"
   },
   {
    "duration": 8,
    "start_time": "2024-07-08T17:36:16.298Z"
   },
   {
    "duration": 6,
    "start_time": "2024-07-08T17:36:33.288Z"
   },
   {
    "duration": 17,
    "start_time": "2024-07-08T17:38:35.524Z"
   },
   {
    "duration": 20,
    "start_time": "2024-07-08T17:38:56.013Z"
   },
   {
    "duration": 6,
    "start_time": "2024-07-08T17:39:18.694Z"
   },
   {
    "duration": 341,
    "start_time": "2024-07-08T17:39:26.558Z"
   },
   {
    "duration": 273,
    "start_time": "2024-07-08T17:45:34.461Z"
   },
   {
    "duration": 265,
    "start_time": "2024-07-08T17:54:03.249Z"
   },
   {
    "duration": 4,
    "start_time": "2024-07-08T17:54:08.795Z"
   },
   {
    "duration": 24,
    "start_time": "2024-07-08T17:54:08.803Z"
   },
   {
    "duration": 11,
    "start_time": "2024-07-08T17:54:08.830Z"
   },
   {
    "duration": 17,
    "start_time": "2024-07-08T17:54:08.846Z"
   },
   {
    "duration": 50,
    "start_time": "2024-07-08T17:54:08.866Z"
   },
   {
    "duration": 25,
    "start_time": "2024-07-08T17:54:08.920Z"
   },
   {
    "duration": 20,
    "start_time": "2024-07-08T17:54:08.947Z"
   },
   {
    "duration": 482,
    "start_time": "2024-07-08T17:54:08.970Z"
   },
   {
    "duration": 21,
    "start_time": "2024-07-08T17:54:09.456Z"
   },
   {
    "duration": 41,
    "start_time": "2024-07-08T17:54:09.482Z"
   },
   {
    "duration": 406,
    "start_time": "2024-07-08T17:54:09.526Z"
   },
   {
    "duration": 22,
    "start_time": "2024-07-08T17:54:09.935Z"
   },
   {
    "duration": 54,
    "start_time": "2024-07-08T17:54:09.960Z"
   },
   {
    "duration": 9,
    "start_time": "2024-07-08T17:54:10.017Z"
   },
   {
    "duration": 10,
    "start_time": "2024-07-08T17:54:10.029Z"
   },
   {
    "duration": 15,
    "start_time": "2024-07-08T17:54:10.041Z"
   },
   {
    "duration": 61,
    "start_time": "2024-07-08T17:54:10.060Z"
   },
   {
    "duration": 14,
    "start_time": "2024-07-08T17:54:10.125Z"
   },
   {
    "duration": 9,
    "start_time": "2024-07-08T17:54:10.142Z"
   },
   {
    "duration": 8,
    "start_time": "2024-07-08T17:54:10.155Z"
   },
   {
    "duration": 58,
    "start_time": "2024-07-08T17:54:10.166Z"
   },
   {
    "duration": 8,
    "start_time": "2024-07-08T17:54:10.227Z"
   },
   {
    "duration": 544,
    "start_time": "2024-07-08T17:54:10.238Z"
   },
   {
    "duration": 36,
    "start_time": "2024-07-08T17:54:10.785Z"
   },
   {
    "duration": 477,
    "start_time": "2024-07-08T17:54:10.824Z"
   },
   {
    "duration": 27,
    "start_time": "2024-07-08T17:54:11.304Z"
   },
   {
    "duration": 15,
    "start_time": "2024-07-08T17:54:11.334Z"
   },
   {
    "duration": 713,
    "start_time": "2024-07-08T17:54:11.356Z"
   },
   {
    "duration": 57,
    "start_time": "2024-07-08T17:54:12.072Z"
   },
   {
    "duration": 18,
    "start_time": "2024-07-08T17:54:12.132Z"
   },
   {
    "duration": 7,
    "start_time": "2024-07-08T17:54:12.153Z"
   },
   {
    "duration": 745,
    "start_time": "2024-07-08T17:54:12.163Z"
   },
   {
    "duration": 313,
    "start_time": "2024-07-08T17:54:12.914Z"
   },
   {
    "duration": 4,
    "start_time": "2024-07-08T17:54:55.212Z"
   },
   {
    "duration": 21,
    "start_time": "2024-07-08T17:54:55.220Z"
   },
   {
    "duration": 11,
    "start_time": "2024-07-08T17:54:55.245Z"
   },
   {
    "duration": 55,
    "start_time": "2024-07-08T17:54:55.259Z"
   },
   {
    "duration": 14,
    "start_time": "2024-07-08T17:54:55.318Z"
   },
   {
    "duration": 29,
    "start_time": "2024-07-08T17:54:55.335Z"
   },
   {
    "duration": 62,
    "start_time": "2024-07-08T17:54:55.367Z"
   },
   {
    "duration": 473,
    "start_time": "2024-07-08T17:54:55.433Z"
   },
   {
    "duration": 21,
    "start_time": "2024-07-08T17:54:55.913Z"
   },
   {
    "duration": 20,
    "start_time": "2024-07-08T17:54:55.938Z"
   },
   {
    "duration": 482,
    "start_time": "2024-07-08T17:54:55.965Z"
   },
   {
    "duration": 22,
    "start_time": "2024-07-08T17:54:56.450Z"
   },
   {
    "duration": 52,
    "start_time": "2024-07-08T17:54:56.475Z"
   },
   {
    "duration": 10,
    "start_time": "2024-07-08T17:54:56.531Z"
   },
   {
    "duration": 10,
    "start_time": "2024-07-08T17:54:56.545Z"
   },
   {
    "duration": 16,
    "start_time": "2024-07-08T17:54:56.558Z"
   },
   {
    "duration": 20,
    "start_time": "2024-07-08T17:54:56.613Z"
   },
   {
    "duration": 15,
    "start_time": "2024-07-08T17:54:56.637Z"
   },
   {
    "duration": 8,
    "start_time": "2024-07-08T17:54:56.655Z"
   },
   {
    "duration": 7,
    "start_time": "2024-07-08T17:54:56.711Z"
   },
   {
    "duration": 12,
    "start_time": "2024-07-08T17:54:56.722Z"
   },
   {
    "duration": 8,
    "start_time": "2024-07-08T17:54:56.738Z"
   },
   {
    "duration": 511,
    "start_time": "2024-07-08T17:54:56.751Z"
   },
   {
    "duration": 24,
    "start_time": "2024-07-08T17:54:57.265Z"
   },
   {
    "duration": 518,
    "start_time": "2024-07-08T17:54:57.292Z"
   },
   {
    "duration": 26,
    "start_time": "2024-07-08T17:54:57.815Z"
   },
   {
    "duration": 17,
    "start_time": "2024-07-08T17:54:57.844Z"
   },
   {
    "duration": 706,
    "start_time": "2024-07-08T17:54:57.864Z"
   },
   {
    "duration": 59,
    "start_time": "2024-07-08T17:54:58.578Z"
   },
   {
    "duration": 19,
    "start_time": "2024-07-08T17:54:58.640Z"
   },
   {
    "duration": 7,
    "start_time": "2024-07-08T17:54:58.662Z"
   },
   {
    "duration": 749,
    "start_time": "2024-07-08T17:54:58.673Z"
   },
   {
    "duration": 295,
    "start_time": "2024-07-08T17:54:59.426Z"
   },
   {
    "duration": 298,
    "start_time": "2024-07-08T17:55:06.256Z"
   },
   {
    "duration": 300,
    "start_time": "2024-07-08T17:55:08.546Z"
   },
   {
    "duration": 205,
    "start_time": "2024-07-08T17:59:17.357Z"
   },
   {
    "duration": 280,
    "start_time": "2024-07-08T17:59:40.816Z"
   },
   {
    "duration": 276,
    "start_time": "2024-07-08T17:59:44.813Z"
   },
   {
    "duration": 527,
    "start_time": "2024-07-08T17:59:59.134Z"
   },
   {
    "duration": 287,
    "start_time": "2024-07-08T18:00:31.374Z"
   },
   {
    "duration": 271,
    "start_time": "2024-07-08T18:00:33.818Z"
   },
   {
    "duration": 22,
    "start_time": "2024-07-08T18:01:52.257Z"
   },
   {
    "duration": 316,
    "start_time": "2024-07-08T18:02:12.015Z"
   },
   {
    "duration": 23,
    "start_time": "2024-07-08T18:02:53.795Z"
   },
   {
    "duration": 21,
    "start_time": "2024-07-08T18:03:14.764Z"
   },
   {
    "duration": 21,
    "start_time": "2024-07-08T18:03:23.533Z"
   },
   {
    "duration": 356,
    "start_time": "2024-07-08T18:03:24.326Z"
   },
   {
    "duration": 15,
    "start_time": "2024-07-08T18:03:41.784Z"
   },
   {
    "duration": 17,
    "start_time": "2024-07-08T18:34:30.958Z"
   },
   {
    "duration": 394,
    "start_time": "2024-07-08T18:34:31.766Z"
   },
   {
    "duration": 9,
    "start_time": "2024-07-08T19:06:44.132Z"
   },
   {
    "duration": 4,
    "start_time": "2024-07-08T19:08:44.933Z"
   },
   {
    "duration": 24,
    "start_time": "2024-07-08T19:08:44.941Z"
   },
   {
    "duration": 12,
    "start_time": "2024-07-08T19:08:44.968Z"
   },
   {
    "duration": 31,
    "start_time": "2024-07-08T19:08:44.983Z"
   },
   {
    "duration": 13,
    "start_time": "2024-07-08T19:08:45.018Z"
   },
   {
    "duration": 27,
    "start_time": "2024-07-08T19:08:45.034Z"
   },
   {
    "duration": 67,
    "start_time": "2024-07-08T19:08:45.064Z"
   },
   {
    "duration": 478,
    "start_time": "2024-07-08T19:08:45.135Z"
   },
   {
    "duration": 21,
    "start_time": "2024-07-08T19:08:45.616Z"
   },
   {
    "duration": 21,
    "start_time": "2024-07-08T19:08:45.639Z"
   },
   {
    "duration": 420,
    "start_time": "2024-07-08T19:08:45.667Z"
   },
   {
    "duration": 32,
    "start_time": "2024-07-08T19:08:46.091Z"
   },
   {
    "duration": 24,
    "start_time": "2024-07-08T19:08:46.126Z"
   },
   {
    "duration": 9,
    "start_time": "2024-07-08T19:08:46.153Z"
   },
   {
    "duration": 50,
    "start_time": "2024-07-08T19:08:46.165Z"
   },
   {
    "duration": 15,
    "start_time": "2024-07-08T19:08:46.218Z"
   },
   {
    "duration": 18,
    "start_time": "2024-07-08T19:08:46.237Z"
   },
   {
    "duration": 56,
    "start_time": "2024-07-08T19:08:46.259Z"
   },
   {
    "duration": 11,
    "start_time": "2024-07-08T19:08:46.318Z"
   },
   {
    "duration": 7,
    "start_time": "2024-07-08T19:08:46.332Z"
   },
   {
    "duration": 14,
    "start_time": "2024-07-08T19:08:46.341Z"
   },
   {
    "duration": 7,
    "start_time": "2024-07-08T19:08:46.358Z"
   },
   {
    "duration": 540,
    "start_time": "2024-07-08T19:08:46.413Z"
   },
   {
    "duration": 23,
    "start_time": "2024-07-08T19:08:46.957Z"
   },
   {
    "duration": 493,
    "start_time": "2024-07-08T19:08:46.984Z"
   },
   {
    "duration": 39,
    "start_time": "2024-07-08T19:08:47.480Z"
   },
   {
    "duration": 15,
    "start_time": "2024-07-08T19:08:47.522Z"
   },
   {
    "duration": 749,
    "start_time": "2024-07-08T19:08:47.540Z"
   },
   {
    "duration": 49,
    "start_time": "2024-07-08T19:08:48.296Z"
   },
   {
    "duration": 20,
    "start_time": "2024-07-08T19:08:48.348Z"
   },
   {
    "duration": 43,
    "start_time": "2024-07-08T19:08:48.370Z"
   },
   {
    "duration": 713,
    "start_time": "2024-07-08T19:08:48.416Z"
   },
   {
    "duration": 17,
    "start_time": "2024-07-08T19:08:49.132Z"
   },
   {
    "duration": 407,
    "start_time": "2024-07-08T19:08:49.152Z"
   },
   {
    "duration": 10,
    "start_time": "2024-07-08T19:08:49.561Z"
   },
   {
    "duration": 5,
    "start_time": "2024-07-08T19:09:57.108Z"
   },
   {
    "duration": 3,
    "start_time": "2024-07-08T19:16:21.077Z"
   },
   {
    "duration": 23,
    "start_time": "2024-07-08T19:16:21.087Z"
   },
   {
    "duration": 11,
    "start_time": "2024-07-08T19:16:21.116Z"
   },
   {
    "duration": 17,
    "start_time": "2024-07-08T19:16:21.130Z"
   },
   {
    "duration": 13,
    "start_time": "2024-07-08T19:16:21.151Z"
   },
   {
    "duration": 68,
    "start_time": "2024-07-08T19:16:21.167Z"
   },
   {
    "duration": 25,
    "start_time": "2024-07-08T19:16:21.237Z"
   },
   {
    "duration": 504,
    "start_time": "2024-07-08T19:16:21.266Z"
   },
   {
    "duration": 42,
    "start_time": "2024-07-08T19:16:21.773Z"
   },
   {
    "duration": 20,
    "start_time": "2024-07-08T19:16:21.818Z"
   },
   {
    "duration": 403,
    "start_time": "2024-07-08T19:16:21.844Z"
   },
   {
    "duration": 22,
    "start_time": "2024-07-08T19:16:22.250Z"
   },
   {
    "duration": 48,
    "start_time": "2024-07-08T19:16:22.276Z"
   },
   {
    "duration": 11,
    "start_time": "2024-07-08T19:16:22.328Z"
   },
   {
    "duration": 10,
    "start_time": "2024-07-08T19:16:22.343Z"
   },
   {
    "duration": 56,
    "start_time": "2024-07-08T19:16:22.358Z"
   },
   {
    "duration": 19,
    "start_time": "2024-07-08T19:16:22.417Z"
   },
   {
    "duration": 14,
    "start_time": "2024-07-08T19:16:22.439Z"
   },
   {
    "duration": 9,
    "start_time": "2024-07-08T19:16:22.456Z"
   },
   {
    "duration": 7,
    "start_time": "2024-07-08T19:16:22.512Z"
   },
   {
    "duration": 15,
    "start_time": "2024-07-08T19:16:22.522Z"
   },
   {
    "duration": 9,
    "start_time": "2024-07-08T19:16:22.540Z"
   },
   {
    "duration": 531,
    "start_time": "2024-07-08T19:16:22.552Z"
   },
   {
    "duration": 46,
    "start_time": "2024-07-08T19:16:23.087Z"
   },
   {
    "duration": 496,
    "start_time": "2024-07-08T19:16:23.136Z"
   },
   {
    "duration": 26,
    "start_time": "2024-07-08T19:16:23.638Z"
   },
   {
    "duration": 16,
    "start_time": "2024-07-08T19:16:23.668Z"
   },
   {
    "duration": 664,
    "start_time": "2024-07-08T19:16:23.714Z"
   },
   {
    "duration": 50,
    "start_time": "2024-07-08T19:16:24.385Z"
   },
   {
    "duration": 19,
    "start_time": "2024-07-08T19:16:24.439Z"
   },
   {
    "duration": 6,
    "start_time": "2024-07-08T19:16:24.461Z"
   },
   {
    "duration": 737,
    "start_time": "2024-07-08T19:16:24.471Z"
   },
   {
    "duration": 18,
    "start_time": "2024-07-08T19:16:25.210Z"
   },
   {
    "duration": 423,
    "start_time": "2024-07-08T19:16:25.231Z"
   },
   {
    "duration": 12,
    "start_time": "2024-07-08T19:16:25.658Z"
   },
   {
    "duration": 5,
    "start_time": "2024-07-08T19:16:25.674Z"
   },
   {
    "duration": 7,
    "start_time": "2024-07-08T19:16:45.021Z"
   },
   {
    "duration": 11,
    "start_time": "2024-07-08T19:24:45.554Z"
   },
   {
    "duration": 11,
    "start_time": "2024-07-08T19:25:08.200Z"
   },
   {
    "duration": 5,
    "start_time": "2024-07-08T19:27:18.181Z"
   },
   {
    "duration": 7,
    "start_time": "2024-07-08T19:27:28.163Z"
   },
   {
    "duration": 15,
    "start_time": "2024-07-08T19:37:11.885Z"
   },
   {
    "duration": 281,
    "start_time": "2024-07-08T19:40:30.012Z"
   },
   {
    "duration": 337,
    "start_time": "2024-07-08T19:41:25.693Z"
   },
   {
    "duration": 4428,
    "start_time": "2024-07-08T20:21:56.741Z"
   },
   {
    "duration": 38,
    "start_time": "2024-07-08T20:22:01.175Z"
   },
   {
    "duration": 12,
    "start_time": "2024-07-08T20:22:01.216Z"
   },
   {
    "duration": 18,
    "start_time": "2024-07-08T20:22:01.233Z"
   },
   {
    "duration": 50,
    "start_time": "2024-07-08T20:22:01.254Z"
   },
   {
    "duration": 29,
    "start_time": "2024-07-08T20:22:01.307Z"
   },
   {
    "duration": 21,
    "start_time": "2024-07-08T20:22:01.339Z"
   },
   {
    "duration": 543,
    "start_time": "2024-07-08T20:22:01.363Z"
   },
   {
    "duration": 22,
    "start_time": "2024-07-08T20:22:01.910Z"
   },
   {
    "duration": 19,
    "start_time": "2024-07-08T20:22:01.939Z"
   },
   {
    "duration": 409,
    "start_time": "2024-07-08T20:22:01.962Z"
   },
   {
    "duration": 32,
    "start_time": "2024-07-08T20:22:02.375Z"
   },
   {
    "duration": 26,
    "start_time": "2024-07-08T20:22:02.410Z"
   },
   {
    "duration": 10,
    "start_time": "2024-07-08T20:22:02.438Z"
   },
   {
    "duration": 8,
    "start_time": "2024-07-08T20:22:02.451Z"
   },
   {
    "duration": 67,
    "start_time": "2024-07-08T20:22:02.503Z"
   },
   {
    "duration": 40,
    "start_time": "2024-07-08T20:22:02.573Z"
   },
   {
    "duration": 15,
    "start_time": "2024-07-08T20:22:02.616Z"
   },
   {
    "duration": 12,
    "start_time": "2024-07-08T20:22:02.634Z"
   },
   {
    "duration": 10,
    "start_time": "2024-07-08T20:22:02.649Z"
   },
   {
    "duration": 13,
    "start_time": "2024-07-08T20:22:02.701Z"
   },
   {
    "duration": 9,
    "start_time": "2024-07-08T20:22:02.717Z"
   },
   {
    "duration": 560,
    "start_time": "2024-07-08T20:22:02.729Z"
   },
   {
    "duration": 32,
    "start_time": "2024-07-08T20:22:03.293Z"
   },
   {
    "duration": 473,
    "start_time": "2024-07-08T20:22:03.328Z"
   },
   {
    "duration": 27,
    "start_time": "2024-07-08T20:22:03.805Z"
   },
   {
    "duration": 18,
    "start_time": "2024-07-08T20:22:03.837Z"
   },
   {
    "duration": 715,
    "start_time": "2024-07-08T20:22:03.865Z"
   },
   {
    "duration": 53,
    "start_time": "2024-07-08T20:22:04.582Z"
   },
   {
    "duration": 23,
    "start_time": "2024-07-08T20:22:04.637Z"
   },
   {
    "duration": 7,
    "start_time": "2024-07-08T20:22:04.663Z"
   },
   {
    "duration": 712,
    "start_time": "2024-07-08T20:22:04.701Z"
   },
   {
    "duration": 18,
    "start_time": "2024-07-08T20:22:05.416Z"
   },
   {
    "duration": 405,
    "start_time": "2024-07-08T20:22:05.437Z"
   },
   {
    "duration": 10,
    "start_time": "2024-07-08T20:22:05.845Z"
   },
   {
    "duration": 7,
    "start_time": "2024-07-08T20:22:05.859Z"
   },
   {
    "duration": 47,
    "start_time": "2024-07-08T20:22:05.869Z"
   },
   {
    "duration": 35,
    "start_time": "2024-07-08T20:22:05.918Z"
   },
   {
    "duration": 307,
    "start_time": "2024-07-08T20:22:05.958Z"
   },
   {
    "duration": 6,
    "start_time": "2024-07-08T20:29:43.785Z"
   },
   {
    "duration": 10,
    "start_time": "2024-07-08T20:30:00.083Z"
   },
   {
    "duration": 7,
    "start_time": "2024-07-08T20:30:16.854Z"
   },
   {
    "duration": 22,
    "start_time": "2024-07-08T20:30:29.218Z"
   },
   {
    "duration": 12,
    "start_time": "2024-07-08T20:34:11.870Z"
   },
   {
    "duration": 23,
    "start_time": "2024-07-08T20:34:44.943Z"
   },
   {
    "duration": 527,
    "start_time": "2024-07-08T20:40:15.746Z"
   },
   {
    "duration": 25,
    "start_time": "2024-07-08T20:40:16.278Z"
   },
   {
    "duration": 13,
    "start_time": "2024-07-08T20:40:16.305Z"
   },
   {
    "duration": 16,
    "start_time": "2024-07-08T20:40:16.321Z"
   },
   {
    "duration": 13,
    "start_time": "2024-07-08T20:40:16.342Z"
   },
   {
    "duration": 70,
    "start_time": "2024-07-08T20:40:16.358Z"
   },
   {
    "duration": 21,
    "start_time": "2024-07-08T20:40:16.431Z"
   },
   {
    "duration": 490,
    "start_time": "2024-07-08T20:40:16.455Z"
   },
   {
    "duration": 20,
    "start_time": "2024-07-08T20:40:16.949Z"
   },
   {
    "duration": 43,
    "start_time": "2024-07-08T20:40:16.973Z"
   },
   {
    "duration": 388,
    "start_time": "2024-07-08T20:40:17.019Z"
   },
   {
    "duration": 23,
    "start_time": "2024-07-08T20:40:17.410Z"
   },
   {
    "duration": 24,
    "start_time": "2024-07-08T20:40:17.436Z"
   },
   {
    "duration": 9,
    "start_time": "2024-07-08T20:40:17.503Z"
   },
   {
    "duration": 9,
    "start_time": "2024-07-08T20:40:17.515Z"
   },
   {
    "duration": 15,
    "start_time": "2024-07-08T20:40:17.527Z"
   },
   {
    "duration": 58,
    "start_time": "2024-07-08T20:40:17.548Z"
   },
   {
    "duration": 16,
    "start_time": "2024-07-08T20:40:17.609Z"
   },
   {
    "duration": 8,
    "start_time": "2024-07-08T20:40:17.628Z"
   },
   {
    "duration": 7,
    "start_time": "2024-07-08T20:40:17.639Z"
   },
   {
    "duration": 60,
    "start_time": "2024-07-08T20:40:17.648Z"
   },
   {
    "duration": 8,
    "start_time": "2024-07-08T20:40:17.712Z"
   },
   {
    "duration": 542,
    "start_time": "2024-07-08T20:40:17.724Z"
   },
   {
    "duration": 38,
    "start_time": "2024-07-08T20:40:18.269Z"
   },
   {
    "duration": 481,
    "start_time": "2024-07-08T20:40:18.310Z"
   },
   {
    "duration": 27,
    "start_time": "2024-07-08T20:40:18.793Z"
   },
   {
    "duration": 14,
    "start_time": "2024-07-08T20:40:18.824Z"
   },
   {
    "duration": 715,
    "start_time": "2024-07-08T20:40:18.841Z"
   },
   {
    "duration": 57,
    "start_time": "2024-07-08T20:40:19.559Z"
   },
   {
    "duration": 18,
    "start_time": "2024-07-08T20:40:19.618Z"
   },
   {
    "duration": 7,
    "start_time": "2024-07-08T20:40:19.639Z"
   },
   {
    "duration": 738,
    "start_time": "2024-07-08T20:40:19.649Z"
   },
   {
    "duration": 27,
    "start_time": "2024-07-08T20:40:20.390Z"
   },
   {
    "duration": 428,
    "start_time": "2024-07-08T20:40:20.420Z"
   },
   {
    "duration": 10,
    "start_time": "2024-07-08T20:40:20.851Z"
   },
   {
    "duration": 7,
    "start_time": "2024-07-08T20:40:20.865Z"
   },
   {
    "duration": 11,
    "start_time": "2024-07-08T20:40:20.901Z"
   },
   {
    "duration": 15,
    "start_time": "2024-07-08T20:40:20.915Z"
   },
   {
    "duration": 289,
    "start_time": "2024-07-08T20:40:20.933Z"
   },
   {
    "duration": 10,
    "start_time": "2024-07-08T20:40:21.225Z"
   },
   {
    "duration": 24,
    "start_time": "2024-07-08T20:40:21.242Z"
   },
   {
    "duration": 7,
    "start_time": "2024-07-08T20:52:31.886Z"
   },
   {
    "duration": 10,
    "start_time": "2024-07-08T20:56:59.153Z"
   },
   {
    "duration": 20,
    "start_time": "2024-07-08T20:58:56.371Z"
   },
   {
    "duration": 22,
    "start_time": "2024-07-08T21:03:39.731Z"
   },
   {
    "duration": 5736,
    "start_time": "2024-07-08T23:37:37.695Z"
   },
   {
    "duration": 39,
    "start_time": "2024-07-08T23:37:43.435Z"
   },
   {
    "duration": 12,
    "start_time": "2024-07-08T23:37:43.479Z"
   },
   {
    "duration": 36,
    "start_time": "2024-07-08T23:37:43.494Z"
   },
   {
    "duration": 17,
    "start_time": "2024-07-08T23:37:43.536Z"
   },
   {
    "duration": 33,
    "start_time": "2024-07-08T23:37:43.556Z"
   },
   {
    "duration": 61,
    "start_time": "2024-07-08T23:37:43.592Z"
   },
   {
    "duration": 563,
    "start_time": "2024-07-08T23:37:43.656Z"
   },
   {
    "duration": 23,
    "start_time": "2024-07-08T23:37:44.222Z"
   },
   {
    "duration": 20,
    "start_time": "2024-07-08T23:37:44.249Z"
   },
   {
    "duration": 419,
    "start_time": "2024-07-08T23:37:44.272Z"
   },
   {
    "duration": 40,
    "start_time": "2024-07-08T23:37:44.695Z"
   },
   {
    "duration": 26,
    "start_time": "2024-07-08T23:37:44.739Z"
   },
   {
    "duration": 11,
    "start_time": "2024-07-08T23:37:44.773Z"
   },
   {
    "duration": 46,
    "start_time": "2024-07-08T23:37:44.787Z"
   },
   {
    "duration": 20,
    "start_time": "2024-07-08T23:37:44.836Z"
   },
   {
    "duration": 21,
    "start_time": "2024-07-08T23:37:44.860Z"
   },
   {
    "duration": 51,
    "start_time": "2024-07-08T23:37:44.884Z"
   },
   {
    "duration": 8,
    "start_time": "2024-07-08T23:37:44.938Z"
   },
   {
    "duration": 7,
    "start_time": "2024-07-08T23:37:44.950Z"
   },
   {
    "duration": 14,
    "start_time": "2024-07-08T23:37:44.959Z"
   },
   {
    "duration": 56,
    "start_time": "2024-07-08T23:37:44.976Z"
   },
   {
    "duration": 559,
    "start_time": "2024-07-08T23:37:45.036Z"
   },
   {
    "duration": 38,
    "start_time": "2024-07-08T23:37:45.599Z"
   },
   {
    "duration": 492,
    "start_time": "2024-07-08T23:37:45.641Z"
   },
   {
    "duration": 30,
    "start_time": "2024-07-08T23:37:46.136Z"
   },
   {
    "duration": 19,
    "start_time": "2024-07-08T23:37:46.170Z"
   },
   {
    "duration": 721,
    "start_time": "2024-07-08T23:37:46.192Z"
   },
   {
    "duration": 59,
    "start_time": "2024-07-08T23:37:46.918Z"
   },
   {
    "duration": 24,
    "start_time": "2024-07-08T23:37:46.980Z"
   },
   {
    "duration": 28,
    "start_time": "2024-07-08T23:37:47.007Z"
   },
   {
    "duration": 708,
    "start_time": "2024-07-08T23:37:47.038Z"
   },
   {
    "duration": 20,
    "start_time": "2024-07-08T23:37:47.750Z"
   },
   {
    "duration": 399,
    "start_time": "2024-07-08T23:37:47.773Z"
   },
   {
    "duration": 12,
    "start_time": "2024-07-08T23:37:48.176Z"
   },
   {
    "duration": 8,
    "start_time": "2024-07-08T23:37:48.192Z"
   },
   {
    "duration": 39,
    "start_time": "2024-07-08T23:37:48.204Z"
   },
   {
    "duration": 16,
    "start_time": "2024-07-08T23:37:48.247Z"
   },
   {
    "duration": 451,
    "start_time": "2024-07-08T23:37:48.267Z"
   },
   {
    "duration": 17,
    "start_time": "2024-07-08T23:37:48.722Z"
   },
   {
    "duration": 30,
    "start_time": "2024-07-08T23:37:48.747Z"
   },
   {
    "duration": 58,
    "start_time": "2024-07-08T23:37:48.780Z"
   },
   {
    "duration": 28,
    "start_time": "2024-07-08T23:39:32.978Z"
   },
   {
    "duration": 7,
    "start_time": "2024-07-08T23:45:55.587Z"
   },
   {
    "duration": 7,
    "start_time": "2024-07-08T23:47:24.424Z"
   },
   {
    "duration": 7,
    "start_time": "2024-07-08T23:47:25.565Z"
   },
   {
    "duration": 8,
    "start_time": "2024-07-08T23:54:26.614Z"
   },
   {
    "duration": 5,
    "start_time": "2024-07-08T23:55:36.433Z"
   },
   {
    "duration": 7,
    "start_time": "2024-07-09T00:05:13.455Z"
   },
   {
    "duration": 6,
    "start_time": "2024-07-09T00:05:16.198Z"
   },
   {
    "duration": 13,
    "start_time": "2024-07-09T00:26:26.303Z"
   },
   {
    "duration": 398,
    "start_time": "2024-07-09T00:30:06.432Z"
   },
   {
    "duration": 4,
    "start_time": "2024-07-09T00:30:14.771Z"
   },
   {
    "duration": 23,
    "start_time": "2024-07-09T00:30:14.779Z"
   },
   {
    "duration": 10,
    "start_time": "2024-07-09T00:30:14.805Z"
   },
   {
    "duration": 16,
    "start_time": "2024-07-09T00:30:14.819Z"
   },
   {
    "duration": 14,
    "start_time": "2024-07-09T00:30:14.840Z"
   },
   {
    "duration": 25,
    "start_time": "2024-07-09T00:30:14.857Z"
   },
   {
    "duration": 63,
    "start_time": "2024-07-09T00:30:14.885Z"
   },
   {
    "duration": 479,
    "start_time": "2024-07-09T00:30:14.951Z"
   },
   {
    "duration": 21,
    "start_time": "2024-07-09T00:30:15.433Z"
   },
   {
    "duration": 20,
    "start_time": "2024-07-09T00:30:15.457Z"
   },
   {
    "duration": 397,
    "start_time": "2024-07-09T00:30:15.480Z"
   },
   {
    "duration": 23,
    "start_time": "2024-07-09T00:30:15.881Z"
   },
   {
    "duration": 44,
    "start_time": "2024-07-09T00:30:15.907Z"
   },
   {
    "duration": 8,
    "start_time": "2024-07-09T00:30:15.958Z"
   },
   {
    "duration": 9,
    "start_time": "2024-07-09T00:30:15.969Z"
   },
   {
    "duration": 55,
    "start_time": "2024-07-09T00:30:15.981Z"
   },
   {
    "duration": 19,
    "start_time": "2024-07-09T00:30:16.039Z"
   },
   {
    "duration": 15,
    "start_time": "2024-07-09T00:30:16.061Z"
   },
   {
    "duration": 8,
    "start_time": "2024-07-09T00:30:16.079Z"
   },
   {
    "duration": 44,
    "start_time": "2024-07-09T00:30:16.090Z"
   },
   {
    "duration": 14,
    "start_time": "2024-07-09T00:30:16.137Z"
   },
   {
    "duration": 9,
    "start_time": "2024-07-09T00:30:16.154Z"
   },
   {
    "duration": 519,
    "start_time": "2024-07-09T00:30:16.166Z"
   },
   {
    "duration": 24,
    "start_time": "2024-07-09T00:30:16.687Z"
   },
   {
    "duration": 467,
    "start_time": "2024-07-09T00:30:16.729Z"
   },
   {
    "duration": 34,
    "start_time": "2024-07-09T00:30:17.199Z"
   },
   {
    "duration": 16,
    "start_time": "2024-07-09T00:30:17.237Z"
   },
   {
    "duration": 640,
    "start_time": "2024-07-09T00:30:17.255Z"
   },
   {
    "duration": 51,
    "start_time": "2024-07-09T00:30:17.898Z"
   },
   {
    "duration": 19,
    "start_time": "2024-07-09T00:30:17.952Z"
   },
   {
    "duration": 6,
    "start_time": "2024-07-09T00:30:17.975Z"
   },
   {
    "duration": 779,
    "start_time": "2024-07-09T00:30:17.985Z"
   },
   {
    "duration": 15,
    "start_time": "2024-07-09T00:30:18.767Z"
   },
   {
    "duration": 481,
    "start_time": "2024-07-09T00:30:18.785Z"
   },
   {
    "duration": 10,
    "start_time": "2024-07-09T00:30:19.270Z"
   },
   {
    "duration": 6,
    "start_time": "2024-07-09T00:30:19.285Z"
   },
   {
    "duration": 37,
    "start_time": "2024-07-09T00:30:19.294Z"
   },
   {
    "duration": 15,
    "start_time": "2024-07-09T00:30:19.334Z"
   },
   {
    "duration": 284,
    "start_time": "2024-07-09T00:30:19.352Z"
   },
   {
    "duration": 13,
    "start_time": "2024-07-09T00:30:19.640Z"
   },
   {
    "duration": 27,
    "start_time": "2024-07-09T00:30:19.661Z"
   },
   {
    "duration": 55,
    "start_time": "2024-07-09T00:30:19.692Z"
   },
   {
    "duration": 7,
    "start_time": "2024-07-09T00:30:19.750Z"
   },
   {
    "duration": 7,
    "start_time": "2024-07-09T00:30:19.761Z"
   },
   {
    "duration": 5,
    "start_time": "2024-07-09T00:30:19.771Z"
   },
   {
    "duration": 57,
    "start_time": "2024-07-09T00:30:19.779Z"
   },
   {
    "duration": 25,
    "start_time": "2024-07-09T00:30:23.840Z"
   },
   {
    "duration": 30,
    "start_time": "2024-07-09T00:31:04.476Z"
   },
   {
    "duration": 15,
    "start_time": "2024-07-09T00:31:18.686Z"
   },
   {
    "duration": 22,
    "start_time": "2024-07-09T00:31:20.075Z"
   },
   {
    "duration": 30,
    "start_time": "2024-07-09T00:31:41.623Z"
   },
   {
    "duration": 3,
    "start_time": "2024-07-09T00:31:46.608Z"
   },
   {
    "duration": 21,
    "start_time": "2024-07-09T00:31:46.616Z"
   },
   {
    "duration": 12,
    "start_time": "2024-07-09T00:31:46.639Z"
   },
   {
    "duration": 18,
    "start_time": "2024-07-09T00:31:46.654Z"
   },
   {
    "duration": 58,
    "start_time": "2024-07-09T00:31:46.677Z"
   },
   {
    "duration": 27,
    "start_time": "2024-07-09T00:31:46.739Z"
   },
   {
    "duration": 63,
    "start_time": "2024-07-09T00:31:46.769Z"
   },
   {
    "duration": 445,
    "start_time": "2024-07-09T00:31:46.834Z"
   },
   {
    "duration": 21,
    "start_time": "2024-07-09T00:31:47.283Z"
   },
   {
    "duration": 26,
    "start_time": "2024-07-09T00:31:47.330Z"
   },
   {
    "duration": 386,
    "start_time": "2024-07-09T00:31:47.361Z"
   },
   {
    "duration": 22,
    "start_time": "2024-07-09T00:31:47.750Z"
   },
   {
    "duration": 55,
    "start_time": "2024-07-09T00:31:47.778Z"
   },
   {
    "duration": 8,
    "start_time": "2024-07-09T00:31:47.836Z"
   },
   {
    "duration": 9,
    "start_time": "2024-07-09T00:31:47.848Z"
   },
   {
    "duration": 14,
    "start_time": "2024-07-09T00:31:47.860Z"
   },
   {
    "duration": 58,
    "start_time": "2024-07-09T00:31:47.877Z"
   },
   {
    "duration": 15,
    "start_time": "2024-07-09T00:31:47.938Z"
   },
   {
    "duration": 8,
    "start_time": "2024-07-09T00:31:47.956Z"
   },
   {
    "duration": 7,
    "start_time": "2024-07-09T00:31:47.967Z"
   },
   {
    "duration": 58,
    "start_time": "2024-07-09T00:31:47.977Z"
   },
   {
    "duration": 11,
    "start_time": "2024-07-09T00:31:48.038Z"
   },
   {
    "duration": 527,
    "start_time": "2024-07-09T00:31:48.052Z"
   },
   {
    "duration": 24,
    "start_time": "2024-07-09T00:31:48.582Z"
   },
   {
    "duration": 494,
    "start_time": "2024-07-09T00:31:48.609Z"
   },
   {
    "duration": 38,
    "start_time": "2024-07-09T00:31:49.106Z"
   },
   {
    "duration": 14,
    "start_time": "2024-07-09T00:31:49.147Z"
   },
   {
    "duration": 636,
    "start_time": "2024-07-09T00:31:49.164Z"
   },
   {
    "duration": 52,
    "start_time": "2024-07-09T00:31:49.803Z"
   },
   {
    "duration": 18,
    "start_time": "2024-07-09T00:31:49.858Z"
   },
   {
    "duration": 6,
    "start_time": "2024-07-09T00:31:49.879Z"
   },
   {
    "duration": 730,
    "start_time": "2024-07-09T00:31:49.888Z"
   },
   {
    "duration": 17,
    "start_time": "2024-07-09T00:31:50.621Z"
   },
   {
    "duration": 423,
    "start_time": "2024-07-09T00:31:50.642Z"
   },
   {
    "duration": 9,
    "start_time": "2024-07-09T00:31:51.068Z"
   },
   {
    "duration": 8,
    "start_time": "2024-07-09T00:31:51.080Z"
   },
   {
    "duration": 35,
    "start_time": "2024-07-09T00:31:51.096Z"
   },
   {
    "duration": 15,
    "start_time": "2024-07-09T00:31:51.134Z"
   },
   {
    "duration": 284,
    "start_time": "2024-07-09T00:31:51.152Z"
   },
   {
    "duration": 12,
    "start_time": "2024-07-09T00:31:51.439Z"
   },
   {
    "duration": 27,
    "start_time": "2024-07-09T00:31:51.453Z"
   },
   {
    "duration": 55,
    "start_time": "2024-07-09T00:31:51.482Z"
   },
   {
    "duration": 8,
    "start_time": "2024-07-09T00:31:51.539Z"
   },
   {
    "duration": 7,
    "start_time": "2024-07-09T00:31:51.550Z"
   },
   {
    "duration": 6,
    "start_time": "2024-07-09T00:31:51.560Z"
   },
   {
    "duration": 13,
    "start_time": "2024-07-09T00:31:51.569Z"
   },
   {
    "duration": 25,
    "start_time": "2024-07-09T00:31:54.033Z"
   },
   {
    "duration": 7,
    "start_time": "2024-07-09T00:33:34.659Z"
   },
   {
    "duration": 25,
    "start_time": "2024-07-09T00:33:55.700Z"
   },
   {
    "duration": 23,
    "start_time": "2024-07-09T00:35:00.111Z"
   },
   {
    "duration": 5,
    "start_time": "2024-07-09T00:35:07.139Z"
   },
   {
    "duration": 23,
    "start_time": "2024-07-09T00:35:07.148Z"
   },
   {
    "duration": 13,
    "start_time": "2024-07-09T00:35:07.174Z"
   },
   {
    "duration": 50,
    "start_time": "2024-07-09T00:35:07.193Z"
   },
   {
    "duration": 15,
    "start_time": "2024-07-09T00:35:07.247Z"
   },
   {
    "duration": 74,
    "start_time": "2024-07-09T00:35:07.265Z"
   },
   {
    "duration": 21,
    "start_time": "2024-07-09T00:35:07.342Z"
   },
   {
    "duration": 475,
    "start_time": "2024-07-09T00:35:07.366Z"
   },
   {
    "duration": 22,
    "start_time": "2024-07-09T00:35:07.844Z"
   },
   {
    "duration": 19,
    "start_time": "2024-07-09T00:35:07.871Z"
   },
   {
    "duration": 413,
    "start_time": "2024-07-09T00:35:07.893Z"
   },
   {
    "duration": 28,
    "start_time": "2024-07-09T00:35:08.309Z"
   },
   {
    "duration": 27,
    "start_time": "2024-07-09T00:35:08.340Z"
   },
   {
    "duration": 12,
    "start_time": "2024-07-09T00:35:08.371Z"
   },
   {
    "duration": 48,
    "start_time": "2024-07-09T00:35:08.387Z"
   },
   {
    "duration": 15,
    "start_time": "2024-07-09T00:35:08.438Z"
   },
   {
    "duration": 18,
    "start_time": "2024-07-09T00:35:08.456Z"
   },
   {
    "duration": 56,
    "start_time": "2024-07-09T00:35:08.476Z"
   },
   {
    "duration": 9,
    "start_time": "2024-07-09T00:35:08.535Z"
   },
   {
    "duration": 7,
    "start_time": "2024-07-09T00:35:08.549Z"
   },
   {
    "duration": 126,
    "start_time": "2024-07-09T00:35:08.559Z"
   },
   {
    "duration": 8,
    "start_time": "2024-07-09T00:35:08.688Z"
   },
   {
    "duration": 500,
    "start_time": "2024-07-09T00:35:08.699Z"
   },
   {
    "duration": 35,
    "start_time": "2024-07-09T00:35:09.202Z"
   },
   {
    "duration": 482,
    "start_time": "2024-07-09T00:35:09.240Z"
   },
   {
    "duration": 21,
    "start_time": "2024-07-09T00:35:09.730Z"
   },
   {
    "duration": 16,
    "start_time": "2024-07-09T00:35:09.754Z"
   },
   {
    "duration": 667,
    "start_time": "2024-07-09T00:35:09.778Z"
   },
   {
    "duration": 38,
    "start_time": "2024-07-09T00:35:10.448Z"
   },
   {
    "duration": 47,
    "start_time": "2024-07-09T00:35:10.489Z"
   },
   {
    "duration": 9,
    "start_time": "2024-07-09T00:35:10.539Z"
   },
   {
    "duration": 670,
    "start_time": "2024-07-09T00:35:10.551Z"
   },
   {
    "duration": 21,
    "start_time": "2024-07-09T00:35:11.223Z"
   },
   {
    "duration": 398,
    "start_time": "2024-07-09T00:35:11.249Z"
   },
   {
    "duration": 10,
    "start_time": "2024-07-09T00:35:11.650Z"
   },
   {
    "duration": 7,
    "start_time": "2024-07-09T00:35:11.664Z"
   },
   {
    "duration": 14,
    "start_time": "2024-07-09T00:35:11.674Z"
   },
   {
    "duration": 61,
    "start_time": "2024-07-09T00:35:11.692Z"
   },
   {
    "duration": 285,
    "start_time": "2024-07-09T00:35:11.764Z"
   },
   {
    "duration": 12,
    "start_time": "2024-07-09T00:35:12.052Z"
   },
   {
    "duration": 27,
    "start_time": "2024-07-09T00:35:12.070Z"
   },
   {
    "duration": 47,
    "start_time": "2024-07-09T00:35:12.101Z"
   },
   {
    "duration": 8,
    "start_time": "2024-07-09T00:35:12.151Z"
   },
   {
    "duration": 7,
    "start_time": "2024-07-09T00:35:12.162Z"
   },
   {
    "duration": 5,
    "start_time": "2024-07-09T00:35:12.172Z"
   },
   {
    "duration": 57,
    "start_time": "2024-07-09T00:35:12.181Z"
   },
   {
    "duration": 4,
    "start_time": "2024-07-09T00:35:48.616Z"
   },
   {
    "duration": 316,
    "start_time": "2024-07-10T02:42:03.751Z"
   },
   {
    "duration": 4888,
    "start_time": "2024-07-10T02:42:14.798Z"
   },
   {
    "duration": 46,
    "start_time": "2024-07-10T02:42:19.690Z"
   },
   {
    "duration": 12,
    "start_time": "2024-07-10T02:42:19.740Z"
   },
   {
    "duration": 18,
    "start_time": "2024-07-10T02:42:19.758Z"
   },
   {
    "duration": 41,
    "start_time": "2024-07-10T02:42:19.779Z"
   },
   {
    "duration": 24,
    "start_time": "2024-07-10T02:42:19.824Z"
   },
   {
    "duration": 23,
    "start_time": "2024-07-10T02:42:19.851Z"
   },
   {
    "duration": 521,
    "start_time": "2024-07-10T02:42:19.876Z"
   },
   {
    "duration": 21,
    "start_time": "2024-07-10T02:42:20.400Z"
   },
   {
    "duration": 22,
    "start_time": "2024-07-10T02:42:20.426Z"
   },
   {
    "duration": 400,
    "start_time": "2024-07-10T02:42:20.452Z"
   },
   {
    "duration": 23,
    "start_time": "2024-07-10T02:42:20.856Z"
   },
   {
    "duration": 56,
    "start_time": "2024-07-10T02:42:20.882Z"
   },
   {
    "duration": 10,
    "start_time": "2024-07-10T02:42:20.940Z"
   },
   {
    "duration": 14,
    "start_time": "2024-07-10T02:42:20.956Z"
   },
   {
    "duration": 47,
    "start_time": "2024-07-10T02:42:20.974Z"
   },
   {
    "duration": 17,
    "start_time": "2024-07-10T02:42:21.024Z"
   },
   {
    "duration": 15,
    "start_time": "2024-07-10T02:42:21.044Z"
   },
   {
    "duration": 50,
    "start_time": "2024-07-10T02:42:21.062Z"
   },
   {
    "duration": 7,
    "start_time": "2024-07-10T02:42:21.115Z"
   },
   {
    "duration": 13,
    "start_time": "2024-07-10T02:42:21.126Z"
   },
   {
    "duration": 7,
    "start_time": "2024-07-10T02:42:21.142Z"
   },
   {
    "duration": 9,
    "start_time": "2024-07-10T02:42:46.875Z"
   },
   {
    "duration": 10,
    "start_time": "2024-07-10T02:43:22.297Z"
   },
   {
    "duration": 7,
    "start_time": "2024-07-10T02:53:31.606Z"
   },
   {
    "duration": 929,
    "start_time": "2024-07-10T02:55:29.748Z"
   },
   {
    "duration": 5,
    "start_time": "2024-07-10T02:55:34.522Z"
   },
   {
    "duration": 26,
    "start_time": "2024-07-10T02:55:34.532Z"
   },
   {
    "duration": 12,
    "start_time": "2024-07-10T02:55:34.561Z"
   },
   {
    "duration": 48,
    "start_time": "2024-07-10T02:55:34.577Z"
   },
   {
    "duration": 13,
    "start_time": "2024-07-10T02:55:34.629Z"
   },
   {
    "duration": 25,
    "start_time": "2024-07-10T02:55:34.645Z"
   },
   {
    "duration": 61,
    "start_time": "2024-07-10T02:55:34.673Z"
   },
   {
    "duration": 467,
    "start_time": "2024-07-10T02:55:34.737Z"
   },
   {
    "duration": 25,
    "start_time": "2024-07-10T02:55:35.207Z"
   },
   {
    "duration": 23,
    "start_time": "2024-07-10T02:55:35.238Z"
   },
   {
    "duration": 412,
    "start_time": "2024-07-10T02:55:35.265Z"
   },
   {
    "duration": 38,
    "start_time": "2024-07-10T02:55:35.680Z"
   },
   {
    "duration": 27,
    "start_time": "2024-07-10T02:55:35.721Z"
   },
   {
    "duration": 10,
    "start_time": "2024-07-10T02:55:35.751Z"
   },
   {
    "duration": 50,
    "start_time": "2024-07-10T02:55:35.764Z"
   },
   {
    "duration": 17,
    "start_time": "2024-07-10T02:55:35.816Z"
   },
   {
    "duration": 20,
    "start_time": "2024-07-10T02:55:35.836Z"
   },
   {
    "duration": 16,
    "start_time": "2024-07-10T02:55:35.859Z"
   },
   {
    "duration": 10,
    "start_time": "2024-07-10T02:55:35.913Z"
   },
   {
    "duration": 8,
    "start_time": "2024-07-10T02:55:35.926Z"
   },
   {
    "duration": 13,
    "start_time": "2024-07-10T02:55:35.938Z"
   },
   {
    "duration": 8,
    "start_time": "2024-07-10T02:55:35.954Z"
   },
   {
    "duration": 11,
    "start_time": "2024-07-10T02:55:36.011Z"
   },
   {
    "duration": 80,
    "start_time": "2024-07-10T02:55:41.575Z"
   },
   {
    "duration": 32,
    "start_time": "2024-07-10T02:58:18.500Z"
   },
   {
    "duration": 4,
    "start_time": "2024-07-10T02:58:25.491Z"
   },
   {
    "duration": 23,
    "start_time": "2024-07-10T02:58:25.501Z"
   },
   {
    "duration": 14,
    "start_time": "2024-07-10T02:58:25.528Z"
   },
   {
    "duration": 15,
    "start_time": "2024-07-10T02:58:25.545Z"
   },
   {
    "duration": 14,
    "start_time": "2024-07-10T02:58:25.564Z"
   },
   {
    "duration": 26,
    "start_time": "2024-07-10T02:58:25.613Z"
   },
   {
    "duration": 22,
    "start_time": "2024-07-10T02:58:25.643Z"
   },
   {
    "duration": 484,
    "start_time": "2024-07-10T02:58:25.667Z"
   },
   {
    "duration": 21,
    "start_time": "2024-07-10T02:58:26.154Z"
   },
   {
    "duration": 49,
    "start_time": "2024-07-10T02:58:26.179Z"
   },
   {
    "duration": 481,
    "start_time": "2024-07-10T02:58:26.235Z"
   },
   {
    "duration": 23,
    "start_time": "2024-07-10T02:58:26.719Z"
   },
   {
    "duration": 26,
    "start_time": "2024-07-10T02:58:26.745Z"
   },
   {
    "duration": 45,
    "start_time": "2024-07-10T02:58:26.774Z"
   },
   {
    "duration": 9,
    "start_time": "2024-07-10T02:58:26.822Z"
   },
   {
    "duration": 15,
    "start_time": "2024-07-10T02:58:26.834Z"
   },
   {
    "duration": 61,
    "start_time": "2024-07-10T02:58:26.852Z"
   },
   {
    "duration": 15,
    "start_time": "2024-07-10T02:58:26.917Z"
   },
   {
    "duration": 11,
    "start_time": "2024-07-10T02:58:26.935Z"
   },
   {
    "duration": 9,
    "start_time": "2024-07-10T02:58:26.948Z"
   },
   {
    "duration": 54,
    "start_time": "2024-07-10T02:58:26.960Z"
   },
   {
    "duration": 9,
    "start_time": "2024-07-10T02:58:27.018Z"
   },
   {
    "duration": 11,
    "start_time": "2024-07-10T02:58:27.030Z"
   },
   {
    "duration": 11,
    "start_time": "2024-07-10T02:58:45.839Z"
   },
   {
    "duration": 15,
    "start_time": "2024-07-10T03:06:14.052Z"
   },
   {
    "duration": 25,
    "start_time": "2024-07-10T03:06:20.325Z"
   },
   {
    "duration": 21,
    "start_time": "2024-07-10T03:06:24.529Z"
   },
   {
    "duration": 21,
    "start_time": "2024-07-10T03:06:31.102Z"
   },
   {
    "duration": 6,
    "start_time": "2024-07-10T03:06:41.979Z"
   },
   {
    "duration": 8,
    "start_time": "2024-07-10T03:14:52.295Z"
   },
   {
    "duration": 23,
    "start_time": "2024-07-10T03:46:01.701Z"
   },
   {
    "duration": 543,
    "start_time": "2024-07-10T03:49:17.789Z"
   },
   {
    "duration": 24,
    "start_time": "2024-07-10T03:50:58.371Z"
   },
   {
    "duration": 35,
    "start_time": "2024-07-10T03:51:33.819Z"
   },
   {
    "duration": 512,
    "start_time": "2024-07-10T03:52:18.338Z"
   },
   {
    "duration": 24,
    "start_time": "2024-07-10T03:54:48.186Z"
   },
   {
    "duration": 14,
    "start_time": "2024-07-10T03:55:38.978Z"
   },
   {
    "duration": 658,
    "start_time": "2024-07-10T03:56:11.178Z"
   },
   {
    "duration": 58,
    "start_time": "2024-07-10T03:59:03.700Z"
   },
   {
    "duration": 22,
    "start_time": "2024-07-10T03:59:28.702Z"
   },
   {
    "duration": 12,
    "start_time": "2024-07-10T04:00:13.139Z"
   },
   {
    "duration": 750,
    "start_time": "2024-07-10T04:00:14.006Z"
   },
   {
    "duration": 16,
    "start_time": "2024-07-10T04:00:47.051Z"
   },
   {
    "duration": 493,
    "start_time": "2024-07-10T04:00:47.757Z"
   },
   {
    "duration": 13,
    "start_time": "2024-07-10T04:02:01.842Z"
   },
   {
    "duration": 6,
    "start_time": "2024-07-10T04:02:02.777Z"
   },
   {
    "duration": 11,
    "start_time": "2024-07-10T04:02:12.196Z"
   },
   {
    "duration": 17,
    "start_time": "2024-07-10T04:02:51.598Z"
   },
   {
    "duration": 319,
    "start_time": "2024-07-10T04:03:18.069Z"
   },
   {
    "duration": 22,
    "start_time": "2024-07-10T04:04:04.818Z"
   },
   {
    "duration": 22,
    "start_time": "2024-07-10T04:04:37.363Z"
   },
   {
    "duration": 26,
    "start_time": "2024-07-10T04:06:52.625Z"
   },
   {
    "duration": 10,
    "start_time": "2024-07-10T04:10:42.817Z"
   },
   {
    "duration": 9,
    "start_time": "2024-07-10T04:10:45.214Z"
   },
   {
    "duration": 10,
    "start_time": "2024-07-10T04:10:50.926Z"
   },
   {
    "duration": 21,
    "start_time": "2024-07-10T04:12:51.740Z"
   },
   {
    "duration": 4,
    "start_time": "2024-07-10T04:12:54.487Z"
   }
  ],
  "kernelspec": {
   "display_name": "Python 3 (ipykernel)",
   "language": "python",
   "name": "python3"
  },
  "language_info": {
   "codemirror_mode": {
    "name": "ipython",
    "version": 3
   },
   "file_extension": ".py",
   "mimetype": "text/x-python",
   "name": "python",
   "nbconvert_exporter": "python",
   "pygments_lexer": "ipython3",
   "version": "3.12.2"
  },
  "toc": {
   "base_numbering": 1,
   "nav_menu": {},
   "number_sections": true,
   "sideBar": true,
   "skip_h1_title": true,
   "title_cell": "Table of Contents",
   "title_sidebar": "Contents",
   "toc_cell": false,
   "toc_position": {},
   "toc_section_display": true,
   "toc_window_display": false
  }
 },
 "nbformat": 4,
 "nbformat_minor": 2
}
